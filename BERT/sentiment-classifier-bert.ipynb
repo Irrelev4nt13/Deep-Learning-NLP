{
 "cells": [
  {
   "cell_type": "markdown",
   "id": "71ab83ec",
   "metadata": {
    "papermill": {
     "duration": 0.019044,
     "end_time": "2024-02-28T17:30:27.721535",
     "exception": false,
     "start_time": "2024-02-28T17:30:27.702491",
     "status": "completed"
    },
    "tags": []
   },
   "source": [
    "# Twitter Sentiment Classifier | BERT\n",
    "### Chatzispyrou Michail - 1115202000212"
   ]
  },
  {
   "cell_type": "markdown",
   "id": "6d644d05",
   "metadata": {
    "papermill": {
     "duration": 0.019192,
     "end_time": "2024-02-28T17:30:27.759588",
     "exception": false,
     "start_time": "2024-02-28T17:30:27.740396",
     "status": "completed"
    },
    "tags": []
   },
   "source": [
    "# Import essential libraries"
   ]
  },
  {
   "cell_type": "code",
   "execution_count": 1,
   "id": "39a14758",
   "metadata": {
    "execution": {
     "iopub.execute_input": "2024-02-28T17:30:27.798087Z",
     "iopub.status.busy": "2024-02-28T17:30:27.797319Z",
     "iopub.status.idle": "2024-02-28T17:31:33.554433Z",
     "shell.execute_reply": "2024-02-28T17:31:33.553582Z"
    },
    "papermill": {
     "duration": 65.77902,
     "end_time": "2024-02-28T17:31:33.556804",
     "exception": false,
     "start_time": "2024-02-28T17:30:27.777784",
     "status": "completed"
    },
    "tags": []
   },
   "outputs": [
    {
     "name": "stdout",
     "output_type": "stream",
     "text": [
      "\u001b[38;5;2m✔ Download and installation successful\u001b[0m\r\n",
      "You can now load the package via spacy.load('el_core_news_lg')\r\n"
     ]
    }
   ],
   "source": [
    "import os\n",
    "import random\n",
    "import time\n",
    "import string\n",
    "import csv\n",
    "import optuna\n",
    "\n",
    "from optuna.visualization import plot_edf\n",
    "from optuna.visualization import plot_optimization_history\n",
    "from optuna.visualization import plot_parallel_coordinate\n",
    "from optuna.visualization import plot_param_importances\n",
    "from optuna.visualization import plot_slice\n",
    "\n",
    "\n",
    "import re\n",
    "import numpy as np\n",
    "import pandas as pd\n",
    "pd.set_option('display.max_colwidth', 100) \n",
    "\n",
    "import nltk\n",
    "from nltk.tokenize import word_tokenize\n",
    "\n",
    "import spacy\n",
    "!python -m spacy download el_core_news_lg --quiet\n",
    "nlp = spacy.load(\"el_core_news_lg\")\n",
    "\n",
    "import unicodedata\n",
    "from unidecode import unidecode\n",
    "\n",
    "import seaborn as sns\n",
    "import matplotlib as mpl\n",
    "import matplotlib.pyplot as plt\n",
    "plt.style.use(\"seaborn-v0_8\")\n",
    "%matplotlib inline\n",
    "from matplotlib.ticker import ScalarFormatter\n",
    "\n",
    "from gensim.models import Word2Vec\n",
    "\n",
    "from tabulate import tabulate\n",
    "\n",
    "import torch\n",
    "import torch.nn as nn\n",
    "import torch.nn.functional as F\n",
    "from torch.utils.data import TensorDataset, DataLoader\n",
    "\n",
    "from torchmetrics import F1Score, Precision, Recall, Accuracy, ConfusionMatrix\n",
    "\n",
    "from sklearn.metrics import accuracy_score, precision_score, recall_score, f1_score, classification_report\n",
    "from sklearn.metrics import roc_curve, auc, confusion_matrix, ConfusionMatrixDisplay\n",
    "\n",
    "from transformers import AutoTokenizer, AutoModel, logging\n",
    "logging.set_verbosity_error()"
   ]
  },
  {
   "cell_type": "markdown",
   "id": "2ae1c121",
   "metadata": {
    "papermill": {
     "duration": 0.018911,
     "end_time": "2024-02-28T17:31:33.595845",
     "exception": false,
     "start_time": "2024-02-28T17:31:33.576934",
     "status": "completed"
    },
    "tags": []
   },
   "source": [
    "# Paths\n",
    "We are defening some basic paths to make our life easier when reading or writing a file"
   ]
  },
  {
   "cell_type": "code",
   "execution_count": 2,
   "id": "c1c3e1fb",
   "metadata": {
    "execution": {
     "iopub.execute_input": "2024-02-28T17:31:33.637048Z",
     "iopub.status.busy": "2024-02-28T17:31:33.635894Z",
     "iopub.status.idle": "2024-02-28T17:31:34.643510Z",
     "shell.execute_reply": "2024-02-28T17:31:34.642316Z"
    },
    "papermill": {
     "duration": 1.030816,
     "end_time": "2024-02-28T17:31:34.646117",
     "exception": false,
     "start_time": "2024-02-28T17:31:33.615301",
     "status": "completed"
    },
    "tags": []
   },
   "outputs": [],
   "source": [
    "ROOT_PATH = \"/kaggle/\"\n",
    "INPUT_PATH = ROOT_PATH + \"input/ys19-2023-assignment-4a/\"\n",
    "OUTPUT_PATH = ROOT_PATH + \"working/\"\n",
    "!mkdir MODELS"
   ]
  },
  {
   "cell_type": "markdown",
   "id": "65e065d9",
   "metadata": {
    "papermill": {
     "duration": 0.018323,
     "end_time": "2024-02-28T17:31:34.684206",
     "exception": false,
     "start_time": "2024-02-28T17:31:34.665883",
     "status": "completed"
    },
    "tags": []
   },
   "source": [
    "# Plotting functions\n",
    "Since we were asked to plot data multiple times I preferred to make functions for each one of the plots."
   ]
  },
  {
   "cell_type": "code",
   "execution_count": 3,
   "id": "adb98611",
   "metadata": {
    "execution": {
     "iopub.execute_input": "2024-02-28T17:31:34.723814Z",
     "iopub.status.busy": "2024-02-28T17:31:34.723374Z",
     "iopub.status.idle": "2024-02-28T17:31:35.070575Z",
     "shell.execute_reply": "2024-02-28T17:31:35.069670Z"
    },
    "papermill": {
     "duration": 0.370069,
     "end_time": "2024-02-28T17:31:35.072592",
     "exception": false,
     "start_time": "2024-02-28T17:31:34.702523",
     "status": "completed"
    },
    "tags": []
   },
   "outputs": [],
   "source": [
    "def countplot(data, labels, percent, show, sort, title):\n",
    "    if sort is not None:\n",
    "        ax = sns.countplot(x=data, order=data.value_counts().sort_values(ascending=True).index)\n",
    "    else:\n",
    "        ax = sns.countplot(x=data)\n",
    "    if percent is not None:\n",
    "        for i in ax.containers:\n",
    "            heights = [p.get_height() for p in i]\n",
    "            for p, height in zip(i, heights):\n",
    "                percentage = (height / len(data)) * 100\n",
    "                ax.annotate(f\"{int(height)}\",\n",
    "                    (p.get_x() + p.get_width() / 2.0, height),\n",
    "                    ha=\"center\",\n",
    "                    va=\"center\",\n",
    "                    xytext=(0, 5),\n",
    "                    textcoords=\"offset points\")\n",
    "                ax.annotate(f\"{percentage:.2f}%\",\n",
    "                    (p.get_x() + p.get_width() / 2.0, height),\n",
    "                    ha=\"center\",\n",
    "                    va=\"center\",\n",
    "                    fontsize=9,\n",
    "                    xytext=(0, -11),\n",
    "                    textcoords=\"offset points\")\n",
    "    else:\n",
    "        for i in ax.containers:\n",
    "            ax.bar_label(i,)\n",
    "    if len(labels) == 2:\n",
    "        plt.xlabel(labels[0])\n",
    "        plt.ylabel(labels[1])\n",
    "    else:\n",
    "        plt.ylabel(labels[0])\n",
    "    plt.title(title)\n",
    "    if show:\n",
    "        plt.show()\n",
    "\n",
    "def stackedcountplot(data, labels, x, hue, show, sort, title):\n",
    "    custom_pallete = {\"POSITIVE\": \"Green\", \"NEGATIVE\": \"red\", \"NEUTRAL\": \"gray\"}\n",
    "    if sort is not None:\n",
    "        ax = sns.countplot(data=data, x=x, hue=hue, order=data[x].value_counts().sort_values(ascending=True).index,\n",
    "                     palette=custom_pallete)\n",
    "    else:\n",
    "        ax = sns.countplot(data=data, x=x, hue=hue, palette=custom_pallete)\n",
    "    \n",
    "    for p in ax.patches:\n",
    "        height = p.get_height()\n",
    "        ax.annotate(f'{int(height)}',(p.get_x() + p.get_width() / 2., height),fontsize = 7,ha='center',va='bottom') \n",
    "    \n",
    "    if len(labels) == 2:\n",
    "        plt.xlabel(labels[0])\n",
    "        plt.ylabel(labels[1])\n",
    "    else:\n",
    "        plt.ylabel(labels[0])\n",
    "    plt.title(title)\n",
    "    if show:\n",
    "        plt.show()\n",
    "        \n",
    "def bar_chart(data, show, title, labels):\n",
    "    fig, ax = plt.subplots()\n",
    "    sns.barplot(x=labels, y=data, ax=ax)\n",
    "    ax.set_xticklabels(ax.get_xticklabels(), fontsize=7)\n",
    "    ax.set_title(title)\n",
    "    # Add numbers on top of the bars\n",
    "    if title == \"Time Taken\":\n",
    "        for i, val in enumerate(data):\n",
    "            ax.text(i, val, val, ha='center', va='bottom', fontsize=9)\n",
    "    else:\n",
    "        for i, val in enumerate(data):\n",
    "            ax.text(i, val, f\"{val*100:.2f}%\", ha='center', va='bottom', fontsize=9)\n",
    "    if show:\n",
    "        plt.show()\n",
    "\n",
    "def custom_roc_curve(Y_val, y_score, show):\n",
    "    # Compute ROC curve and AUC for each class\n",
    "    fpr = dict()\n",
    "    tpr = dict()\n",
    "    roc_auc = dict()\n",
    "    classes = [0, 1, 2]\n",
    "    for i, label in enumerate(classes):\n",
    "        fpr[i], tpr[i], _ = roc_curve(Y_val == label, y_score[:, i])\n",
    "        roc_auc[i] = auc(fpr[i], tpr[i])\n",
    "\n",
    "    # Plot ROC curves for each class\n",
    "    classes = [\"NEGATIVE\", \"NEUTRAL\", \"POSITIVE\"]\n",
    "    for i in range(len(classes)):\n",
    "        plt.plot(fpr[i], tpr[i], label=f'ROC curve {classes[i]} (AUC = {roc_auc[i]*100:0.2f}%)')\n",
    "\n",
    "    plt.plot([0, 1], [0, 1], 'k--')\n",
    "    plt.xlabel('False Positive Rate')\n",
    "    plt.ylabel('True Positive Rate')\n",
    "    plt.legend(loc=\"lower right\")\n",
    "    if show:\n",
    "        plt.show()\n",
    "\n",
    "def custom_learning_curve(train_score, test_score, size, xlabel, ylabel, show):\n",
    "    plt.plot(size, train_score, 'o-', color=\"r\", label=\"Training\")\n",
    "    plt.plot(size, test_score, 'o-', color=\"g\", label=\"Validation\")\n",
    "#     plt.plot(size, train_score, color=\"r\", label=\"Training\")\n",
    "#     plt.plot(size, test_score, color=\"g\", label=\"Validation\")\n",
    "    \n",
    "    plt.legend(loc=\"best\")\n",
    "    plt.ylabel(ylabel=ylabel)\n",
    "    plt.xlabel(xlabel=xlabel)\n",
    "    if show:\n",
    "        plt.show()\n",
    "\n",
    "def custom_confusion_matrix(conf_matrix, show):\n",
    "    # Generate and print confusion matrix  \n",
    "    cm_display = ConfusionMatrixDisplay(confusion_matrix = conf_matrix, display_labels = [\"NEGATIVE\", \"NEUTRAL\", \"POSITIVE\"])\n",
    "    cm_display.plot(ax=plt.gca())\n",
    "    plt.grid(False)\n",
    "    plt.xlabel('Predicted')\n",
    "    plt.ylabel('True')\n",
    "    if show:\n",
    "        plt.show()"
   ]
  },
  {
   "cell_type": "markdown",
   "id": "ea5aa327",
   "metadata": {
    "papermill": {
     "duration": 0.019527,
     "end_time": "2024-02-28T17:31:35.111369",
     "exception": false,
     "start_time": "2024-02-28T17:31:35.091842",
     "status": "completed"
    },
    "tags": []
   },
   "source": [
    "# Eliminate Randomness\n",
    "In order for us to achieve the same results in every execution of the notebook we are going to create a function which will initialize all the seeds with a specific number."
   ]
  },
  {
   "cell_type": "code",
   "execution_count": 4,
   "id": "5abce4ba",
   "metadata": {
    "execution": {
     "iopub.execute_input": "2024-02-28T17:31:35.150230Z",
     "iopub.status.busy": "2024-02-28T17:31:35.149461Z",
     "iopub.status.idle": "2024-02-28T17:31:35.155025Z",
     "shell.execute_reply": "2024-02-28T17:31:35.154081Z"
    },
    "papermill": {
     "duration": 0.02725,
     "end_time": "2024-02-28T17:31:35.156935",
     "exception": false,
     "start_time": "2024-02-28T17:31:35.129685",
     "status": "completed"
    },
    "tags": []
   },
   "outputs": [],
   "source": [
    "def randonmness_elimination(seed=212):\n",
    "    random.seed(seed)\n",
    "    np.random.seed(seed)\n",
    "    torch.manual_seed(seed)\n",
    "    torch.backends.cudnn.deterministic = True\n",
    "    torch.backends.cudnn.benchmark = False\n",
    "    torch.cuda.manual_seed_all(seed)\n",
    "    os.environ['PYTHONHASHSEED'] = str(seed)"
   ]
  },
  {
   "cell_type": "code",
   "execution_count": 5,
   "id": "448dd446",
   "metadata": {
    "execution": {
     "iopub.execute_input": "2024-02-28T17:31:35.196144Z",
     "iopub.status.busy": "2024-02-28T17:31:35.195552Z",
     "iopub.status.idle": "2024-02-28T17:31:35.202071Z",
     "shell.execute_reply": "2024-02-28T17:31:35.201318Z"
    },
    "papermill": {
     "duration": 0.028745,
     "end_time": "2024-02-28T17:31:35.204065",
     "exception": false,
     "start_time": "2024-02-28T17:31:35.175320",
     "status": "completed"
    },
    "tags": []
   },
   "outputs": [],
   "source": [
    "randonmness_elimination(212)"
   ]
  },
  {
   "cell_type": "markdown",
   "id": "9c588445",
   "metadata": {
    "papermill": {
     "duration": 0.018143,
     "end_time": "2024-02-28T17:31:35.240572",
     "exception": false,
     "start_time": "2024-02-28T17:31:35.222429",
     "status": "completed"
    },
    "tags": []
   },
   "source": [
    "# Loading the Dataset\n",
    "We are going to load the datasets"
   ]
  },
  {
   "cell_type": "code",
   "execution_count": 6,
   "id": "82410b55",
   "metadata": {
    "execution": {
     "iopub.execute_input": "2024-02-28T17:31:35.278734Z",
     "iopub.status.busy": "2024-02-28T17:31:35.278201Z",
     "iopub.status.idle": "2024-02-28T17:31:35.676922Z",
     "shell.execute_reply": "2024-02-28T17:31:35.675910Z"
    },
    "papermill": {
     "duration": 0.420619,
     "end_time": "2024-02-28T17:31:35.679443",
     "exception": false,
     "start_time": "2024-02-28T17:31:35.258824",
     "status": "completed"
    },
    "tags": []
   },
   "outputs": [],
   "source": [
    "# csv -> dataframe\n",
    "df_train = pd.read_csv(INPUT_PATH + \"train_set.csv\")\n",
    "df_val = pd.read_csv(INPUT_PATH + \"valid_set.csv\")"
   ]
  },
  {
   "cell_type": "markdown",
   "id": "bb7f9166",
   "metadata": {
    "papermill": {
     "duration": 0.018753,
     "end_time": "2024-02-28T17:31:35.717567",
     "exception": false,
     "start_time": "2024-02-28T17:31:35.698814",
     "status": "completed"
    },
    "tags": []
   },
   "source": [
    "# Exploring the Dataset\n",
    "We are going to examine the structure of the datasets in order to gain valuable insights about the data\n",
    "\n",
    "## Firstly, we are going to check the form of the data and its content"
   ]
  },
  {
   "cell_type": "code",
   "execution_count": 7,
   "id": "810ad172",
   "metadata": {
    "execution": {
     "iopub.execute_input": "2024-02-28T17:31:35.757917Z",
     "iopub.status.busy": "2024-02-28T17:31:35.757019Z",
     "iopub.status.idle": "2024-02-28T17:31:35.780052Z",
     "shell.execute_reply": "2024-02-28T17:31:35.779171Z"
    },
    "papermill": {
     "duration": 0.044803,
     "end_time": "2024-02-28T17:31:35.782049",
     "exception": false,
     "start_time": "2024-02-28T17:31:35.737246",
     "status": "completed"
    },
    "tags": []
   },
   "outputs": [
    {
     "data": {
      "text/html": [
       "<div>\n",
       "<style scoped>\n",
       "    .dataframe tbody tr th:only-of-type {\n",
       "        vertical-align: middle;\n",
       "    }\n",
       "\n",
       "    .dataframe tbody tr th {\n",
       "        vertical-align: top;\n",
       "    }\n",
       "\n",
       "    .dataframe thead th {\n",
       "        text-align: right;\n",
       "    }\n",
       "</style>\n",
       "<table border=\"1\" class=\"dataframe\">\n",
       "  <thead>\n",
       "    <tr style=\"text-align: right;\">\n",
       "      <th></th>\n",
       "      <th>New_ID</th>\n",
       "      <th>Text</th>\n",
       "      <th>Sentiment</th>\n",
       "      <th>Party</th>\n",
       "    </tr>\n",
       "  </thead>\n",
       "  <tbody>\n",
       "    <tr>\n",
       "      <th>0</th>\n",
       "      <td>35027</td>\n",
       "      <td>#απολυμανση_κοριοι #απεντομωση_κοριος #απολυμανσεις #κοριος#Alphatv #Την Κυριακη  #Κουλης #Τσιπρ...</td>\n",
       "      <td>NEUTRAL</td>\n",
       "      <td>SYRIZA</td>\n",
       "    </tr>\n",
       "    <tr>\n",
       "      <th>1</th>\n",
       "      <td>9531</td>\n",
       "      <td>Έξι νέες επιστολές για τη Μακεδονία «καίνε» τη ΝΔ - Ο Μητσοτάκης γνώριζε και δίχασε το έθνος htt...</td>\n",
       "      <td>NEGATIVE</td>\n",
       "      <td>ND</td>\n",
       "    </tr>\n",
       "    <tr>\n",
       "      <th>2</th>\n",
       "      <td>14146</td>\n",
       "      <td>Ισχυρό ΚΚΕ, δύναμη του λαού στη Βουλή και στους καθημερινούς αγώνες</td>\n",
       "      <td>POSITIVE</td>\n",
       "      <td>KKE</td>\n",
       "    </tr>\n",
       "    <tr>\n",
       "      <th>3</th>\n",
       "      <td>28716</td>\n",
       "      <td>@five2nds @anthi7vas Μνημονιακότατο το #ΜεΡΑ25  #Εκλογες_2019 #8iouliou #epomeni_mera #ΤΩΡΑ_ΚΚΕ ...</td>\n",
       "      <td>NEUTRAL</td>\n",
       "      <td>KKE</td>\n",
       "    </tr>\n",
       "    <tr>\n",
       "      <th>4</th>\n",
       "      <td>32886</td>\n",
       "      <td>@ai_katerina Αυτό που είναι συγκλονιστικό είναι η ψυχασθένεια του Τσίπρα!</td>\n",
       "      <td>NEUTRAL</td>\n",
       "      <td>SYRIZA</td>\n",
       "    </tr>\n",
       "    <tr>\n",
       "      <th>...</th>\n",
       "      <td>...</td>\n",
       "      <td>...</td>\n",
       "      <td>...</td>\n",
       "      <td>...</td>\n",
       "    </tr>\n",
       "    <tr>\n",
       "      <th>36625</th>\n",
       "      <td>35374</td>\n",
       "      <td>@KourtakisJohn @kmitsotakis Ο Κούλης ο Μητσοτάκης λέει ψέματα!!!Δεν άδειασε κανένα Μπάμπη Παπαδη...</td>\n",
       "      <td>NEUTRAL</td>\n",
       "      <td>ND</td>\n",
       "    </tr>\n",
       "    <tr>\n",
       "      <th>36626</th>\n",
       "      <td>7744</td>\n",
       "      <td>@enikos_gr @NChatzinikolaou @AdonisGeorgiadi Πρόσεξε μην σκίσει και κανένα καλσόν. Επίσης ... χά...</td>\n",
       "      <td>NEGATIVE</td>\n",
       "      <td>ND</td>\n",
       "    </tr>\n",
       "    <tr>\n",
       "      <th>36627</th>\n",
       "      <td>35216</td>\n",
       "      <td>Η θέση του ΚΚΕ για την ασφάλεια των πολιτών και τους διάφορους Ρουβίκωνες είναι η βαθιά κρίση το...</td>\n",
       "      <td>NEUTRAL</td>\n",
       "      <td>KKE</td>\n",
       "    </tr>\n",
       "    <tr>\n",
       "      <th>36628</th>\n",
       "      <td>2855</td>\n",
       "      <td>@thanosplevris Μαρη κακομοίρα θυγατέρα του ναζιστη αντισημίτη, έχεις ξεφτιλιστεί τόσο πολύ που ο...</td>\n",
       "      <td>NEGATIVE</td>\n",
       "      <td>ND</td>\n",
       "    </tr>\n",
       "    <tr>\n",
       "      <th>36629</th>\n",
       "      <td>25500</td>\n",
       "      <td>@gijjstalking @SpirosR76 Εντάξει με έπεισες! Και εγω ΚΚΕ! 🤘❤️</td>\n",
       "      <td>NEUTRAL</td>\n",
       "      <td>KKE</td>\n",
       "    </tr>\n",
       "  </tbody>\n",
       "</table>\n",
       "<p>36630 rows × 4 columns</p>\n",
       "</div>"
      ],
      "text/plain": [
       "       New_ID  \\\n",
       "0       35027   \n",
       "1        9531   \n",
       "2       14146   \n",
       "3       28716   \n",
       "4       32886   \n",
       "...       ...   \n",
       "36625   35374   \n",
       "36626    7744   \n",
       "36627   35216   \n",
       "36628    2855   \n",
       "36629   25500   \n",
       "\n",
       "                                                                                                      Text  \\\n",
       "0      #απολυμανση_κοριοι #απεντομωση_κοριος #απολυμανσεις #κοριος#Alphatv #Την Κυριακη  #Κουλης #Τσιπρ...   \n",
       "1      Έξι νέες επιστολές για τη Μακεδονία «καίνε» τη ΝΔ - Ο Μητσοτάκης γνώριζε και δίχασε το έθνος htt...   \n",
       "2                                      Ισχυρό ΚΚΕ, δύναμη του λαού στη Βουλή και στους καθημερινούς αγώνες   \n",
       "3      @five2nds @anthi7vas Μνημονιακότατο το #ΜεΡΑ25  #Εκλογες_2019 #8iouliou #epomeni_mera #ΤΩΡΑ_ΚΚΕ ...   \n",
       "4                                @ai_katerina Αυτό που είναι συγκλονιστικό είναι η ψυχασθένεια του Τσίπρα!   \n",
       "...                                                                                                    ...   \n",
       "36625  @KourtakisJohn @kmitsotakis Ο Κούλης ο Μητσοτάκης λέει ψέματα!!!Δεν άδειασε κανένα Μπάμπη Παπαδη...   \n",
       "36626  @enikos_gr @NChatzinikolaou @AdonisGeorgiadi Πρόσεξε μην σκίσει και κανένα καλσόν. Επίσης ... χά...   \n",
       "36627  Η θέση του ΚΚΕ για την ασφάλεια των πολιτών και τους διάφορους Ρουβίκωνες είναι η βαθιά κρίση το...   \n",
       "36628  @thanosplevris Μαρη κακομοίρα θυγατέρα του ναζιστη αντισημίτη, έχεις ξεφτιλιστεί τόσο πολύ που ο...   \n",
       "36629                                        @gijjstalking @SpirosR76 Εντάξει με έπεισες! Και εγω ΚΚΕ! 🤘❤️   \n",
       "\n",
       "      Sentiment   Party  \n",
       "0       NEUTRAL  SYRIZA  \n",
       "1      NEGATIVE      ND  \n",
       "2      POSITIVE     KKE  \n",
       "3       NEUTRAL     KKE  \n",
       "4       NEUTRAL  SYRIZA  \n",
       "...         ...     ...  \n",
       "36625   NEUTRAL      ND  \n",
       "36626  NEGATIVE      ND  \n",
       "36627   NEUTRAL     KKE  \n",
       "36628  NEGATIVE      ND  \n",
       "36629   NEUTRAL     KKE  \n",
       "\n",
       "[36630 rows x 4 columns]"
      ]
     },
     "execution_count": 7,
     "metadata": {},
     "output_type": "execute_result"
    }
   ],
   "source": [
    "# print the data frame\n",
    "df_train"
   ]
  },
  {
   "cell_type": "markdown",
   "id": "f7582cb5",
   "metadata": {
    "papermill": {
     "duration": 0.019921,
     "end_time": "2024-02-28T17:31:35.824134",
     "exception": false,
     "start_time": "2024-02-28T17:31:35.804213",
     "status": "completed"
    },
    "tags": []
   },
   "source": [
    "We can see that the train set consists of the following 4 columns:\n",
    "* ID $\\rightarrow$ the ID of the tweet in the dataset\n",
    "* Text $\\rightarrow$ the text of the tweet\n",
    "* Sentiment $\\rightarrow$ the sentiment label POSITIVE, NEUTRAL or NEGATIVE\n",
    "* Party $\\rightarrow$ the potilical party the tweet is reffering to\n",
    "Finally, we can see that the number of data which will be used to train our model is 36630\n",
    "\n",
    "## We continue the examination by visualizing the number of tweets for every political party and also the number of each sentiment label for the corresponding political party"
   ]
  },
  {
   "cell_type": "code",
   "execution_count": 8,
   "id": "17d337f6",
   "metadata": {
    "execution": {
     "iopub.execute_input": "2024-02-28T17:31:35.866566Z",
     "iopub.status.busy": "2024-02-28T17:31:35.865712Z",
     "iopub.status.idle": "2024-02-28T17:31:38.190994Z",
     "shell.execute_reply": "2024-02-28T17:31:38.189998Z"
    },
    "papermill": {
     "duration": 2.349008,
     "end_time": "2024-02-28T17:31:38.193191",
     "exception": false,
     "start_time": "2024-02-28T17:31:35.844183",
     "status": "completed"
    },
    "tags": []
   },
   "outputs": [
    {
     "data": {
      "image/png": "[encoded data removed]",
      "text/plain": [
       "<Figure size 800x550 with 1 Axes>"
      ]
     },
     "metadata": {},
     "output_type": "display_data"
    },
    {
     "data": {
      "image/png": "[encoded data removed]",
      "text/plain": [
       "<Figure size 800x550 with 1 Axes>"
      ]
     },
     "metadata": {},
     "output_type": "display_data"
    },
    {
     "data": {
      "image/png": "[encoded data removed]",
      "text/plain": [
       "<Figure size 800x550 with 1 Axes>"
      ]
     },
     "metadata": {},
     "output_type": "display_data"
    }
   ],
   "source": [
    "# Get the unique values for party\n",
    "unique_values = df_train[\"Party\"].unique()\n",
    "# Find for each unique value their occurence\n",
    "occurences = df_train[\"Party\"].value_counts()[unique_values]\n",
    "# Make a countplot\n",
    "countplot(df_train[\"Party\"], [\"Political Party\",\"Tweets\"], True, False, True, \"Tweets - Political Party\")\n",
    "try:\n",
    "    plt.savefig('explore/tweets_pp.png')    \n",
    "except:\n",
    "    !mkdir explore\n",
    "    plt.savefig('explore/tweets_pp.png')    \n",
    "plt.show()\n",
    "# Make the stacked countplot\n",
    "stackedcountplot(df_train, [\"Political Party\",\"Sentiments\"], \"Party\", \"Sentiment\", False, True, \"Sentiment Class - Political Party\")\n",
    "try:\n",
    "    plt.savefig('explore/sentiment_pp.png')    \n",
    "except:\n",
    "    !mkdir explore\n",
    "    plt.savefig('explore/sentiment_pp.png')\n",
    "plt.show()\n",
    "# Get the unique values for sentiment\n",
    "unique_values = df_train[\"Sentiment\"].unique()\n",
    "# Find for each unique value their occurence\n",
    "occurences = df_train[\"Sentiment\"].value_counts()[unique_values]\n",
    "countplot(df_train[\"Sentiment\"], [\"Tweets\",\"Sentiment Category\"], True, False, None, \"Tweets - Sentiment\")\n",
    "try:\n",
    "    plt.savefig('explore/t_s.png')    \n",
    "except:\n",
    "    !mkdir explore\n",
    "    plt.savefig('explore/t_s.png')  \n",
    "plt.show()"
   ]
  },
  {
   "cell_type": "markdown",
   "id": "c450d6b3",
   "metadata": {
    "papermill": {
     "duration": 0.020602,
     "end_time": "2024-02-28T17:31:38.235194",
     "exception": false,
     "start_time": "2024-02-28T17:31:38.214592",
     "status": "completed"
    },
    "tags": []
   },
   "source": [
    "Having thoroughly examined the dataset, we can now draw the following conclusions:\n",
    "* The dataset is evenly distributed in terms of sentiment categories: </br></br>\n",
    "&nbsp;&nbsp;12210 are NATURAL</br>\n",
    "&nbsp;&nbsp;12210 are NEGATIVE</br>\n",
    "&nbsp;&nbsp;12210 are POSITIVE</br></br>\n",
    "* 39.59% of the tweets are reffering to \"SYRIZA\" in which:</br></br>\n",
    "&nbsp;&nbsp;4559 are NATURAL</br>\n",
    "&nbsp;&nbsp;5412 are NEGATIVE</br>\n",
    "&nbsp;&nbsp;4529 are POSITIVE</br></br>\n",
    "* 31.63% of the tweets are reffering to \"ND\" from which:</br></br>\n",
    "&nbsp;&nbsp;3887 are NATURAL</br>\n",
    "&nbsp;&nbsp;3438 are NEGATIVE</br>\n",
    "&nbsp;&nbsp;4261 are POSITIVE</br></br>\n",
    "* 14.01% of the tweets are reffering to \"PASOK\" from which:</br></br>\n",
    "&nbsp;&nbsp;1755 are NATURAL</br>\n",
    "&nbsp;&nbsp;1682 are NEGATIVE</br>\n",
    "&nbsp;&nbsp;1696 are POSITIVE</br></br>\n",
    "*  7.83% of the tweets are reffering to \"KKE\" from which:</br></br>\n",
    "&nbsp;&nbsp;1110 are NATURAL</br>\n",
    "&nbsp;&nbsp;770 are NEGATIVE</br> \n",
    "&nbsp;&nbsp;989 are POSITIVE</br></br>\n",
    "*  4.76% of the tweets are reffering to \"DIEM\" from which:</br></br>\n",
    "&nbsp;&nbsp;642 are NATURAL</br>\n",
    "&nbsp;&nbsp;571 are NEGATIVE</br>\n",
    "&nbsp;&nbsp;530 are POSITIVE</br></br>\n",
    "*  2.18% of the tweets are reffering to \"ELL_LYSI\" from which:</br></br>\n",
    "&nbsp;&nbsp;257 are NATURAL</br>\n",
    "&nbsp;&nbsp;337 are NEGATIVE</br>\n",
    "&nbsp;&nbsp;205 are POSITIVE\n",
    "\n",
    "### We could also examine the validation set but we already know that it is the same as train set. On the other hand,  the test set does not containt the sentiment column, that's because the main purpose of this notebook is to predict their sentiment class using the train & validation sets."
   ]
  },
  {
   "cell_type": "markdown",
   "id": "3ac93ac6",
   "metadata": {
    "papermill": {
     "duration": 0.020802,
     "end_time": "2024-02-28T17:31:38.276540",
     "exception": false,
     "start_time": "2024-02-28T17:31:38.255738",
     "status": "completed"
    },
    "tags": []
   },
   "source": [
    "# Data Pre-processing\n",
    "In the previous assignment I conducted experiments with 3 different variations of the training set:\n",
    "* No Pre-processing at all\n",
    "* Basic Pre-processing\n",
    "* Basic Pre-processing & Lemmatization<br>"
   ]
  },
  {
   "cell_type": "markdown",
   "id": "c9cacc0f",
   "metadata": {
    "papermill": {
     "duration": 0.020654,
     "end_time": "2024-02-28T17:31:38.359923",
     "exception": false,
     "start_time": "2024-02-28T17:31:38.339269",
     "status": "completed"
    },
    "tags": []
   },
   "source": [
    "## Data cleaning\n",
    "The \"winning\" option proved to be the **Basic Pre-processing** so I'm going to do the same process below."
   ]
  },
  {
   "cell_type": "code",
   "execution_count": 9,
   "id": "28f14000",
   "metadata": {
    "execution": {
     "iopub.execute_input": "2024-02-28T17:31:38.403601Z",
     "iopub.status.busy": "2024-02-28T17:31:38.402897Z",
     "iopub.status.idle": "2024-02-28T17:31:38.412226Z",
     "shell.execute_reply": "2024-02-28T17:31:38.411223Z"
    },
    "papermill": {
     "duration": 0.033794,
     "end_time": "2024-02-28T17:31:38.414399",
     "exception": false,
     "start_time": "2024-02-28T17:31:38.380605",
     "status": "completed"
    },
    "tags": []
   },
   "outputs": [],
   "source": [
    "def remove_accents(word):\n",
    "    ret =''.join(c for c in unicodedata.normalize('NFD', word) if unicodedata.category(c) != 'Mn')\n",
    "    return ret\n",
    "\n",
    "def clean_tweets(df):\n",
    "    # That's the basic pre-processing    \n",
    "    # Remove possible links starting with http/https/www\n",
    "    df['Text'] = df['Text'].str.replace(r\"(http[s]?://|www\\.)[^\\s]+\", \" \", regex = True)\n",
    "    # Remove whole word with # symbol\n",
    "    df['Text'] = df['Text'].str.replace(r\"(#)[^\\s]+\", \" \", regex = True)\n",
    "    # Remove whole word with @ symbol\n",
    "    df['Text'] = df['Text'].str.replace(r\"(@)[^\\s]+\", \" \", regex = True)\n",
    "    # Lowercase everything\n",
    "    df['Text'] = df['Text'].str.lower()\n",
    "    # Keep only latin/greek letters and numbers\n",
    "    df['Text'] = df['Text'].str.replace(r\"[^\\wa-zα-ω]\", \" \", regex = True)    \n",
    "    # At last we are combine the tokens that are not stopwords after removing their accents to create the new text for the tweet    \n",
    "    df['Text'] = df['Text'].map(lambda text: \" \".join([token.text for token in nlp(remove_accents(text)) if token.text not in nlp.Defaults.stop_words and token.text.strip()]))\n",
    "    # Then return the cleaned dataframe\n",
    "    return df"
   ]
  },
  {
   "cell_type": "markdown",
   "id": "7625449a",
   "metadata": {
    "papermill": {
     "duration": 0.02101,
     "end_time": "2024-02-28T17:31:38.456722",
     "exception": false,
     "start_time": "2024-02-28T17:31:38.435712",
     "status": "completed"
    },
    "tags": []
   },
   "source": [
    "I'm adding two more stop words in the set and also remove the accents from the stop words."
   ]
  },
  {
   "cell_type": "code",
   "execution_count": 10,
   "id": "9620b5c4",
   "metadata": {
    "execution": {
     "iopub.execute_input": "2024-02-28T17:31:38.500090Z",
     "iopub.status.busy": "2024-02-28T17:31:38.499705Z",
     "iopub.status.idle": "2024-02-28T17:31:38.507245Z",
     "shell.execute_reply": "2024-02-28T17:31:38.506413Z"
    },
    "papermill": {
     "duration": 0.031701,
     "end_time": "2024-02-28T17:31:38.509231",
     "exception": false,
     "start_time": "2024-02-28T17:31:38.477530",
     "status": "completed"
    },
    "tags": []
   },
   "outputs": [],
   "source": [
    "for word in set(nlp.Defaults.stop_words):\n",
    "    nlp.Defaults.stop_words.add(remove_accents(word))\n",
    "nlp.Defaults.stop_words.add('κ')\n",
    "nlp.Defaults.stop_words.add('κι')"
   ]
  },
  {
   "cell_type": "markdown",
   "id": "2f3b945f",
   "metadata": {
    "papermill": {
     "duration": 0.021925,
     "end_time": "2024-02-28T17:31:38.553226",
     "exception": false,
     "start_time": "2024-02-28T17:31:38.531301",
     "status": "completed"
    },
    "tags": []
   },
   "source": [
    "#### The cell below has to run only one time in order for the pre-process to take place. After that we can just load the cleaned dataset that was mentioned above."
   ]
  },
  {
   "cell_type": "code",
   "execution_count": 11,
   "id": "472d5d46",
   "metadata": {
    "execution": {
     "iopub.execute_input": "2024-02-28T17:31:38.600340Z",
     "iopub.status.busy": "2024-02-28T17:31:38.599566Z",
     "iopub.status.idle": "2024-02-28T17:37:11.509525Z",
     "shell.execute_reply": "2024-02-28T17:37:11.508731Z"
    },
    "papermill": {
     "duration": 332.936633,
     "end_time": "2024-02-28T17:37:11.511947",
     "exception": false,
     "start_time": "2024-02-28T17:31:38.575314",
     "status": "completed"
    },
    "tags": []
   },
   "outputs": [],
   "source": [
    "# First wabse copy the dataframe\n",
    "df_train_cleaned_bp = df_train.copy()\n",
    "# Now we will clean the text column\n",
    "df_train_cleaned_bp = clean_tweets(df_train_cleaned_bp)\n",
    "# Save the cleaned dataset in case we need it in the future instead of cleaning it from the beginning\n",
    "df_train_cleaned_bp.to_json(OUTPUT_PATH + 'cleaned_train_bp.json')\n",
    "# Now we are doing the same process for the validation set\n",
    "df_val_cleaned_bp = df_val.copy()\n",
    "df_val_cleaned_bp = clean_tweets(df_val_cleaned_bp)\n",
    "df_val_cleaned_bp.to_json(OUTPUT_PATH + 'cleaned_val_bp.json')"
   ]
  },
  {
   "cell_type": "markdown",
   "id": "374cc4a2",
   "metadata": {
    "papermill": {
     "duration": 0.021127,
     "end_time": "2024-02-28T17:37:11.555573",
     "exception": false,
     "start_time": "2024-02-28T17:37:11.534446",
     "status": "completed"
    },
    "tags": []
   },
   "source": [
    "## Loading cleaned dataset\n",
    "We are loading the cleaned dataset."
   ]
  },
  {
   "cell_type": "code",
   "execution_count": 12,
   "id": "ff8ae5c0",
   "metadata": {
    "execution": {
     "iopub.execute_input": "2024-02-28T17:37:11.606053Z",
     "iopub.status.busy": "2024-02-28T17:37:11.605671Z",
     "iopub.status.idle": "2024-02-28T17:37:11.836258Z",
     "shell.execute_reply": "2024-02-28T17:37:11.835398Z"
    },
    "papermill": {
     "duration": 0.259058,
     "end_time": "2024-02-28T17:37:11.839206",
     "exception": false,
     "start_time": "2024-02-28T17:37:11.580148",
     "status": "completed"
    },
    "tags": []
   },
   "outputs": [],
   "source": [
    "#Load the cleaned data for Basic Pre-Processing\n",
    "df_train_bp = pd.read_json(OUTPUT_PATH + \"cleaned_train_bp.json\")\n",
    "df_val_bp = pd.read_json(OUTPUT_PATH + \"cleaned_val_bp.json\")"
   ]
  },
  {
   "cell_type": "code",
   "execution_count": 13,
   "id": "81621c6a",
   "metadata": {
    "execution": {
     "iopub.execute_input": "2024-02-28T17:37:11.886182Z",
     "iopub.status.busy": "2024-02-28T17:37:11.885857Z",
     "iopub.status.idle": "2024-02-28T17:37:11.898989Z",
     "shell.execute_reply": "2024-02-28T17:37:11.898079Z"
    },
    "papermill": {
     "duration": 0.038054,
     "end_time": "2024-02-28T17:37:11.900982",
     "exception": false,
     "start_time": "2024-02-28T17:37:11.862928",
     "status": "completed"
    },
    "tags": []
   },
   "outputs": [
    {
     "data": {
      "text/html": [
       "<div>\n",
       "<style scoped>\n",
       "    .dataframe tbody tr th:only-of-type {\n",
       "        vertical-align: middle;\n",
       "    }\n",
       "\n",
       "    .dataframe tbody tr th {\n",
       "        vertical-align: top;\n",
       "    }\n",
       "\n",
       "    .dataframe thead th {\n",
       "        text-align: right;\n",
       "    }\n",
       "</style>\n",
       "<table border=\"1\" class=\"dataframe\">\n",
       "  <thead>\n",
       "    <tr style=\"text-align: right;\">\n",
       "      <th></th>\n",
       "      <th>New_ID</th>\n",
       "      <th>Text</th>\n",
       "      <th>Sentiment</th>\n",
       "      <th>Party</th>\n",
       "    </tr>\n",
       "  </thead>\n",
       "  <tbody>\n",
       "    <tr>\n",
       "      <th>0</th>\n",
       "      <td>35027</td>\n",
       "      <td>κυριακη κοριοι απολυμανση καταπολεμηση κοριων απεντομωση κοριους</td>\n",
       "      <td>NEUTRAL</td>\n",
       "      <td>SYRIZA</td>\n",
       "    </tr>\n",
       "    <tr>\n",
       "      <th>1</th>\n",
       "      <td>9531</td>\n",
       "      <td>νεες επιστολες μακεδονια καινε νδ μητσοτακης γνωριζε διχασε εθνος</td>\n",
       "      <td>NEGATIVE</td>\n",
       "      <td>ND</td>\n",
       "    </tr>\n",
       "    <tr>\n",
       "      <th>2</th>\n",
       "      <td>14146</td>\n",
       "      <td>ισχυρο κκε δυναμη λαου βουλη καθημερινους αγωνες</td>\n",
       "      <td>POSITIVE</td>\n",
       "      <td>KKE</td>\n",
       "    </tr>\n",
       "    <tr>\n",
       "      <th>3</th>\n",
       "      <td>28716</td>\n",
       "      <td>μνημονιακοτατο</td>\n",
       "      <td>NEUTRAL</td>\n",
       "      <td>KKE</td>\n",
       "    </tr>\n",
       "    <tr>\n",
       "      <th>4</th>\n",
       "      <td>32886</td>\n",
       "      <td>συγκλονιστικο ψυχασθενεια τσιπρα</td>\n",
       "      <td>NEUTRAL</td>\n",
       "      <td>SYRIZA</td>\n",
       "    </tr>\n",
       "    <tr>\n",
       "      <th>...</th>\n",
       "      <td>...</td>\n",
       "      <td>...</td>\n",
       "      <td>...</td>\n",
       "      <td>...</td>\n",
       "    </tr>\n",
       "    <tr>\n",
       "      <th>36625</th>\n",
       "      <td>35374</td>\n",
       "      <td>κουλης μητσοτακης λεει ψεματα αδειασε μπαμπη παπαδημητριου μπαμπης προετοιμαζει ερχεται κουλη μη...</td>\n",
       "      <td>NEUTRAL</td>\n",
       "      <td>ND</td>\n",
       "    </tr>\n",
       "    <tr>\n",
       "      <th>36626</th>\n",
       "      <td>7744</td>\n",
       "      <td>προσεξε σκισει καλσον χαλια νεα φωτογραφια ομορφη πραγματικοτητα</td>\n",
       "      <td>NEGATIVE</td>\n",
       "      <td>ND</td>\n",
       "    </tr>\n",
       "    <tr>\n",
       "      <th>36627</th>\n",
       "      <td>35216</td>\n",
       "      <td>θεση κκε ασφαλεια πολιτων διαφορους ρουβικωνες βαθια κριση καπιταλιστικου συστηματος μειωση φορο...</td>\n",
       "      <td>NEUTRAL</td>\n",
       "      <td>KKE</td>\n",
       "    </tr>\n",
       "    <tr>\n",
       "      <th>36628</th>\n",
       "      <td>2855</td>\n",
       "      <td>μαρη κακομοιρα θυγατερα ναζιστη αντισημιτη ξεφτιλιστει τρολ νδ σχολιαζουν ντροπη μπορεις λιποθυμ...</td>\n",
       "      <td>NEGATIVE</td>\n",
       "      <td>ND</td>\n",
       "    </tr>\n",
       "    <tr>\n",
       "      <th>36629</th>\n",
       "      <td>25500</td>\n",
       "      <td>ενταξει επεισες κκε</td>\n",
       "      <td>NEUTRAL</td>\n",
       "      <td>KKE</td>\n",
       "    </tr>\n",
       "  </tbody>\n",
       "</table>\n",
       "<p>36630 rows × 4 columns</p>\n",
       "</div>"
      ],
      "text/plain": [
       "       New_ID  \\\n",
       "0       35027   \n",
       "1        9531   \n",
       "2       14146   \n",
       "3       28716   \n",
       "4       32886   \n",
       "...       ...   \n",
       "36625   35374   \n",
       "36626    7744   \n",
       "36627   35216   \n",
       "36628    2855   \n",
       "36629   25500   \n",
       "\n",
       "                                                                                                      Text  \\\n",
       "0                                         κυριακη κοριοι απολυμανση καταπολεμηση κοριων απεντομωση κοριους   \n",
       "1                                        νεες επιστολες μακεδονια καινε νδ μητσοτακης γνωριζε διχασε εθνος   \n",
       "2                                                         ισχυρο κκε δυναμη λαου βουλη καθημερινους αγωνες   \n",
       "3                                                                                           μνημονιακοτατο   \n",
       "4                                                                         συγκλονιστικο ψυχασθενεια τσιπρα   \n",
       "...                                                                                                    ...   \n",
       "36625  κουλης μητσοτακης λεει ψεματα αδειασε μπαμπη παπαδημητριου μπαμπης προετοιμαζει ερχεται κουλη μη...   \n",
       "36626                                     προσεξε σκισει καλσον χαλια νεα φωτογραφια ομορφη πραγματικοτητα   \n",
       "36627  θεση κκε ασφαλεια πολιτων διαφορους ρουβικωνες βαθια κριση καπιταλιστικου συστηματος μειωση φορο...   \n",
       "36628  μαρη κακομοιρα θυγατερα ναζιστη αντισημιτη ξεφτιλιστει τρολ νδ σχολιαζουν ντροπη μπορεις λιποθυμ...   \n",
       "36629                                                                                  ενταξει επεισες κκε   \n",
       "\n",
       "      Sentiment   Party  \n",
       "0       NEUTRAL  SYRIZA  \n",
       "1      NEGATIVE      ND  \n",
       "2      POSITIVE     KKE  \n",
       "3       NEUTRAL     KKE  \n",
       "4       NEUTRAL  SYRIZA  \n",
       "...         ...     ...  \n",
       "36625   NEUTRAL      ND  \n",
       "36626  NEGATIVE      ND  \n",
       "36627   NEUTRAL     KKE  \n",
       "36628  NEGATIVE      ND  \n",
       "36629   NEUTRAL     KKE  \n",
       "\n",
       "[36630 rows x 4 columns]"
      ]
     },
     "execution_count": 13,
     "metadata": {},
     "output_type": "execute_result"
    }
   ],
   "source": [
    "df_train_bp"
   ]
  },
  {
   "cell_type": "markdown",
   "id": "51afa290",
   "metadata": {
    "papermill": {
     "duration": 0.020958,
     "end_time": "2024-02-28T17:37:11.943413",
     "exception": false,
     "start_time": "2024-02-28T17:37:11.922455",
     "status": "completed"
    },
    "tags": []
   },
   "source": [
    "# Generic BERT Language Model\n",
    "Below I will create an all in one class for both BERT models. Depending on the parameters we will give, a different language model will be created.\n",
    "\n",
    "The `Generic BERT` consists of the following:\n",
    "* Input Layer\n",
    "* Hidden Size\n",
    "* Output Layer\n",
    "* Stacked Layers\n",
    "* Dropout ratios\n",
    "* Skip connections\n",
    "* [Attention is all you need](https://arxiv.org/pdf/1706.03762.pdf) as part of the 20% bonus\n"
   ]
  },
  {
   "cell_type": "code",
   "execution_count": 14,
   "id": "25169ed3",
   "metadata": {
    "execution": {
     "iopub.execute_input": "2024-02-28T17:37:11.986763Z",
     "iopub.status.busy": "2024-02-28T17:37:11.986457Z",
     "iopub.status.idle": "2024-02-28T17:37:11.993906Z",
     "shell.execute_reply": "2024-02-28T17:37:11.993011Z"
    },
    "papermill": {
     "duration": 0.031265,
     "end_time": "2024-02-28T17:37:11.995864",
     "exception": false,
     "start_time": "2024-02-28T17:37:11.964599",
     "status": "completed"
    },
    "tags": []
   },
   "outputs": [],
   "source": [
    "class GenericBERT(nn.Module):\n",
    "    def __init__(self, BertName, HiddenSize, Dropout):\n",
    "        super(GenericBERT, self).__init__()\n",
    "        self.model = AutoModel.from_pretrained('nlpaueb/bert-base-greek-uncased-v1') if BertName == \"GREEK\" else AutoModel.from_pretrained('EftychiaKarav/DistilGREEK-BERT')\n",
    "        self.name = BertName\n",
    "        self.linear_stack = nn.Sequential( nn.Linear(self.model.config.hidden_size, HiddenSize),\n",
    "                                           nn.Dropout(Dropout),\n",
    "                                           nn.Linear(HiddenSize, 3))\n",
    "    \n",
    "    def forward(self, input_ids, attention_mask):\n",
    "        out = self.model(input_ids = input_ids, attention_mask = attention_mask)\n",
    "        return self.linear_stack(out[1] if self.name == \"GREEK\" else out[0][:, 0, :])"
   ]
  },
  {
   "cell_type": "markdown",
   "id": "c7c279a2",
   "metadata": {
    "papermill": {
     "duration": 0.02096,
     "end_time": "2024-02-28T17:37:12.038400",
     "exception": false,
     "start_time": "2024-02-28T17:37:12.017440",
     "status": "completed"
    },
    "tags": []
   },
   "source": [
    "## Create DataLoader\n",
    "Because we are building language models our data need a special represenation. The function below will convert the given dataset into a TensorDataset and then it will return the DataLoader for that dataset."
   ]
  },
  {
   "cell_type": "code",
   "execution_count": 15,
   "id": "fe0142b7",
   "metadata": {
    "execution": {
     "iopub.execute_input": "2024-02-28T17:37:12.082346Z",
     "iopub.status.busy": "2024-02-28T17:37:12.081779Z",
     "iopub.status.idle": "2024-02-28T17:37:12.089309Z",
     "shell.execute_reply": "2024-02-28T17:37:12.088442Z"
    },
    "papermill": {
     "duration": 0.031603,
     "end_time": "2024-02-28T17:37:12.091090",
     "exception": false,
     "start_time": "2024-02-28T17:37:12.059487",
     "status": "completed"
    },
    "tags": []
   },
   "outputs": [],
   "source": [
    "# This function will make a TensorDataset and then pass in a DataLoader which is returned as well\n",
    "def create_dataloader(df, labels_map, bert_type, max_len, batch_size, shuffle):\n",
    "    # Choose between Greek Bert and Distil Greek Bert     \n",
    "    tokenizer = AutoTokenizer.from_pretrained('nlpaueb/bert-base-greek-uncased-v1' if bert_type == \"GREEK\" else 'EftychiaKarav/DistilGREEK-BERT')\n",
    "    \n",
    "    # Extract input_ids and attention_mask for the whole dataframe\n",
    "    encoded = tokenizer.batch_encode_plus( df['Text'].tolist(), \n",
    "                                           add_special_tokens = True,\n",
    "                                           padding = True,\n",
    "                                           truncation = True,\n",
    "                                           max_length = max_len, \n",
    "                                           return_tensors='pt')\n",
    "    \n",
    "    input_ids = encoded['input_ids']\n",
    "    attention_mask = encoded['attention_mask']\n",
    "    \n",
    "    # Mapping the labels based on the dictionary provided as the 2nd argument\n",
    "    mapped_labels = [labels_map[label] for label in df['Sentiment']]\n",
    "           \n",
    "    # Convert labels to fit the requirements\n",
    "    mapped_labels = torch.tensor(mapped_labels)\n",
    "\n",
    "    # Store the TensorData\n",
    "    data_set = TensorDataset(input_ids, attention_mask, mapped_labels)\n",
    "    \n",
    "    # Return the DataLoader\n",
    "    return DataLoader(dataset=data_set, batch_size=batch_size, shuffle=shuffle)"
   ]
  },
  {
   "cell_type": "markdown",
   "id": "76e18a2c",
   "metadata": {
    "papermill": {
     "duration": 0.021158,
     "end_time": "2024-02-28T17:37:12.133976",
     "exception": false,
     "start_time": "2024-02-28T17:37:12.112818",
     "status": "completed"
    },
    "tags": []
   },
   "source": [
    "## Train, Test & Evaluate our model\n",
    "\n",
    "### Show Report\n",
    "The `show_report` function is responsible for displaying the results."
   ]
  },
  {
   "cell_type": "code",
   "execution_count": 16,
   "id": "1772264e",
   "metadata": {
    "execution": {
     "iopub.execute_input": "2024-02-28T17:37:12.177115Z",
     "iopub.status.busy": "2024-02-28T17:37:12.176811Z",
     "iopub.status.idle": "2024-02-28T17:37:12.181617Z",
     "shell.execute_reply": "2024-02-28T17:37:12.180797Z"
    },
    "papermill": {
     "duration": 0.02851,
     "end_time": "2024-02-28T17:37:12.183495",
     "exception": false,
     "start_time": "2024-02-28T17:37:12.154985",
     "status": "completed"
    },
    "tags": []
   },
   "outputs": [],
   "source": [
    "def show_report(t, loss, f, a, r, p):\n",
    "    print(f\"Time Taken:   \\t\\t{t:.3f}\")\n",
    "    print(f\"Average Loss: \\t\\t{loss}\")\n",
    "    print(f\"F1-Score:     \\t\\t{f}\")\n",
    "    print(f\"Accuracy:     \\t\\t{a}\")\n",
    "    print(f\"Recall:       \\t\\t{r}\")\n",
    "    print(f\"Precision:    \\t\\t{p}\")"
   ]
  },
  {
   "cell_type": "markdown",
   "id": "aeb7339d",
   "metadata": {
    "papermill": {
     "duration": 0.020785,
     "end_time": "2024-02-28T17:37:12.225330",
     "exception": false,
     "start_time": "2024-02-28T17:37:12.204545",
     "status": "completed"
    },
    "tags": []
   },
   "source": [
    "### Testing Process\n",
    "The `testing_process` makes all the nececary calculations in order to evaluate our model"
   ]
  },
  {
   "cell_type": "code",
   "execution_count": 17,
   "id": "9d00f1b7",
   "metadata": {
    "execution": {
     "iopub.execute_input": "2024-02-28T17:37:12.269166Z",
     "iopub.status.busy": "2024-02-28T17:37:12.268882Z",
     "iopub.status.idle": "2024-02-28T17:37:12.279100Z",
     "shell.execute_reply": "2024-02-28T17:37:12.278253Z"
    },
    "papermill": {
     "duration": 0.03443,
     "end_time": "2024-02-28T17:37:12.280978",
     "exception": false,
     "start_time": "2024-02-28T17:37:12.246548",
     "status": "completed"
    },
    "tags": []
   },
   "outputs": [],
   "source": [
    "def testing_process(model, dataloader, costFunc, device):\n",
    "    preds = []\n",
    "    \n",
    "    targets = []\n",
    "    \n",
    "    model.eval()\n",
    "    \n",
    "    sum_losses = 0.0\n",
    "    \n",
    "    with torch.no_grad():\n",
    "        for X, masks, y in dataloader:\n",
    "            \n",
    "            # Move the data to the corresponding device\n",
    "            X     = X.to(device)\n",
    "            masks = masks.to(device)\n",
    "            y     = y.to(device)\n",
    "  \n",
    "            # Compute prediction and loss\n",
    "            pred = model(input_ids = X, attention_mask = masks)\n",
    "            loss = costFunc(pred, y)\n",
    "            sum_losses += loss.item()\n",
    "    \n",
    "            preds.append(pred)\n",
    "            targets.append(y)\n",
    "\n",
    "    loss = sum_losses / len(dataloader)\n",
    "    f = F1Score(task='multiclass', average=\"weighted\", num_classes=3).to(device)\n",
    "    a = Accuracy(task='multiclass', average=\"weighted\", num_classes=3).to(device)\n",
    "    r = Recall(task='multiclass', average=\"weighted\", num_classes=3).to(device)\n",
    "    p = Precision(task='multiclass', average=\"weighted\", num_classes=3).to(device)\n",
    "    \n",
    "    f = f(torch.cat(preds), torch.cat(targets)).item()\n",
    "    a = a(torch.cat(preds), torch.cat(targets)).item()\n",
    "    r = r(torch.cat(preds), torch.cat(targets)).item()\n",
    "    p = p(torch.cat(preds), torch.cat(targets)).item()\n",
    "    \n",
    "    return loss, f, a, r, p, preds, targets"
   ]
  },
  {
   "cell_type": "markdown",
   "id": "db58ef6f",
   "metadata": {
    "papermill": {
     "duration": 0.020876,
     "end_time": "2024-02-28T17:37:12.323155",
     "exception": false,
     "start_time": "2024-02-28T17:37:12.302279",
     "status": "completed"
    },
    "tags": []
   },
   "source": [
    "### Epoch Process\n",
    "The `epoch_process` function was made in order for us to train our model in each epoch"
   ]
  },
  {
   "cell_type": "code",
   "execution_count": 18,
   "id": "39f8dd9f",
   "metadata": {
    "execution": {
     "iopub.execute_input": "2024-02-28T17:37:12.368315Z",
     "iopub.status.busy": "2024-02-28T17:37:12.367982Z",
     "iopub.status.idle": "2024-02-28T17:37:12.376454Z",
     "shell.execute_reply": "2024-02-28T17:37:12.375589Z"
    },
    "papermill": {
     "duration": 0.034238,
     "end_time": "2024-02-28T17:37:12.378431",
     "exception": false,
     "start_time": "2024-02-28T17:37:12.344193",
     "status": "completed"
    },
    "tags": []
   },
   "outputs": [],
   "source": [
    "def epoch_process(epochs, epoch, model, dataloader, optimizer, costFunc, size, clip, device, show_progress):\n",
    "    model.train()\n",
    "    \n",
    "    if show_progress:\n",
    "        print(f\"Epoch {epoch+1:{len(str(epochs))}d}\\n-----------------------------\")\n",
    "    \n",
    "    for batch, (X, masks, y) in enumerate(dataloader):\n",
    "        # Move the data to the corresponding device\n",
    "        X     = X.to(device)\n",
    "        masks = masks.to(device)\n",
    "        y     = y.to(device)\n",
    "\n",
    "        # Compute prediction and loss\n",
    "        pred = model(input_ids = X, attention_mask = masks)\n",
    "        loss = costFunc(pred, y)\n",
    "        \n",
    "        # Backpropagation\n",
    "        optimizer.zero_grad()\n",
    "        loss.backward()\n",
    "        \n",
    "        if clip:\n",
    "            torch.nn.utils.clip_grad_norm_(model.parameters(), clip)\n",
    "        \n",
    "        optimizer.step()\n",
    "\n",
    "        # Per 750 batches for each epoch display the loss\n",
    "        if show_progress and batch % 750 == 0:\n",
    "            loss, current = loss.item(), batch * len(X)\n",
    "            print(f\"loss: {loss:>8f}  [{current:>{len(str(size))}d}/{size:>{len(str(size))}d}]\")\n",
    "        \n",
    "    if show_progress:\n",
    "        print()"
   ]
  },
  {
   "cell_type": "markdown",
   "id": "371175b5",
   "metadata": {
    "papermill": {
     "duration": 0.020933,
     "end_time": "2024-02-28T17:37:12.420366",
     "exception": false,
     "start_time": "2024-02-28T17:37:12.399433",
     "status": "completed"
    },
    "tags": []
   },
   "source": [
    "### Training Process\n",
    "The `training_process` function is liable for the whole training process."
   ]
  },
  {
   "cell_type": "code",
   "execution_count": 19,
   "id": "6520101a",
   "metadata": {
    "execution": {
     "iopub.execute_input": "2024-02-28T17:37:12.464076Z",
     "iopub.status.busy": "2024-02-28T17:37:12.463788Z",
     "iopub.status.idle": "2024-02-28T17:37:12.470980Z",
     "shell.execute_reply": "2024-02-28T17:37:12.470163Z"
    },
    "papermill": {
     "duration": 0.030949,
     "end_time": "2024-02-28T17:37:12.472839",
     "exception": false,
     "start_time": "2024-02-28T17:37:12.441890",
     "status": "completed"
    },
    "tags": []
   },
   "outputs": [],
   "source": [
    "def training_process(epochs, optimizer, train_dataloader, val_dataloader, costFunc, model, clip, device, show_progress):\n",
    "    \n",
    "    train_losses, train_f1 = [], []\n",
    "    \n",
    "    val_losses, val_f1 = [], []\n",
    "    \n",
    "    size = len(train_dataloader.dataset)\n",
    "       \n",
    "    for epoch in range(epochs):\n",
    "    \n",
    "        epoch_process(epochs, epoch, model, train_dataloader, optimizer, costFunc, size, clip, device, show_progress)\n",
    "\n",
    "        curr_mean_train_loss, f1_train, _, _, _, _, _ = testing_process(model, train_dataloader, costFunc, device)\n",
    "        train_losses.append(curr_mean_train_loss)\n",
    "        train_f1.append(f1_train)\n",
    "    \n",
    "        curr_mean_val_loss, f1_val, _, _, _, _, _ = testing_process(model, val_dataloader, costFunc, device)\n",
    "        val_losses.append(curr_mean_val_loss)\n",
    "        val_f1.append(f1_val)\n",
    "        \n",
    "    return model, train_losses, val_losses, train_f1, val_f1"
   ]
  },
  {
   "cell_type": "markdown",
   "id": "3f69c696",
   "metadata": {
    "papermill": {
     "duration": 0.021307,
     "end_time": "2024-02-28T17:37:12.515409",
     "exception": false,
     "start_time": "2024-02-28T17:37:12.494102",
     "status": "completed"
    },
    "tags": []
   },
   "source": [
    "### Evaluation Process\n",
    "The `evaluation_process` is the core of our notebook, it trains our model & testing our model and plot the necessary curves"
   ]
  },
  {
   "cell_type": "code",
   "execution_count": 20,
   "id": "70f0a8ac",
   "metadata": {
    "execution": {
     "iopub.execute_input": "2024-02-28T17:37:12.558783Z",
     "iopub.status.busy": "2024-02-28T17:37:12.558502Z",
     "iopub.status.idle": "2024-02-28T17:37:12.574588Z",
     "shell.execute_reply": "2024-02-28T17:37:12.573900Z"
    },
    "papermill": {
     "duration": 0.039953,
     "end_time": "2024-02-28T17:37:12.576355",
     "exception": false,
     "start_time": "2024-02-28T17:37:12.536402",
     "status": "completed"
    },
    "tags": []
   },
   "outputs": [],
   "source": [
    "def evaluation_process(path, train_dataloader, val_dataloader, model, epochs, optimizer, costFunc, learning_rate, clip, device, show_progress):\n",
    "    model = model.to(device)\n",
    "    \n",
    "    optimizer = optimizer(model.parameters(), lr = learning_rate)\n",
    "    \n",
    "    # Begin timer    \n",
    "    begin_timer = time.perf_counter()\n",
    "    \n",
    "    # Do the train\n",
    "    trained_model, train_losses, val_losses, train_f1, val_f1 = training_process(epochs, optimizer, train_dataloader, val_dataloader, costFunc, model, clip, device, show_progress)\n",
    "\n",
    "    # Stop timer\n",
    "    stop_timer = time.perf_counter()\n",
    "\n",
    "    # Train class report  \n",
    "    loss_train, f_train, a_train, r_train, p_train, preds_train, targets_train = testing_process(trained_model, train_dataloader, costFunc, device)\n",
    "    \n",
    "    # Val class report  \n",
    "    loss_val, f_val, a_val, r_val, p_val, preds_val, targets_val = testing_process(trained_model, val_dataloader, costFunc, device)\n",
    "    \n",
    "    train_class_report = classification_report( y_true = torch.cat(targets_train).cpu().numpy(), \n",
    "                                                y_pred = list(np.concatenate([(torch.max(i, 1)[1].tolist()) for i in preds_train])), \n",
    "                                                target_names=[\"NEGATIVE\", \"NEUTRAL\", \"POSITIVE\"])\n",
    "    \n",
    "    val_class_report= classification_report( y_true = torch.cat(targets_val).cpu().numpy(), \n",
    "                                             y_pred = list(np.concatenate([(torch.max(i, 1)[1].tolist()) for i in preds_val])), \n",
    "                                             target_names=[\"NEGATIVE\", \"NEUTRAL\", \"POSITIVE\"])\n",
    "    \n",
    "    train_class_report = list(\"Training classification report                  \\n\\n\") + list(train_class_report)\n",
    "    val_class_report = list(\"Validation classification report\\n\\n\") + list(val_class_report)\n",
    "    \n",
    "    show_report(stop_timer - begin_timer, loss_val, f_val, a_val, r_val, p_val)\n",
    "    \n",
    "    print()\n",
    "    \n",
    "    for i,j in zip(''.join(train_class_report).split(\"\\n\"), ''.join(val_class_report).split(\"\\n\")):\n",
    "        print(f\"{i}\\t\\t{j}\")\n",
    "    \n",
    "    # That's just to save the plots in order for us to download them and use them in report instead of screenshooting everything\n",
    "    fig = plt.figure()\n",
    "    custom_learning_curve(train_losses, val_losses, [i + 1 for i in range(epochs)], \"Epochs\", \"Loss\", False)\n",
    "    plt.close(fig)\n",
    "    try:\n",
    "        fig.savefig(f'{path}/lr_loss.png')    \n",
    "    except:\n",
    "        os.makedirs(f\"{path}\")\n",
    "        fig.savefig(f'{path}/lr_loss.png')  \n",
    "    \n",
    "    fig = plt.figure()\n",
    "    custom_learning_curve(train_f1, val_f1, [i + 1 for i in range(epochs)], \"Epochs\", \"F1-Score\", False)\n",
    "    plt.close(fig)\n",
    "    try:\n",
    "        fig.savefig(f'{path}/lr_f1.png')    \n",
    "    except:\n",
    "        os.makedirs(f\"{path}\")\n",
    "        fig.savefig(f'{path}/lr_f1.png')      \n",
    "    \n",
    "    \n",
    "    # Display plots       \n",
    "    all_plots = [ \"custom_learning_curve(train_losses, val_losses, [i + 1 for i in range(epochs)], \\\"Epochs\\\", \\\"Loss\\\", False)\",\n",
    "                  \"custom_learning_curve(train_f1, val_f1, [i + 1 for i in range(epochs)], \\\"Epochs\\\", \\\"F1-Score\\\", False)\"]\n",
    "    # Make subplots\n",
    "    _, axes = plt.subplots(1, len(all_plots), figsize=(15, 5))\n",
    "    # Print each plot in a different subplot section\n",
    "    for i, plot_command in enumerate(all_plots):\n",
    "        plt.subplot(1, len(all_plots), i + 1)\n",
    "        exec(f\"{plot_command}\")\n",
    "    plt.tight_layout()\n",
    "#     plt.savefig(f\"{path}/combined.png\")\n",
    "    plt.show()"
   ]
  },
  {
   "cell_type": "code",
   "execution_count": 21,
   "id": "d1c9bfac",
   "metadata": {
    "execution": {
     "iopub.execute_input": "2024-02-28T17:37:12.619789Z",
     "iopub.status.busy": "2024-02-28T17:37:12.619524Z",
     "iopub.status.idle": "2024-02-28T17:37:12.799247Z",
     "shell.execute_reply": "2024-02-28T17:37:12.798150Z"
    },
    "papermill": {
     "duration": 0.20381,
     "end_time": "2024-02-28T17:37:12.801670",
     "exception": false,
     "start_time": "2024-02-28T17:37:12.597860",
     "status": "completed"
    },
    "tags": []
   },
   "outputs": [],
   "source": [
    "# Map each category to it's corresponding integer\n",
    "labels_to_ints = {np.unique(df_train_bp[\"Sentiment\"])[i]: i for i in range(0, len(np.unique(df_train_bp[\"Sentiment\"])))}"
   ]
  },
  {
   "cell_type": "markdown",
   "id": "e0e543e2",
   "metadata": {
    "papermill": {
     "duration": 0.028147,
     "end_time": "2024-02-28T17:37:12.854981",
     "exception": false,
     "start_time": "2024-02-28T17:37:12.826834",
     "status": "completed"
    },
    "tags": []
   },
   "source": [
    "# Algorithms and Experiments\n",
    "\n",
    "For the experiments, I used the AdamW optimizer and the Cross-Entropy loss function as I was told to. For the development of the model, I utilized the experiment based on the following parameters:\n",
    "* the size of hidden layer\n",
    "* dropout probability\n",
    "* number of epochs\n",
    "* learning rates\n",
    "* batch size\n",
    "* maximum length"
   ]
  },
  {
   "cell_type": "markdown",
   "id": "933b9408",
   "metadata": {
    "papermill": {
     "duration": 0.024293,
     "end_time": "2024-02-28T17:37:12.904444",
     "exception": false,
     "start_time": "2024-02-28T17:37:12.880151",
     "status": "completed"
    },
    "tags": []
   },
   "source": [
    "## Optuna Study For GreekBERT"
   ]
  },
  {
   "cell_type": "code",
   "execution_count": 22,
   "id": "5b5582cd",
   "metadata": {
    "execution": {
     "iopub.execute_input": "2024-02-28T17:37:12.958942Z",
     "iopub.status.busy": "2024-02-28T17:37:12.958483Z",
     "iopub.status.idle": "2024-02-28T17:37:12.965231Z",
     "shell.execute_reply": "2024-02-28T17:37:12.964039Z"
    },
    "papermill": {
     "duration": 0.038757,
     "end_time": "2024-02-28T17:37:12.967241",
     "exception": false,
     "start_time": "2024-02-28T17:37:12.928484",
     "status": "completed"
    },
    "tags": []
   },
   "outputs": [],
   "source": [
    "# def objective_greek(trial):\n",
    "#     torch.cuda.empty_cache()\n",
    "    \n",
    "#     HiddenSize    = trial.suggest_categorical('Hidden Size', [16, 32, 64, 128, 256])\n",
    "#     Dropout       = trial.suggest_float('Dropout', 0.0, 0.5)\n",
    "#     Epochs        = trial.suggest_categorical('Epochs', [2, 3, 4, 5])\n",
    "#     Lr            = trial.suggest_float('Learning Rate', 1e-06, 1e-05)\n",
    "#     BatchSize     = trial.suggest_categorical('Batch Size', [16, 32, 64])\n",
    "#     MaxLen        = trial.suggest_categorical('Max Len', [64, 128, 256])\n",
    "    \n",
    "    \n",
    "#     device        = \"cuda\" if torch.cuda.is_available() else \"cpu\"\n",
    "#     optimizer     = torch.optim.AdamW\n",
    "#     costFunc      = nn.CrossEntropyLoss() \n",
    "    \n",
    "#     # Eliminate randomness    \n",
    "#     randonmness_elimination(212)\n",
    "\n",
    "#     train_dataloader = create_dataloader(df_train_bp, labels_to_ints, \"GREEK\", MaxLen, BatchSize, True)\n",
    "\n",
    "#     val_dataloader = create_dataloader(df_val_bp, labels_to_ints, \"GREEK\", MaxLen, BatchSize, False)\n",
    "\n",
    "#     model = GenericBERT(\"GREEK\", HiddenSize, Dropout)\n",
    "    \n",
    "#     model = model.to(device)\n",
    "    \n",
    "#     optimizer = optimizer(model.parameters(), lr = Lr)\n",
    "    \n",
    "#     # Do the train\n",
    "#     trained_model, _, _, _, _  = training_process(Epochs, optimizer, train_dataloader, val_dataloader, costFunc, model, 0, device, False)\n",
    "    \n",
    "#     # Val class report  \n",
    "#     _, f_val, _, _, _, _, _ = testing_process(trained_model, val_dataloader, costFunc, device)\n",
    "    \n",
    "#     return f_val"
   ]
  },
  {
   "cell_type": "code",
   "execution_count": 23,
   "id": "6ced8948",
   "metadata": {
    "execution": {
     "iopub.execute_input": "2024-02-28T17:37:13.022465Z",
     "iopub.status.busy": "2024-02-28T17:37:13.021911Z",
     "iopub.status.idle": "2024-02-28T17:37:13.025909Z",
     "shell.execute_reply": "2024-02-28T17:37:13.025072Z"
    },
    "papermill": {
     "duration": 0.03166,
     "end_time": "2024-02-28T17:37:13.027756",
     "exception": false,
     "start_time": "2024-02-28T17:37:12.996096",
     "status": "completed"
    },
    "tags": []
   },
   "outputs": [],
   "source": [
    "# # I initialized the sampler with specific seed in order to get the same results every time\n",
    "# sampler = optuna.samplers.RandomSampler(seed=212)\n",
    "# study_greek = optuna.create_study(direction = \"maximize\", sampler = sampler, study_name = \"GreekBERT Study\")\n",
    "# study_greek.optimize(objective_greek, n_trials = 35)"
   ]
  },
  {
   "cell_type": "code",
   "execution_count": 24,
   "id": "757b7079",
   "metadata": {
    "execution": {
     "iopub.execute_input": "2024-02-28T17:37:13.071916Z",
     "iopub.status.busy": "2024-02-28T17:37:13.071149Z",
     "iopub.status.idle": "2024-02-28T17:37:13.074877Z",
     "shell.execute_reply": "2024-02-28T17:37:13.074202Z"
    },
    "papermill": {
     "duration": 0.027599,
     "end_time": "2024-02-28T17:37:13.076779",
     "exception": false,
     "start_time": "2024-02-28T17:37:13.049180",
     "status": "completed"
    },
    "tags": []
   },
   "outputs": [],
   "source": [
    "# plot_edf(study_greek)"
   ]
  },
  {
   "cell_type": "code",
   "execution_count": 25,
   "id": "2123c128",
   "metadata": {
    "execution": {
     "iopub.execute_input": "2024-02-28T17:37:13.120836Z",
     "iopub.status.busy": "2024-02-28T17:37:13.120001Z",
     "iopub.status.idle": "2024-02-28T17:37:13.124193Z",
     "shell.execute_reply": "2024-02-28T17:37:13.123325Z"
    },
    "papermill": {
     "duration": 0.028273,
     "end_time": "2024-02-28T17:37:13.126196",
     "exception": false,
     "start_time": "2024-02-28T17:37:13.097923",
     "status": "completed"
    },
    "tags": []
   },
   "outputs": [],
   "source": [
    "# plot_optimization_history(study_greek)"
   ]
  },
  {
   "cell_type": "code",
   "execution_count": 26,
   "id": "aa9e5a84",
   "metadata": {
    "execution": {
     "iopub.execute_input": "2024-02-28T17:37:13.170160Z",
     "iopub.status.busy": "2024-02-28T17:37:13.169806Z",
     "iopub.status.idle": "2024-02-28T17:37:13.173793Z",
     "shell.execute_reply": "2024-02-28T17:37:13.172988Z"
    },
    "papermill": {
     "duration": 0.027988,
     "end_time": "2024-02-28T17:37:13.175757",
     "exception": false,
     "start_time": "2024-02-28T17:37:13.147769",
     "status": "completed"
    },
    "tags": []
   },
   "outputs": [],
   "source": [
    "# plot_parallel_coordinate(study_greek)"
   ]
  },
  {
   "cell_type": "code",
   "execution_count": 27,
   "id": "8aa2b575",
   "metadata": {
    "execution": {
     "iopub.execute_input": "2024-02-28T17:37:13.220057Z",
     "iopub.status.busy": "2024-02-28T17:37:13.219719Z",
     "iopub.status.idle": "2024-02-28T17:37:13.223765Z",
     "shell.execute_reply": "2024-02-28T17:37:13.222954Z"
    },
    "papermill": {
     "duration": 0.028217,
     "end_time": "2024-02-28T17:37:13.225699",
     "exception": false,
     "start_time": "2024-02-28T17:37:13.197482",
     "status": "completed"
    },
    "tags": []
   },
   "outputs": [],
   "source": [
    "# plot_param_importances(study_greek)"
   ]
  },
  {
   "cell_type": "code",
   "execution_count": 28,
   "id": "527bd16d",
   "metadata": {
    "execution": {
     "iopub.execute_input": "2024-02-28T17:37:13.268685Z",
     "iopub.status.busy": "2024-02-28T17:37:13.268398Z",
     "iopub.status.idle": "2024-02-28T17:37:13.272096Z",
     "shell.execute_reply": "2024-02-28T17:37:13.271367Z"
    },
    "papermill": {
     "duration": 0.027491,
     "end_time": "2024-02-28T17:37:13.274085",
     "exception": false,
     "start_time": "2024-02-28T17:37:13.246594",
     "status": "completed"
    },
    "tags": []
   },
   "outputs": [],
   "source": [
    "# plot_slice(study_greek)"
   ]
  },
  {
   "cell_type": "markdown",
   "id": "b09a695b",
   "metadata": {
    "papermill": {
     "duration": 0.0213,
     "end_time": "2024-02-28T17:37:13.316122",
     "exception": false,
     "start_time": "2024-02-28T17:37:13.294822",
     "status": "completed"
    },
    "tags": []
   },
   "source": [
    "## Optuna Study For DistilGREEK-BERT"
   ]
  },
  {
   "cell_type": "code",
   "execution_count": 29,
   "id": "1103325a",
   "metadata": {
    "execution": {
     "iopub.execute_input": "2024-02-28T17:37:13.360755Z",
     "iopub.status.busy": "2024-02-28T17:37:13.360084Z",
     "iopub.status.idle": "2024-02-28T17:37:13.365142Z",
     "shell.execute_reply": "2024-02-28T17:37:13.364292Z"
    },
    "papermill": {
     "duration": 0.029948,
     "end_time": "2024-02-28T17:37:13.366959",
     "exception": false,
     "start_time": "2024-02-28T17:37:13.337011",
     "status": "completed"
    },
    "tags": []
   },
   "outputs": [],
   "source": [
    "# def objective_distil(trial):\n",
    "#     torch.cuda.empty_cache()\n",
    "\n",
    "#     HiddenSize    = trial.suggest_categorical('Hidden Size', [16, 32, 64, 128, 256])\n",
    "#     Dropout       = trial.suggest_float('Dropout', 0.0, 0.5)\n",
    "#     Epochs        = trial.suggest_categorical('Epochs', [2, 3, 4, 5])\n",
    "#     Lr            = trial.suggest_float('Learning Rate', 1e-06, 1e-05)\n",
    "#     BatchSize     = trial.suggest_categorical('Batch Size', [16, 32, 64])\n",
    "#     MaxLen        = trial.suggest_categorical('Max Len', [64, 128, 256])\n",
    "    \n",
    "    \n",
    "#     device        = \"cuda\" if torch.cuda.is_available() else \"cpu\"\n",
    "#     optimizer     = torch.optim.AdamW\n",
    "#     costFunc      = nn.CrossEntropyLoss() \n",
    "    \n",
    "#     # Eliminate randomness    \n",
    "#     randonmness_elimination(212)\n",
    "\n",
    "#     train_dataloader = create_dataloader(df_train_bp, labels_to_ints, \"Distil\", MaxLen, BatchSize, True)\n",
    "\n",
    "#     val_dataloader = create_dataloader(df_val_bp, labels_to_ints, \"Distil\", MaxLen, BatchSize, False)\n",
    "\n",
    "#     model = GenericBERT(\"Distil\", HiddenSize, Dropout)\n",
    "    \n",
    "#     model = model.to(device)\n",
    "    \n",
    "#     optimizer = optimizer(model.parameters(), lr = Lr)\n",
    "    \n",
    "#     # Do the train\n",
    "#     trained_model, _, _, _, _  = training_process(Epochs, optimizer, train_dataloader, val_dataloader, costFunc, model, 0, device, False)\n",
    "    \n",
    "#     # Val class report  \n",
    "#     _, f_val, _, _, _, _, _ = testing_process(trained_model, val_dataloader, costFunc, device)\n",
    "    \n",
    "#     return f_val"
   ]
  },
  {
   "cell_type": "code",
   "execution_count": 30,
   "id": "3b4a3301",
   "metadata": {
    "execution": {
     "iopub.execute_input": "2024-02-28T17:37:13.409630Z",
     "iopub.status.busy": "2024-02-28T17:37:13.409352Z",
     "iopub.status.idle": "2024-02-28T17:37:13.413156Z",
     "shell.execute_reply": "2024-02-28T17:37:13.412347Z"
    },
    "papermill": {
     "duration": 0.027265,
     "end_time": "2024-02-28T17:37:13.415015",
     "exception": false,
     "start_time": "2024-02-28T17:37:13.387750",
     "status": "completed"
    },
    "tags": []
   },
   "outputs": [],
   "source": [
    "# # I initialized the sampler with specific seed in order to get the same results every time\n",
    "# sampler = optuna.samplers.RandomSampler(seed=212)\n",
    "# study_distil = optuna.create_study(direction = \"maximize\", sampler = sampler, study_name = \"DistilGREEK-BERT Study\")\n",
    "# study_distil.optimize(objective_distil, n_trials = 50)"
   ]
  },
  {
   "cell_type": "code",
   "execution_count": 31,
   "id": "139c790d",
   "metadata": {
    "execution": {
     "iopub.execute_input": "2024-02-28T17:37:13.458636Z",
     "iopub.status.busy": "2024-02-28T17:37:13.458334Z",
     "iopub.status.idle": "2024-02-28T17:37:13.462007Z",
     "shell.execute_reply": "2024-02-28T17:37:13.461299Z"
    },
    "papermill": {
     "duration": 0.027585,
     "end_time": "2024-02-28T17:37:13.464051",
     "exception": false,
     "start_time": "2024-02-28T17:37:13.436466",
     "status": "completed"
    },
    "tags": []
   },
   "outputs": [],
   "source": [
    "# plot_edf(study_distil)"
   ]
  },
  {
   "cell_type": "code",
   "execution_count": 32,
   "id": "3e9d6330",
   "metadata": {
    "execution": {
     "iopub.execute_input": "2024-02-28T17:37:13.506701Z",
     "iopub.status.busy": "2024-02-28T17:37:13.506440Z",
     "iopub.status.idle": "2024-02-28T17:37:13.509894Z",
     "shell.execute_reply": "2024-02-28T17:37:13.509092Z"
    },
    "papermill": {
     "duration": 0.026753,
     "end_time": "2024-02-28T17:37:13.511721",
     "exception": false,
     "start_time": "2024-02-28T17:37:13.484968",
     "status": "completed"
    },
    "tags": []
   },
   "outputs": [],
   "source": [
    "# plot_optimization_history(study_distil)"
   ]
  },
  {
   "cell_type": "code",
   "execution_count": 33,
   "id": "f7a395ea",
   "metadata": {
    "execution": {
     "iopub.execute_input": "2024-02-28T17:37:13.555065Z",
     "iopub.status.busy": "2024-02-28T17:37:13.554727Z",
     "iopub.status.idle": "2024-02-28T17:37:13.558501Z",
     "shell.execute_reply": "2024-02-28T17:37:13.557743Z"
    },
    "papermill": {
     "duration": 0.027563,
     "end_time": "2024-02-28T17:37:13.560340",
     "exception": false,
     "start_time": "2024-02-28T17:37:13.532777",
     "status": "completed"
    },
    "tags": []
   },
   "outputs": [],
   "source": [
    "# plot_parallel_coordinate(study_distil)"
   ]
  },
  {
   "cell_type": "code",
   "execution_count": 34,
   "id": "03882c83",
   "metadata": {
    "execution": {
     "iopub.execute_input": "2024-02-28T17:37:13.603160Z",
     "iopub.status.busy": "2024-02-28T17:37:13.602824Z",
     "iopub.status.idle": "2024-02-28T17:37:13.606529Z",
     "shell.execute_reply": "2024-02-28T17:37:13.605799Z"
    },
    "papermill": {
     "duration": 0.027257,
     "end_time": "2024-02-28T17:37:13.608425",
     "exception": false,
     "start_time": "2024-02-28T17:37:13.581168",
     "status": "completed"
    },
    "tags": []
   },
   "outputs": [],
   "source": [
    "# plot_param_importances(study_distil)"
   ]
  },
  {
   "cell_type": "code",
   "execution_count": 35,
   "id": "aa66bc49",
   "metadata": {
    "execution": {
     "iopub.execute_input": "2024-02-28T17:37:13.651556Z",
     "iopub.status.busy": "2024-02-28T17:37:13.651246Z",
     "iopub.status.idle": "2024-02-28T17:37:13.655043Z",
     "shell.execute_reply": "2024-02-28T17:37:13.654203Z"
    },
    "papermill": {
     "duration": 0.027888,
     "end_time": "2024-02-28T17:37:13.657146",
     "exception": false,
     "start_time": "2024-02-28T17:37:13.629258",
     "status": "completed"
    },
    "tags": []
   },
   "outputs": [],
   "source": [
    "# plot_slice(study_distil)"
   ]
  },
  {
   "cell_type": "markdown",
   "id": "4a175578",
   "metadata": {
    "papermill": {
     "duration": 0.021121,
     "end_time": "2024-02-28T17:37:13.699442",
     "exception": false,
     "start_time": "2024-02-28T17:37:13.678321",
     "status": "completed"
    },
    "tags": []
   },
   "source": [
    "# Best Model\n",
    "\n",
    "### Extract all informations about the best models"
   ]
  },
  {
   "cell_type": "code",
   "execution_count": 36,
   "id": "9f9b3c15",
   "metadata": {
    "execution": {
     "iopub.execute_input": "2024-02-28T17:37:13.743213Z",
     "iopub.status.busy": "2024-02-28T17:37:13.742387Z",
     "iopub.status.idle": "2024-02-28T17:37:13.758318Z",
     "shell.execute_reply": "2024-02-28T17:37:13.757378Z"
    },
    "papermill": {
     "duration": 0.03999,
     "end_time": "2024-02-28T17:37:13.760358",
     "exception": false,
     "start_time": "2024-02-28T17:37:13.720368",
     "status": "completed"
    },
    "tags": []
   },
   "outputs": [],
   "source": [
    "def evaluation_process_best(path, train_dataloader, val_dataloader, model, epochs, optimizer, costFunc, learning_rate, clip, device, show_progress):\n",
    "    model = model.to(device)\n",
    "    \n",
    "    optimizer = optimizer(model.parameters(), lr = learning_rate)\n",
    "    \n",
    "    # Begin timer    \n",
    "    begin_timer = time.perf_counter()\n",
    "    \n",
    "    # Do the train\n",
    "    trained_model, train_losses, val_losses, train_f1, val_f1 = training_process(epochs, optimizer, train_dataloader, val_dataloader, costFunc, model, clip, device, show_progress)\n",
    "\n",
    "    # Stop timer\n",
    "    stop_timer = time.perf_counter()\n",
    "    \n",
    "    loss_val, f_val, a_val, r_val, p_val, preds_val, targets_val = testing_process(trained_model, val_dataloader, costFunc, device)\n",
    "       \n",
    "    show_report(stop_timer - begin_timer, loss_val, f_val, a_val, r_val, p_val)\n",
    "    \n",
    "    print()\n",
    "    \n",
    "    # That's just to save the plots in order for us to download them and use them in report instead of screenshooting everything\n",
    "    fig = plt.figure()\n",
    "    custom_learning_curve(train_losses, val_losses, [i + 1 for i in range(epochs)], \"Epochs\", \"Loss\", False)\n",
    "    plt.close(fig)\n",
    "    try:\n",
    "        fig.savefig(f'{path}/lr_loss.png')    \n",
    "    except:\n",
    "        os.makedirs(f\"{path}\")\n",
    "        fig.savefig(f'{path}/lr_loss.png')  \n",
    "    \n",
    "    fig = plt.figure()\n",
    "    custom_learning_curve(train_f1, val_f1, [i + 1 for i in range(epochs)], \"Epochs\", \"F1-Score\", False)\n",
    "    plt.close(fig)\n",
    "    try:\n",
    "        fig.savefig(f'{path}/lr_f1.png')    \n",
    "    except:\n",
    "        os.makedirs(f\"{path}\")\n",
    "        fig.savefig(f'{path}/lr_f1.png')      \n",
    "    \n",
    "    # ROC Curve\n",
    "    fig = plt.figure()\n",
    "    custom_roc_curve(torch.cat(targets_val).cpu().numpy(), torch.cat(preds_val).cpu().numpy(), False)\n",
    "    plt.close(fig)\n",
    "    try:\n",
    "        fig.savefig(f'{path}/roc.png')    \n",
    "    except:\n",
    "        os.makedirs(f\"{path}\")\n",
    "        fig.savefig(f'{path}/roc.png')\n",
    "\n",
    "    # Confusion Matrix\n",
    "    fig = plt.figure()\n",
    "    conf_matrix = ConfusionMatrix(task='multiclass', num_classes=3, normalize='true').cpu()\n",
    "    custom_confusion_matrix(conf_matrix(torch.cat(preds_val).cpu(), torch.cat(targets_val).cpu()).numpy(), False)\n",
    "    plt.close(fig)\n",
    "    try:\n",
    "        fig.savefig(f'{path}/cm.png')    \n",
    "    except:\n",
    "        os.makedirs(f\"{path}\")\n",
    "        fig.savefig(f'{path}/cm.png')\n",
    "    \n",
    "    \n",
    "    # Display plots       \n",
    "    all_plots = [ \"custom_learning_curve(train_losses, val_losses, [i + 1 for i in range(epochs)], \\\"Epochs\\\", \\\"Loss\\\", False)\",\n",
    "                  \"custom_learning_curve(train_f1, val_f1, [i + 1 for i in range(epochs)], \\\"Epochs\\\", \\\"F1-Score\\\", False)\",\n",
    "                  \"custom_roc_curve(torch.cat(targets_val).cpu().numpy(), torch.cat(preds_val).cpu().numpy(), False)\",\n",
    "                  \"custom_confusion_matrix(conf_matrix(torch.cat(preds_val).cpu(), torch.cat(targets_val).cpu()).numpy(), False)\"\n",
    "                ]\n",
    "    # Make subplots\n",
    "    _, axes = plt.subplots(1, len(all_plots), figsize=(20, 5))\n",
    "    # Print each plot in a different subplot section\n",
    "    for i, plot_command in enumerate(all_plots):\n",
    "        plt.subplot(1, len(all_plots), i + 1)\n",
    "        exec(f\"{plot_command}\")\n",
    "    plt.tight_layout()\n",
    "#     plt.savefig(f\"{path}/combined.png\")\n",
    "    plt.show()"
   ]
  },
  {
   "cell_type": "markdown",
   "id": "5a56f81d",
   "metadata": {
    "papermill": {
     "duration": 0.020872,
     "end_time": "2024-02-28T17:37:13.802889",
     "exception": false,
     "start_time": "2024-02-28T17:37:13.782017",
     "status": "completed"
    },
    "tags": []
   },
   "source": [
    "## GreekBERT\n",
    "\n",
    "### Architecture of Best GreekBERT"
   ]
  },
  {
   "cell_type": "code",
   "execution_count": 37,
   "id": "628fe0e8",
   "metadata": {
    "execution": {
     "iopub.execute_input": "2024-02-28T17:37:13.847408Z",
     "iopub.status.busy": "2024-02-28T17:37:13.846530Z",
     "iopub.status.idle": "2024-02-28T17:37:13.852316Z",
     "shell.execute_reply": "2024-02-28T17:37:13.851447Z"
    },
    "papermill": {
     "duration": 0.030412,
     "end_time": "2024-02-28T17:37:13.854523",
     "exception": false,
     "start_time": "2024-02-28T17:37:13.824111",
     "status": "completed"
    },
    "tags": []
   },
   "outputs": [
    {
     "name": "stdout",
     "output_type": "stream",
     "text": [
      "The architecture of the best GreekBERT, according to optuna, is:\n",
      "Hidden Size:    256\n",
      "Dropout:        0.11216215886569281\n",
      "Epochs:         5\n",
      "Learning Rate:  3.7712893289199845e-06\n",
      "Batch Size:     64\n",
      "Max Length:     256\n"
     ]
    }
   ],
   "source": [
    "print(\"The architecture of the best GreekBERT, according to optuna, is:\")\n",
    "\n",
    "print('Hidden Size:    256')\n",
    "print('Dropout:        0.11216215886569281')\n",
    "print('Epochs:         5')\n",
    "print('Learning Rate:  3.7712893289199845e-06')\n",
    "print('Batch Size:     64')\n",
    "print('Max Length:     256')"
   ]
  },
  {
   "cell_type": "markdown",
   "id": "1820b629",
   "metadata": {
    "papermill": {
     "duration": 0.021435,
     "end_time": "2024-02-28T17:37:13.897271",
     "exception": false,
     "start_time": "2024-02-28T17:37:13.875836",
     "status": "completed"
    },
    "tags": []
   },
   "source": [
    "### Checking for Over/Under-fitting"
   ]
  },
  {
   "cell_type": "code",
   "execution_count": 38,
   "id": "8b2d4c24",
   "metadata": {
    "execution": {
     "iopub.execute_input": "2024-02-28T17:37:13.942091Z",
     "iopub.status.busy": "2024-02-28T17:37:13.941387Z",
     "iopub.status.idle": "2024-02-28T18:11:40.735199Z",
     "shell.execute_reply": "2024-02-28T18:11:40.734406Z"
    },
    "papermill": {
     "duration": 2066.818449,
     "end_time": "2024-02-28T18:11:40.737521",
     "exception": false,
     "start_time": "2024-02-28T17:37:13.919072",
     "status": "completed"
    },
    "tags": []
   },
   "outputs": [
    {
     "data": {
      "application/vnd.jupyter.widget-view+json": {
       "model_id": "e7aa332463284f0ba4fa83ed4c42dd58",
       "version_major": 2,
       "version_minor": 0
      },
      "text/plain": [
       "tokenizer_config.json:   0%|          | 0.00/2.00 [00:00<?, ?B/s]"
      ]
     },
     "metadata": {},
     "output_type": "display_data"
    },
    {
     "data": {
      "application/vnd.jupyter.widget-view+json": {
       "model_id": "82bbc0f1f83f482aaa8eb564e99fe16f",
       "version_major": 2,
       "version_minor": 0
      },
      "text/plain": [
       "config.json:   0%|          | 0.00/459 [00:00<?, ?B/s]"
      ]
     },
     "metadata": {},
     "output_type": "display_data"
    },
    {
     "data": {
      "application/vnd.jupyter.widget-view+json": {
       "model_id": "c71e2f6138314db98a008fb57628d457",
       "version_major": 2,
       "version_minor": 0
      },
      "text/plain": [
       "vocab.txt:   0%|          | 0.00/530k [00:00<?, ?B/s]"
      ]
     },
     "metadata": {},
     "output_type": "display_data"
    },
    {
     "data": {
      "application/vnd.jupyter.widget-view+json": {
       "model_id": "f61f4a3d634d4e3b8706f9862b60c5a5",
       "version_major": 2,
       "version_minor": 0
      },
      "text/plain": [
       "special_tokens_map.json:   0%|          | 0.00/112 [00:00<?, ?B/s]"
      ]
     },
     "metadata": {},
     "output_type": "display_data"
    },
    {
     "data": {
      "application/vnd.jupyter.widget-view+json": {
       "model_id": "0bce3d1b4d1b465dad8c510de4797ce4",
       "version_major": 2,
       "version_minor": 0
      },
      "text/plain": [
       "pytorch_model.bin:   0%|          | 0.00/454M [00:00<?, ?B/s]"
      ]
     },
     "metadata": {},
     "output_type": "display_data"
    },
    {
     "name": "stderr",
     "output_type": "stream",
     "text": [
      "/opt/conda/lib/python3.10/site-packages/torch/_utils.py:831: UserWarning: TypedStorage is deprecated. It will be removed in the future and UntypedStorage will be the only storage class. This should only matter to you if you are using storages directly.  To access UntypedStorage directly, use tensor.untyped_storage() instead of tensor.storage()\n",
      "  return self.fget.__get__(instance, owner)()\n"
     ]
    },
    {
     "name": "stdout",
     "output_type": "stream",
     "text": [
      "Time Taken:   \t\t1949.149\n",
      "Average Loss: \t\t1.0659800120970098\n",
      "F1-Score:     \t\t0.4077274799346924\n",
      "Accuracy:     \t\t0.4082568883895874\n",
      "Recall:       \t\t0.4082568883895874\n",
      "Precision:    \t\t0.4085540175437927\n",
      "\n",
      "Training classification report                  \t\tValidation classification report\n",
      "\t\t\n",
      "              precision    recall  f1-score   support\t\t              precision    recall  f1-score   support\n",
      "\t\t\n",
      "    NEGATIVE       0.45      0.43      0.44     12210\t\t    NEGATIVE       0.41      0.38      0.40      1744\n",
      "     NEUTRAL       0.44      0.42      0.43     12210\t\t     NEUTRAL       0.41      0.39      0.40      1744\n",
      "    POSITIVE       0.44      0.50      0.47     12210\t\t    POSITIVE       0.40      0.45      0.43      1744\n",
      "\t\t\n",
      "    accuracy                           0.45     36630\t\t    accuracy                           0.41      5232\n",
      "   macro avg       0.45      0.45      0.45     36630\t\t   macro avg       0.41      0.41      0.41      5232\n",
      "weighted avg       0.45      0.45      0.45     36630\t\tweighted avg       0.41      0.41      0.41      5232\n",
      "\t\t\n"
     ]
    },
    {
     "data": {
      "image/png": "[encoded data removed]",
      "text/plain": [
       "<Figure size 1500x500 with 2 Axes>"
      ]
     },
     "metadata": {},
     "output_type": "display_data"
    }
   ],
   "source": [
    "# Eliminate randomness    \n",
    "randonmness_elimination(212)\n",
    "\n",
    "# Create DataLoader for the train set\n",
    "train_dataloader = create_dataloader(df_train_bp, labels_to_ints, \"GREEK\", 256, 64, True)\n",
    "\n",
    "# Create DataLoader for the val set\n",
    "val_dataloader = create_dataloader(df_val_bp, labels_to_ints, \"GREEK\", 256, 64, False)\n",
    "\n",
    "model = GenericBERT(\"GREEK\", 256, 0.11216215886569281)\n",
    "\n",
    "evaluation_process( path = f\"exp_greek\",\n",
    "                    train_dataloader = train_dataloader, \n",
    "                    val_dataloader = val_dataloader, \n",
    "                    model = model,\n",
    "                    epochs = 5, \n",
    "                    optimizer = torch.optim.AdamW, \n",
    "                    costFunc = nn.CrossEntropyLoss(), \n",
    "                    learning_rate = 3.7712893289199845e-06,\n",
    "                    clip = 0,\n",
    "                    device = \"cuda\" if torch.cuda.is_available() else \"cpu\",  \n",
    "                    show_progress = False)"
   ]
  },
  {
   "cell_type": "markdown",
   "id": "d65a31c2",
   "metadata": {
    "papermill": {
     "duration": 0.022841,
     "end_time": "2024-02-28T18:11:40.783931",
     "exception": false,
     "start_time": "2024-02-28T18:11:40.761090",
     "status": "completed"
    },
    "tags": []
   },
   "source": [
    "### Extract AUC & Confusion Matrix"
   ]
  },
  {
   "cell_type": "code",
   "execution_count": 39,
   "id": "f6db2eb6",
   "metadata": {
    "execution": {
     "iopub.execute_input": "2024-02-28T18:11:40.831793Z",
     "iopub.status.busy": "2024-02-28T18:11:40.830906Z",
     "iopub.status.idle": "2024-02-28T18:44:30.147227Z",
     "shell.execute_reply": "2024-02-28T18:44:30.146289Z"
    },
    "papermill": {
     "duration": 1969.342422,
     "end_time": "2024-02-28T18:44:30.149310",
     "exception": false,
     "start_time": "2024-02-28T18:11:40.806888",
     "status": "completed"
    },
    "tags": []
   },
   "outputs": [
    {
     "name": "stdout",
     "output_type": "stream",
     "text": [
      "Time Taken:   \t\t1948.812\n",
      "Average Loss: \t\t1.0659800120970098\n",
      "F1-Score:     \t\t0.4077274799346924\n",
      "Accuracy:     \t\t0.4082568883895874\n",
      "Recall:       \t\t0.4082568883895874\n",
      "Precision:    \t\t0.4085540175437927\n",
      "\n"
     ]
    },
    {
     "data": {
      "image/png": "[encoded data removed]",
      "text/plain": [
       "<Figure size 2000x500 with 5 Axes>"
      ]
     },
     "metadata": {},
     "output_type": "display_data"
    }
   ],
   "source": [
    "# Eliminate randomness    \n",
    "randonmness_elimination(212)\n",
    "\n",
    "# Create DataLoader for the train set\n",
    "train_dataloader = create_dataloader(df_train_bp, labels_to_ints, \"GREEK\", 256, 64, True)\n",
    "\n",
    "# Create DataLoader for the val set\n",
    "val_dataloader = create_dataloader(df_val_bp, labels_to_ints, \"GREEK\", 256, 64, False)\n",
    "\n",
    "model = GenericBERT(\"GREEK\", 256, 0.11216215886569281)\n",
    "\n",
    "evaluation_process_best( path = f\"best_greek\",\n",
    "                         train_dataloader = train_dataloader, \n",
    "                         val_dataloader = val_dataloader, \n",
    "                         model = model,\n",
    "                         epochs = 5, \n",
    "                         optimizer = torch.optim.AdamW, \n",
    "                         costFunc = nn.CrossEntropyLoss(), \n",
    "                         learning_rate = 3.7712893289199845e-06,\n",
    "                         clip = 0,\n",
    "                         device = \"cuda\" if torch.cuda.is_available() else \"cpu\",  \n",
    "                         show_progress = False)"
   ]
  },
  {
   "cell_type": "markdown",
   "id": "665981e7",
   "metadata": {
    "papermill": {
     "duration": 0.025928,
     "end_time": "2024-02-28T18:44:30.201175",
     "exception": false,
     "start_time": "2024-02-28T18:44:30.175247",
     "status": "completed"
    },
    "tags": []
   },
   "source": [
    "### Saving the Model"
   ]
  },
  {
   "cell_type": "code",
   "execution_count": 40,
   "id": "fc0a92f1",
   "metadata": {
    "execution": {
     "iopub.execute_input": "2024-02-28T18:44:30.301490Z",
     "iopub.status.busy": "2024-02-28T18:44:30.300445Z",
     "iopub.status.idle": "2024-02-28T18:44:30.921987Z",
     "shell.execute_reply": "2024-02-28T18:44:30.921186Z"
    },
    "papermill": {
     "duration": 0.696486,
     "end_time": "2024-02-28T18:44:30.924248",
     "exception": false,
     "start_time": "2024-02-28T18:44:30.227762",
     "status": "completed"
    },
    "tags": []
   },
   "outputs": [],
   "source": [
    "torch.save(model.state_dict(), OUTPUT_PATH + \"MODELS/best_greek.pt\")"
   ]
  },
  {
   "cell_type": "markdown",
   "id": "422ed6c1",
   "metadata": {
    "papermill": {
     "duration": 0.025154,
     "end_time": "2024-02-28T18:44:30.975367",
     "exception": false,
     "start_time": "2024-02-28T18:44:30.950213",
     "status": "completed"
    },
    "tags": []
   },
   "source": [
    "## DistilGREEK-BERT\n",
    "\n",
    "### Architecture of Best DistilGREEK-BERT"
   ]
  },
  {
   "cell_type": "code",
   "execution_count": 41,
   "id": "37f54b6c",
   "metadata": {
    "execution": {
     "iopub.execute_input": "2024-02-28T18:44:31.028543Z",
     "iopub.status.busy": "2024-02-28T18:44:31.027969Z",
     "iopub.status.idle": "2024-02-28T18:44:31.035756Z",
     "shell.execute_reply": "2024-02-28T18:44:31.034345Z"
    },
    "papermill": {
     "duration": 0.037317,
     "end_time": "2024-02-28T18:44:31.037922",
     "exception": false,
     "start_time": "2024-02-28T18:44:31.000605",
     "status": "completed"
    },
    "tags": []
   },
   "outputs": [
    {
     "name": "stdout",
     "output_type": "stream",
     "text": [
      "The architecture of the best DistilGREEK-BERT, according to optuna, is:\n",
      "Hidden Size:    16\n",
      "Dropout:        0.03703912923817959\n",
      "Epochs:         5\n",
      "Learning Rate:  8.971553826587668e-06\n",
      "Batch Size:     32\n",
      "Max Length:     256\n"
     ]
    }
   ],
   "source": [
    "print(\"The architecture of the best DistilGREEK-BERT, according to optuna, is:\")\n",
    "\n",
    "print('Hidden Size:    16')\n",
    "print('Dropout:        0.03703912923817959')\n",
    "print('Epochs:         5')\n",
    "print('Learning Rate:  8.971553826587668e-06')\n",
    "print('Batch Size:     32')\n",
    "print('Max Length:     256')"
   ]
  },
  {
   "cell_type": "markdown",
   "id": "31dd6f80",
   "metadata": {
    "papermill": {
     "duration": 0.03046,
     "end_time": "2024-02-28T18:44:31.099952",
     "exception": false,
     "start_time": "2024-02-28T18:44:31.069492",
     "status": "completed"
    },
    "tags": []
   },
   "source": [
    "### Checking for Over/Under-fitting"
   ]
  },
  {
   "cell_type": "code",
   "execution_count": 42,
   "id": "31f04a1e",
   "metadata": {
    "execution": {
     "iopub.execute_input": "2024-02-28T18:44:31.154443Z",
     "iopub.status.busy": "2024-02-28T18:44:31.153684Z",
     "iopub.status.idle": "2024-02-28T19:03:23.434788Z",
     "shell.execute_reply": "2024-02-28T19:03:23.433707Z"
    },
    "papermill": {
     "duration": 1132.311509,
     "end_time": "2024-02-28T19:03:23.437222",
     "exception": false,
     "start_time": "2024-02-28T18:44:31.125713",
     "status": "completed"
    },
    "tags": []
   },
   "outputs": [
    {
     "data": {
      "application/vnd.jupyter.widget-view+json": {
       "model_id": "314dbd52c99842fa903d9cce56ba00b9",
       "version_major": 2,
       "version_minor": 0
      },
      "text/plain": [
       "tokenizer_config.json:   0%|          | 0.00/360 [00:00<?, ?B/s]"
      ]
     },
     "metadata": {},
     "output_type": "display_data"
    },
    {
     "data": {
      "application/vnd.jupyter.widget-view+json": {
       "model_id": "85c3abaecdbe40e9839910d8bf86be5f",
       "version_major": 2,
       "version_minor": 0
      },
      "text/plain": [
       "vocab.txt:   0%|          | 0.00/530k [00:00<?, ?B/s]"
      ]
     },
     "metadata": {},
     "output_type": "display_data"
    },
    {
     "data": {
      "application/vnd.jupyter.widget-view+json": {
       "model_id": "d8ed5e40cb264c9092b3d85c67f3cea4",
       "version_major": 2,
       "version_minor": 0
      },
      "text/plain": [
       "special_tokens_map.json:   0%|          | 0.00/125 [00:00<?, ?B/s]"
      ]
     },
     "metadata": {},
     "output_type": "display_data"
    },
    {
     "data": {
      "application/vnd.jupyter.widget-view+json": {
       "model_id": "712d80d26cb6469299ac8a9de74b006b",
       "version_major": 2,
       "version_minor": 0
      },
      "text/plain": [
       "config.json:   0%|          | 0.00/540 [00:00<?, ?B/s]"
      ]
     },
     "metadata": {},
     "output_type": "display_data"
    },
    {
     "data": {
      "application/vnd.jupyter.widget-view+json": {
       "model_id": "15047e07b6964c1ea9cd48f725473587",
       "version_major": 2,
       "version_minor": 0
      },
      "text/plain": [
       "pytorch_model.bin:   0%|          | 0.00/282M [00:00<?, ?B/s]"
      ]
     },
     "metadata": {},
     "output_type": "display_data"
    },
    {
     "name": "stdout",
     "output_type": "stream",
     "text": [
      "Time Taken:   \t\t1065.490\n",
      "Average Loss: \t\t1.0830115959411715\n",
      "F1-Score:     \t\t0.39259088039398193\n",
      "Accuracy:     \t\t0.3931574821472168\n",
      "Recall:       \t\t0.3931574821472168\n",
      "Precision:    \t\t0.39382022619247437\n",
      "\n",
      "Training classification report                  \t\tValidation classification report\n",
      "\t\t\n",
      "              precision    recall  f1-score   support\t\t              precision    recall  f1-score   support\n",
      "\t\t\n",
      "    NEGATIVE       0.41      0.36      0.38     12210\t\t    NEGATIVE       0.40      0.36      0.38      1744\n",
      "     NEUTRAL       0.39      0.43      0.41     12210\t\t     NEUTRAL       0.38      0.43      0.41      1744\n",
      "    POSITIVE       0.41      0.41      0.41     12210\t\t    POSITIVE       0.40      0.39      0.39      1744\n",
      "\t\t\n",
      "    accuracy                           0.40     36630\t\t    accuracy                           0.39      5232\n",
      "   macro avg       0.40      0.40      0.40     36630\t\t   macro avg       0.39      0.39      0.39      5232\n",
      "weighted avg       0.40      0.40      0.40     36630\t\tweighted avg       0.39      0.39      0.39      5232\n",
      "\t\t\n"
     ]
    },
    {
     "data": {
      "image/png": "[encoded data removed]",
      "text/plain": [
       "<Figure size 1500x500 with 2 Axes>"
      ]
     },
     "metadata": {},
     "output_type": "display_data"
    }
   ],
   "source": [
    "# Eliminate randomness    \n",
    "randonmness_elimination(212)\n",
    "\n",
    "# Create DataLoader for the train set\n",
    "train_dataloader = create_dataloader(df_train_bp, labels_to_ints, \"Distil\", 256, 32, True)\n",
    "\n",
    "# Create DataLoader for the val set\n",
    "val_dataloader = create_dataloader(df_val_bp, labels_to_ints, \"Distil\", 256, 32, False)\n",
    "\n",
    "model = GenericBERT(\"Distil\", 16, 0.03703912923817959)\n",
    "\n",
    "evaluation_process( path = f\"exp_distil\",\n",
    "                    train_dataloader = train_dataloader, \n",
    "                    val_dataloader = val_dataloader, \n",
    "                    model = model,\n",
    "                    epochs = 5, \n",
    "                    optimizer = torch.optim.AdamW, \n",
    "                    costFunc = nn.CrossEntropyLoss(), \n",
    "                    learning_rate = 8.971553826587668e-06,\n",
    "                    clip = 0,\n",
    "                    device = \"cuda\" if torch.cuda.is_available() else \"cpu\",  \n",
    "                    show_progress = False)"
   ]
  },
  {
   "cell_type": "markdown",
   "id": "dc289400",
   "metadata": {
    "papermill": {
     "duration": 0.027721,
     "end_time": "2024-02-28T19:03:23.493482",
     "exception": false,
     "start_time": "2024-02-28T19:03:23.465761",
     "status": "completed"
    },
    "tags": []
   },
   "source": [
    "### Extract AUC & Confusion Matrix"
   ]
  },
  {
   "cell_type": "code",
   "execution_count": 43,
   "id": "197dbe98",
   "metadata": {
    "execution": {
     "iopub.execute_input": "2024-02-28T19:03:23.551250Z",
     "iopub.status.busy": "2024-02-28T19:03:23.550504Z",
     "iopub.status.idle": "2024-02-28T19:21:23.124581Z",
     "shell.execute_reply": "2024-02-28T19:21:23.123634Z"
    },
    "papermill": {
     "duration": 1079.605216,
     "end_time": "2024-02-28T19:21:23.126610",
     "exception": false,
     "start_time": "2024-02-28T19:03:23.521394",
     "status": "completed"
    },
    "tags": []
   },
   "outputs": [
    {
     "name": "stdout",
     "output_type": "stream",
     "text": [
      "Time Taken:   \t\t1065.542\n",
      "Average Loss: \t\t1.0830115959411715\n",
      "F1-Score:     \t\t0.39259088039398193\n",
      "Accuracy:     \t\t0.3931574821472168\n",
      "Recall:       \t\t0.3931574821472168\n",
      "Precision:    \t\t0.39382022619247437\n",
      "\n"
     ]
    },
    {
     "data": {
      "image/png": "[encoded data removed]",
      "text/plain": [
       "<Figure size 2000x500 with 5 Axes>"
      ]
     },
     "metadata": {},
     "output_type": "display_data"
    }
   ],
   "source": [
    "# Eliminate randomness    \n",
    "randonmness_elimination(212)\n",
    "\n",
    "# Create DataLoader for the train set\n",
    "train_dataloader = create_dataloader(df_train_bp, labels_to_ints, \"Distil\", 256, 32, True)\n",
    "\n",
    "# Create DataLoader for the val set\n",
    "val_dataloader = create_dataloader(df_val_bp, labels_to_ints, \"Distil\", 256, 32, False)\n",
    "\n",
    "model = GenericBERT(\"Distil\", 16, 0.03703912923817959)\n",
    "\n",
    "evaluation_process_best( path = f\"best_distil\",\n",
    "                         train_dataloader = train_dataloader, \n",
    "                         val_dataloader = val_dataloader, \n",
    "                         model = model,\n",
    "                         epochs = 5, \n",
    "                         optimizer = torch.optim.AdamW, \n",
    "                         costFunc = nn.CrossEntropyLoss(), \n",
    "                         learning_rate = 8.971553826587668e-06,\n",
    "                         clip = 0,\n",
    "                         device = \"cuda\" if torch.cuda.is_available() else \"cpu\",  \n",
    "                         show_progress = False)"
   ]
  },
  {
   "cell_type": "markdown",
   "id": "4e3a81ce",
   "metadata": {
    "papermill": {
     "duration": 0.032876,
     "end_time": "2024-02-28T19:21:23.192514",
     "exception": false,
     "start_time": "2024-02-28T19:21:23.159638",
     "status": "completed"
    },
    "tags": []
   },
   "source": [
    "### Saving the Model"
   ]
  },
  {
   "cell_type": "code",
   "execution_count": 44,
   "id": "bccdfe7d",
   "metadata": {
    "execution": {
     "iopub.execute_input": "2024-02-28T19:21:23.258195Z",
     "iopub.status.busy": "2024-02-28T19:21:23.257330Z",
     "iopub.status.idle": "2024-02-28T19:21:23.599349Z",
     "shell.execute_reply": "2024-02-28T19:21:23.598331Z"
    },
    "papermill": {
     "duration": 0.377307,
     "end_time": "2024-02-28T19:21:23.601719",
     "exception": false,
     "start_time": "2024-02-28T19:21:23.224412",
     "status": "completed"
    },
    "tags": []
   },
   "outputs": [],
   "source": [
    "torch.save(model.state_dict(), OUTPUT_PATH + \"MODELS/best_distil.pt\")"
   ]
  },
  {
   "cell_type": "code",
   "execution_count": 45,
   "id": "0a3bdab5",
   "metadata": {
    "execution": {
     "iopub.execute_input": "2024-02-28T19:21:23.668758Z",
     "iopub.status.busy": "2024-02-28T19:21:23.668406Z",
     "iopub.status.idle": "2024-02-28T19:21:24.738651Z",
     "shell.execute_reply": "2024-02-28T19:21:24.737443Z"
    },
    "papermill": {
     "duration": 1.106382,
     "end_time": "2024-02-28T19:21:24.741205",
     "exception": false,
     "start_time": "2024-02-28T19:21:23.634823",
     "status": "completed"
    },
    "tags": []
   },
   "outputs": [
    {
     "name": "stderr",
     "output_type": "stream",
     "text": [
      "huggingface/tokenizers: The current process just got forked, after parallelism has already been used. Disabling parallelism to avoid deadlocks...\n",
      "To disable this warning, you can either:\n",
      "\t- Avoid using `tokenizers` before the fork if possible\n",
      "\t- Explicitly set the environment variable TOKENIZERS_PARALLELISM=(true | false)\n"
     ]
    }
   ],
   "source": [
    "# This cell was executed in order to take all the images with one download and categorized in their directory\n",
    "!zip -r file.zip /kaggle/working/best_greek /kaggle/working/best_distil /kaggle/working/exp_distil /kaggle/working/exp_greek /kaggle/working/explore -q"
   ]
  },
  {
   "cell_type": "markdown",
   "id": "c0a09610",
   "metadata": {
    "papermill": {
     "duration": 0.031338,
     "end_time": "2024-02-28T19:21:24.805492",
     "exception": false,
     "start_time": "2024-02-28T19:21:24.774154",
     "status": "completed"
    },
    "tags": []
   },
   "source": [
    "# Evaluation on Test Set\n",
    "The function below will make evaluations for the test set. It needs the path to the train and the test. It makes the necessary pre-processing, it creates the previous model, which was found the most optimal among many, and make predictions for the test set in the submission.csv"
   ]
  },
  {
   "cell_type": "code",
   "execution_count": 46,
   "id": "964a9209",
   "metadata": {
    "execution": {
     "iopub.execute_input": "2024-02-28T19:21:24.870528Z",
     "iopub.status.busy": "2024-02-28T19:21:24.870140Z",
     "iopub.status.idle": "2024-02-28T19:21:24.887173Z",
     "shell.execute_reply": "2024-02-28T19:21:24.886302Z"
    },
    "papermill": {
     "duration": 0.051845,
     "end_time": "2024-02-28T19:21:24.888937",
     "exception": false,
     "start_time": "2024-02-28T19:21:24.837092",
     "status": "completed"
    },
    "tags": []
   },
   "outputs": [],
   "source": [
    "def predict_unseen_data(TEST_PATH, BERT_TYPE, CSV_NAME):\n",
    "    torch.cuda.empty_cache()\n",
    "    \n",
    "    # Eliminate randomness    \n",
    "    randonmness_elimination(212)\n",
    "    df_train_cleaned_bp = pd.read_json(OUTPUT_PATH + \"cleaned_train_bp.json\")\n",
    "        \n",
    "    df_test = pd.read_csv(TEST_PATH)\n",
    "       \n",
    "    # First we copy the dataframe\n",
    "    df_test_cleaned_bp = df_test.copy()\n",
    "    \n",
    "    # Now we will clean the text column\n",
    "    df_test_cleaned_bp = clean_tweets(df_test_cleaned_bp)\n",
    "    \n",
    "    # Make dataloader for test\n",
    "\n",
    "    # Map each category to it's corresponding integer\n",
    "    labels_to_ints = {np.unique(df_train_cleaned_bp[\"Sentiment\"])[i]: i for i in range(0, len(np.unique(df_train_cleaned_bp[\"Sentiment\"])))}\n",
    "\n",
    "    # And the other way around in order to change the .csv\n",
    "    ints_to_labels = {i: np.unique(df_train_cleaned_bp[\"Sentiment\"])[i] for i in range(0, len(np.unique(df_train_cleaned_bp[\"Sentiment\"])))}\n",
    "    \n",
    "    device = \"cuda\" if torch.cuda.is_available() else \"cpu\"  \n",
    "    \n",
    "    # Choose between Greek Bert and Distil Greek Bert     \n",
    "    tokenizer = AutoTokenizer.from_pretrained('nlpaueb/bert-base-greek-uncased-v1' if BERT_TYPE == \"GREEK\" else 'EftychiaKarav/DistilGREEK-BERT')\n",
    "\n",
    "    # Extract input_ids and attention_mask for the whole dataframe\n",
    "    encoded = tokenizer.batch_encode_plus( df_test_cleaned_bp['Text'].tolist(), \n",
    "                                           add_special_tokens = True,\n",
    "                                           padding = True,\n",
    "                                           truncation = True,\n",
    "                                           max_length = 256,\n",
    "                                           return_tensors='pt')\n",
    "\n",
    "    # Extract input_ids for the TensorDataset\n",
    "    input_ids = encoded['input_ids']\n",
    "    \n",
    "    # Extract attention_mask for the TensorDataset\n",
    "    attention_mask = encoded['attention_mask']\n",
    "\n",
    "    # Create and store the TensorData\n",
    "    data_set = TensorDataset(input_ids, attention_mask)\n",
    "\n",
    "    # Create and store test DataLoader\n",
    "    test_dataloader =  DataLoader(dataset=data_set, batch_size= 64 if BERT_TYPE == \"GREEK\" else 32, shuffle=False)\n",
    "    \n",
    "    # Create \"dummy\" models in order to load the states    \n",
    "    model = GenericBERT(\"GREEK\", 256, 0.11216215886569281) if BERT_TYPE == \"GREEK\" else GenericBERT(\"Distil\", 16, 0.03703912923817959)\n",
    "    loaded = \"best_greek.pt\" if BERT_TYPE == \"GREEK\" else \"best_distil.pt\" \n",
    "    model.load_state_dict(torch.load(OUTPUT_PATH + \"MODELS/\" + loaded))\n",
    "    \n",
    "    model = model.to(device)\n",
    "    \n",
    "    model.eval()\n",
    "    preds = []\n",
    "    with torch.no_grad():\n",
    "        for input_id, attention_mask in test_dataloader:\n",
    "            torch.cuda.empty_cache()\n",
    "            preds.append(torch.argmax(model(input_id.to(device), attention_mask.to(device)), 1))\n",
    "\n",
    "    final = [ints_to_labels[i] for i in torch.cat(preds).tolist()]\n",
    "\n",
    "    df_final = pd.DataFrame(list(enumerate(final, start=1)), columns=[\"Id\", \"Predicted\"])\n",
    "    df_final.to_csv(OUTPUT_PATH + CSV_NAME, index=False)\n",
    "    \n",
    "    print(\"\\n\\nSentiment Classification is done!\")\n",
    "    print(f\"You can find the results in the {CSV_NAME}\")"
   ]
  },
  {
   "cell_type": "code",
   "execution_count": 47,
   "id": "520b2ac7",
   "metadata": {
    "execution": {
     "iopub.execute_input": "2024-02-28T19:21:24.953919Z",
     "iopub.status.busy": "2024-02-28T19:21:24.953649Z",
     "iopub.status.idle": "2024-02-28T19:23:11.795232Z",
     "shell.execute_reply": "2024-02-28T19:23:11.794306Z"
    },
    "papermill": {
     "duration": 106.90974,
     "end_time": "2024-02-28T19:23:11.830757",
     "exception": false,
     "start_time": "2024-02-28T19:21:24.921017",
     "status": "completed"
    },
    "tags": []
   },
   "outputs": [
    {
     "name": "stdout",
     "output_type": "stream",
     "text": [
      "\n",
      "\n",
      "Sentiment Classification is done!\n",
      "You can find the results in the submission.csv\n"
     ]
    }
   ],
   "source": [
    "predict_unseen_data(INPUT_PATH + \"test_set.csv\", \"GREEK\", \"submission.csv\")"
   ]
  },
  {
   "cell_type": "code",
   "execution_count": 48,
   "id": "d37ae814",
   "metadata": {
    "execution": {
     "iopub.execute_input": "2024-02-28T19:23:11.896255Z",
     "iopub.status.busy": "2024-02-28T19:23:11.895930Z",
     "iopub.status.idle": "2024-02-28T19:24:47.763202Z",
     "shell.execute_reply": "2024-02-28T19:24:47.762105Z"
    },
    "papermill": {
     "duration": 95.935774,
     "end_time": "2024-02-28T19:24:47.799117",
     "exception": false,
     "start_time": "2024-02-28T19:23:11.863343",
     "status": "completed"
    },
    "tags": []
   },
   "outputs": [
    {
     "name": "stdout",
     "output_type": "stream",
     "text": [
      "\n",
      "\n",
      "Sentiment Classification is done!\n",
      "You can find the results in the submission_distil.csv\n"
     ]
    }
   ],
   "source": [
    "predict_unseen_data(INPUT_PATH + \"test_set.csv\", \"Distil\", \"submission_distil.csv\")"
   ]
  }
 ],
 "metadata": {
  "kaggle": {
   "accelerator": "none",
   "dataSources": [
    {
     "databundleVersionId": 7632283,
     "sourceId": 68801,
     "sourceType": "competition"
    }
   ],
   "dockerImageVersionId": 30646,
   "isGpuEnabled": false,
   "isInternetEnabled": true,
   "language": "python",
   "sourceType": "notebook"
  },
  "kernelspec": {
   "display_name": "Python 3",
   "language": "python",
   "name": "python3"
  },
  "language_info": {
   "codemirror_mode": {
    "name": "ipython",
    "version": 3
   },
   "file_extension": ".py",
   "mimetype": "text/x-python",
   "name": "python",
   "nbconvert_exporter": "python",
   "pygments_lexer": "ipython3",
   "version": "3.10.13"
  },
  "papermill": {
   "default_parameters": {},
   "duration": 6866.158564,
   "end_time": "2024-02-28T19:24:51.160726",
   "environment_variables": {},
   "exception": null,
   "input_path": "__notebook__.ipynb",
   "output_path": "__notebook__.ipynb",
   "parameters": {},
   "start_time": "2024-02-28T17:30:25.002162",
   "version": "2.5.0"
  },
  "widgets": {
   "application/vnd.jupyter.widget-state+json": {
    "state": {
     "02af029ba3f340578711acd5bde5de55": {
      "model_module": "@jupyter-widgets/controls",
      "model_module_version": "1.5.0",
      "model_name": "HTMLModel",
      "state": {
       "_dom_classes": [],
       "_model_module": "@jupyter-widgets/controls",
       "_model_module_version": "1.5.0",
       "_model_name": "HTMLModel",
       "_view_count": null,
       "_view_module": "@jupyter-widgets/controls",
       "_view_module_version": "1.5.0",
       "_view_name": "HTMLView",
       "description": "",
       "description_tooltip": null,
       "layout": "IPY_MODEL_fcc85fd587954fb8a129d002b2093205",
       "placeholder": "​",
       "style": "IPY_MODEL_91bf7d3f99284a1d9db71e70900ac1f4",
       "value": " 540/540 [00:00&lt;00:00, 39.2kB/s]"
      }
     },
     "037fe2ffd107474fa660c65ffdc92015": {
      "model_module": "@jupyter-widgets/controls",
      "model_module_version": "1.5.0",
      "model_name": "ProgressStyleModel",
      "state": {
       "_model_module": "@jupyter-widgets/controls",
       "_model_module_version": "1.5.0",
       "_model_name": "ProgressStyleModel",
       "_view_count": null,
       "_view_module": "@jupyter-widgets/base",
       "_view_module_version": "1.2.0",
       "_view_name": "StyleView",
       "bar_color": null,
       "description_width": ""
      }
     },
     "0410f128c6ff40858fdc1ff909c2b90a": {
      "model_module": "@jupyter-widgets/controls",
      "model_module_version": "1.5.0",
      "model_name": "DescriptionStyleModel",
      "state": {
       "_model_module": "@jupyter-widgets/controls",
       "_model_module_version": "1.5.0",
       "_model_name": "DescriptionStyleModel",
       "_view_count": null,
       "_view_module": "@jupyter-widgets/base",
       "_view_module_version": "1.2.0",
       "_view_name": "StyleView",
       "description_width": ""
      }
     },
     "043bf5634cdc4c2b9bb1270cf3e11d1f": {
      "model_module": "@jupyter-widgets/base",
      "model_module_version": "1.2.0",
      "model_name": "LayoutModel",
      "state": {
       "_model_module": "@jupyter-widgets/base",
       "_model_module_version": "1.2.0",
       "_model_name": "LayoutModel",
       "_view_count": null,
       "_view_module": "@jupyter-widgets/base",
       "_view_module_version": "1.2.0",
       "_view_name": "LayoutView",
       "align_content": null,
       "align_items": null,
       "align_self": null,
       "border": null,
       "bottom": null,
       "display": null,
       "flex": null,
       "flex_flow": null,
       "grid_area": null,
       "grid_auto_columns": null,
       "grid_auto_flow": null,
       "grid_auto_rows": null,
       "grid_column": null,
       "grid_gap": null,
       "grid_row": null,
       "grid_template_areas": null,
       "grid_template_columns": null,
       "grid_template_rows": null,
       "height": null,
       "justify_content": null,
       "justify_items": null,
       "left": null,
       "margin": null,
       "max_height": null,
       "max_width": null,
       "min_height": null,
       "min_width": null,
       "object_fit": null,
       "object_position": null,
       "order": null,
       "overflow": null,
       "overflow_x": null,
       "overflow_y": null,
       "padding": null,
       "right": null,
       "top": null,
       "visibility": null,
       "width": null
      }
     },
     "06adca678030459aba011ae3586b2075": {
      "model_module": "@jupyter-widgets/controls",
      "model_module_version": "1.5.0",
      "model_name": "HTMLModel",
      "state": {
       "_dom_classes": [],
       "_model_module": "@jupyter-widgets/controls",
       "_model_module_version": "1.5.0",
       "_model_name": "HTMLModel",
       "_view_count": null,
       "_view_module": "@jupyter-widgets/controls",
       "_view_module_version": "1.5.0",
       "_view_name": "HTMLView",
       "description": "",
       "description_tooltip": null,
       "layout": "IPY_MODEL_043bf5634cdc4c2b9bb1270cf3e11d1f",
       "placeholder": "​",
       "style": "IPY_MODEL_cad283b680cd4ee5ba3a32210f1e789c",
       "value": "tokenizer_config.json: 100%"
      }
     },
     "0bce3d1b4d1b465dad8c510de4797ce4": {
      "model_module": "@jupyter-widgets/controls",
      "model_module_version": "1.5.0",
      "model_name": "HBoxModel",
      "state": {
       "_dom_classes": [],
       "_model_module": "@jupyter-widgets/controls",
       "_model_module_version": "1.5.0",
       "_model_name": "HBoxModel",
       "_view_count": null,
       "_view_module": "@jupyter-widgets/controls",
       "_view_module_version": "1.5.0",
       "_view_name": "HBoxView",
       "box_style": "",
       "children": [
        "IPY_MODEL_33f4415b01b747239eab8dcfc25324b7",
        "IPY_MODEL_330d66ab73054d18b4452ca63f000a3b",
        "IPY_MODEL_cf8429ab87c1432c8e921648db61d0be"
       ],
       "layout": "IPY_MODEL_d5e55a4bbfd74a51b9c7e49988bfa5e5"
      }
     },
     "0d3d5fb7dffe404c8f22b406fb211dda": {
      "model_module": "@jupyter-widgets/controls",
      "model_module_version": "1.5.0",
      "model_name": "DescriptionStyleModel",
      "state": {
       "_model_module": "@jupyter-widgets/controls",
       "_model_module_version": "1.5.0",
       "_model_name": "DescriptionStyleModel",
       "_view_count": null,
       "_view_module": "@jupyter-widgets/base",
       "_view_module_version": "1.2.0",
       "_view_name": "StyleView",
       "description_width": ""
      }
     },
     "0dcbc7d544cc4b52b343068ff21bd4f5": {
      "model_module": "@jupyter-widgets/controls",
      "model_module_version": "1.5.0",
      "model_name": "HTMLModel",
      "state": {
       "_dom_classes": [],
       "_model_module": "@jupyter-widgets/controls",
       "_model_module_version": "1.5.0",
       "_model_name": "HTMLModel",
       "_view_count": null,
       "_view_module": "@jupyter-widgets/controls",
       "_view_module_version": "1.5.0",
       "_view_name": "HTMLView",
       "description": "",
       "description_tooltip": null,
       "layout": "IPY_MODEL_50e98a18bcba439a8fc42dbf78848d1a",
       "placeholder": "​",
       "style": "IPY_MODEL_e17c7aa76d2b4ecc9fcdf36e61783bda",
       "value": " 282M/282M [00:00&lt;00:00, 353MB/s]"
      }
     },
     "1117163ae7334f1b9f2bfd0688603e94": {
      "model_module": "@jupyter-widgets/controls",
      "model_module_version": "1.5.0",
      "model_name": "HTMLModel",
      "state": {
       "_dom_classes": [],
       "_model_module": "@jupyter-widgets/controls",
       "_model_module_version": "1.5.0",
       "_model_name": "HTMLModel",
       "_view_count": null,
       "_view_module": "@jupyter-widgets/controls",
       "_view_module_version": "1.5.0",
       "_view_name": "HTMLView",
       "description": "",
       "description_tooltip": null,
       "layout": "IPY_MODEL_f6dcde245657403e802cd0f173e6c356",
       "placeholder": "​",
       "style": "IPY_MODEL_895d1074a0f64cab81d7cc2f3852a139",
       "value": " 112/112 [00:00&lt;00:00, 9.71kB/s]"
      }
     },
     "119f4388b27243ba8f823ad3e38c7b40": {
      "model_module": "@jupyter-widgets/base",
      "model_module_version": "1.2.0",
      "model_name": "LayoutModel",
      "state": {
       "_model_module": "@jupyter-widgets/base",
       "_model_module_version": "1.2.0",
       "_model_name": "LayoutModel",
       "_view_count": null,
       "_view_module": "@jupyter-widgets/base",
       "_view_module_version": "1.2.0",
       "_view_name": "LayoutView",
       "align_content": null,
       "align_items": null,
       "align_self": null,
       "border": null,
       "bottom": null,
       "display": null,
       "flex": null,
       "flex_flow": null,
       "grid_area": null,
       "grid_auto_columns": null,
       "grid_auto_flow": null,
       "grid_auto_rows": null,
       "grid_column": null,
       "grid_gap": null,
       "grid_row": null,
       "grid_template_areas": null,
       "grid_template_columns": null,
       "grid_template_rows": null,
       "height": null,
       "justify_content": null,
       "justify_items": null,
       "left": null,
       "margin": null,
       "max_height": null,
       "max_width": null,
       "min_height": null,
       "min_width": null,
       "object_fit": null,
       "object_position": null,
       "order": null,
       "overflow": null,
       "overflow_x": null,
       "overflow_y": null,
       "padding": null,
       "right": null,
       "top": null,
       "visibility": null,
       "width": null
      }
     },
     "1238604caa5c40faa2ef743f93f7fe2a": {
      "model_module": "@jupyter-widgets/controls",
      "model_module_version": "1.5.0",
      "model_name": "FloatProgressModel",
      "state": {
       "_dom_classes": [],
       "_model_module": "@jupyter-widgets/controls",
       "_model_module_version": "1.5.0",
       "_model_name": "FloatProgressModel",
       "_view_count": null,
       "_view_module": "@jupyter-widgets/controls",
       "_view_module_version": "1.5.0",
       "_view_name": "ProgressView",
       "bar_style": "success",
       "description": "",
       "description_tooltip": null,
       "layout": "IPY_MODEL_b02789a9b985406dae7e6e42d45e78f9",
       "max": 125.0,
       "min": 0.0,
       "orientation": "horizontal",
       "style": "IPY_MODEL_cdd509fa2b2d4d24ad8deb1fc951b011",
       "value": 125.0
      }
     },
     "15047e07b6964c1ea9cd48f725473587": {
      "model_module": "@jupyter-widgets/controls",
      "model_module_version": "1.5.0",
      "model_name": "HBoxModel",
      "state": {
       "_dom_classes": [],
       "_model_module": "@jupyter-widgets/controls",
       "_model_module_version": "1.5.0",
       "_model_name": "HBoxModel",
       "_view_count": null,
       "_view_module": "@jupyter-widgets/controls",
       "_view_module_version": "1.5.0",
       "_view_name": "HBoxView",
       "box_style": "",
       "children": [
        "IPY_MODEL_86a9d05883c041a28e4fdc0ba8eeb5ad",
        "IPY_MODEL_59b49166d9b64db68473585b89f60007",
        "IPY_MODEL_0dcbc7d544cc4b52b343068ff21bd4f5"
       ],
       "layout": "IPY_MODEL_40263e2ecf724189a44b81d0ea039394"
      }
     },
     "1b09e4cfa35b43188b738595089baa49": {
      "model_module": "@jupyter-widgets/base",
      "model_module_version": "1.2.0",
      "model_name": "LayoutModel",
      "state": {
       "_model_module": "@jupyter-widgets/base",
       "_model_module_version": "1.2.0",
       "_model_name": "LayoutModel",
       "_view_count": null,
       "_view_module": "@jupyter-widgets/base",
       "_view_module_version": "1.2.0",
       "_view_name": "LayoutView",
       "align_content": null,
       "align_items": null,
       "align_self": null,
       "border": null,
       "bottom": null,
       "display": null,
       "flex": null,
       "flex_flow": null,
       "grid_area": null,
       "grid_auto_columns": null,
       "grid_auto_flow": null,
       "grid_auto_rows": null,
       "grid_column": null,
       "grid_gap": null,
       "grid_row": null,
       "grid_template_areas": null,
       "grid_template_columns": null,
       "grid_template_rows": null,
       "height": null,
       "justify_content": null,
       "justify_items": null,
       "left": null,
       "margin": null,
       "max_height": null,
       "max_width": null,
       "min_height": null,
       "min_width": null,
       "object_fit": null,
       "object_position": null,
       "order": null,
       "overflow": null,
       "overflow_x": null,
       "overflow_y": null,
       "padding": null,
       "right": null,
       "top": null,
       "visibility": null,
       "width": null
      }
     },
     "1ba169691e714a98af89893e534691e8": {
      "model_module": "@jupyter-widgets/controls",
      "model_module_version": "1.5.0",
      "model_name": "ProgressStyleModel",
      "state": {
       "_model_module": "@jupyter-widgets/controls",
       "_model_module_version": "1.5.0",
       "_model_name": "ProgressStyleModel",
       "_view_count": null,
       "_view_module": "@jupyter-widgets/base",
       "_view_module_version": "1.2.0",
       "_view_name": "StyleView",
       "bar_color": null,
       "description_width": ""
      }
     },
     "1fb23f1c8c984f2e8d110d02d59493e3": {
      "model_module": "@jupyter-widgets/controls",
      "model_module_version": "1.5.0",
      "model_name": "DescriptionStyleModel",
      "state": {
       "_model_module": "@jupyter-widgets/controls",
       "_model_module_version": "1.5.0",
       "_model_name": "DescriptionStyleModel",
       "_view_count": null,
       "_view_module": "@jupyter-widgets/base",
       "_view_module_version": "1.2.0",
       "_view_name": "StyleView",
       "description_width": ""
      }
     },
     "1fc4c46e749e4fd887723b9280f9530e": {
      "model_module": "@jupyter-widgets/controls",
      "model_module_version": "1.5.0",
      "model_name": "HTMLModel",
      "state": {
       "_dom_classes": [],
       "_model_module": "@jupyter-widgets/controls",
       "_model_module_version": "1.5.0",
       "_model_name": "HTMLModel",
       "_view_count": null,
       "_view_module": "@jupyter-widgets/controls",
       "_view_module_version": "1.5.0",
       "_view_name": "HTMLView",
       "description": "",
       "description_tooltip": null,
       "layout": "IPY_MODEL_6a30834548a4468eadeddc016d5b176a",
       "placeholder": "​",
       "style": "IPY_MODEL_2fb323059ebf431e83c9e093f85eaf0b",
       "value": " 360/360 [00:00&lt;00:00, 24.0kB/s]"
      }
     },
     "2f64cab9bd354bf1bc540539258e4c9c": {
      "model_module": "@jupyter-widgets/controls",
      "model_module_version": "1.5.0",
      "model_name": "HTMLModel",
      "state": {
       "_dom_classes": [],
       "_model_module": "@jupyter-widgets/controls",
       "_model_module_version": "1.5.0",
       "_model_name": "HTMLModel",
       "_view_count": null,
       "_view_module": "@jupyter-widgets/controls",
       "_view_module_version": "1.5.0",
       "_view_name": "HTMLView",
       "description": "",
       "description_tooltip": null,
       "layout": "IPY_MODEL_8474664271ba496a9d18b984e8fdd903",
       "placeholder": "​",
       "style": "IPY_MODEL_0d3d5fb7dffe404c8f22b406fb211dda",
       "value": "special_tokens_map.json: 100%"
      }
     },
     "2fb323059ebf431e83c9e093f85eaf0b": {
      "model_module": "@jupyter-widgets/controls",
      "model_module_version": "1.5.0",
      "model_name": "DescriptionStyleModel",
      "state": {
       "_model_module": "@jupyter-widgets/controls",
       "_model_module_version": "1.5.0",
       "_model_name": "DescriptionStyleModel",
       "_view_count": null,
       "_view_module": "@jupyter-widgets/base",
       "_view_module_version": "1.2.0",
       "_view_name": "StyleView",
       "description_width": ""
      }
     },
     "314dbd52c99842fa903d9cce56ba00b9": {
      "model_module": "@jupyter-widgets/controls",
      "model_module_version": "1.5.0",
      "model_name": "HBoxModel",
      "state": {
       "_dom_classes": [],
       "_model_module": "@jupyter-widgets/controls",
       "_model_module_version": "1.5.0",
       "_model_name": "HBoxModel",
       "_view_count": null,
       "_view_module": "@jupyter-widgets/controls",
       "_view_module_version": "1.5.0",
       "_view_name": "HBoxView",
       "box_style": "",
       "children": [
        "IPY_MODEL_06adca678030459aba011ae3586b2075",
        "IPY_MODEL_6588ca32dfa24c7c8abf507adb5a259d",
        "IPY_MODEL_1fc4c46e749e4fd887723b9280f9530e"
       ],
       "layout": "IPY_MODEL_a9e3f3bff6b74e98a4e52ee3c7a86b3a"
      }
     },
     "330d66ab73054d18b4452ca63f000a3b": {
      "model_module": "@jupyter-widgets/controls",
      "model_module_version": "1.5.0",
      "model_name": "FloatProgressModel",
      "state": {
       "_dom_classes": [],
       "_model_module": "@jupyter-widgets/controls",
       "_model_module_version": "1.5.0",
       "_model_name": "FloatProgressModel",
       "_view_count": null,
       "_view_module": "@jupyter-widgets/controls",
       "_view_module_version": "1.5.0",
       "_view_name": "ProgressView",
       "bar_style": "success",
       "description": "",
       "description_tooltip": null,
       "layout": "IPY_MODEL_57ff40946a4c400a830117281c91d1f4",
       "max": 454248854.0,
       "min": 0.0,
       "orientation": "horizontal",
       "style": "IPY_MODEL_1ba169691e714a98af89893e534691e8",
       "value": 454248854.0
      }
     },
     "33f4415b01b747239eab8dcfc25324b7": {
      "model_module": "@jupyter-widgets/controls",
      "model_module_version": "1.5.0",
      "model_name": "HTMLModel",
      "state": {
       "_dom_classes": [],
       "_model_module": "@jupyter-widgets/controls",
       "_model_module_version": "1.5.0",
       "_model_name": "HTMLModel",
       "_view_count": null,
       "_view_module": "@jupyter-widgets/controls",
       "_view_module_version": "1.5.0",
       "_view_name": "HTMLView",
       "description": "",
       "description_tooltip": null,
       "layout": "IPY_MODEL_504987b10d3e4b58a4c2a3400632d5f4",
       "placeholder": "​",
       "style": "IPY_MODEL_4ab6def0e5924ff3a9a5fc10db229b70",
       "value": "pytorch_model.bin: 100%"
      }
     },
     "35e9f91ef85a4e6199c1d0d472ae5bb1": {
      "model_module": "@jupyter-widgets/controls",
      "model_module_version": "1.5.0",
      "model_name": "ProgressStyleModel",
      "state": {
       "_model_module": "@jupyter-widgets/controls",
       "_model_module_version": "1.5.0",
       "_model_name": "ProgressStyleModel",
       "_view_count": null,
       "_view_module": "@jupyter-widgets/base",
       "_view_module_version": "1.2.0",
       "_view_name": "StyleView",
       "bar_color": null,
       "description_width": ""
      }
     },
     "3ad73e8de1fd4c87bea2064adcd7f561": {
      "model_module": "@jupyter-widgets/controls",
      "model_module_version": "1.5.0",
      "model_name": "DescriptionStyleModel",
      "state": {
       "_model_module": "@jupyter-widgets/controls",
       "_model_module_version": "1.5.0",
       "_model_name": "DescriptionStyleModel",
       "_view_count": null,
       "_view_module": "@jupyter-widgets/base",
       "_view_module_version": "1.2.0",
       "_view_name": "StyleView",
       "description_width": ""
      }
     },
     "40263e2ecf724189a44b81d0ea039394": {
      "model_module": "@jupyter-widgets/base",
      "model_module_version": "1.2.0",
      "model_name": "LayoutModel",
      "state": {
       "_model_module": "@jupyter-widgets/base",
       "_model_module_version": "1.2.0",
       "_model_name": "LayoutModel",
       "_view_count": null,
       "_view_module": "@jupyter-widgets/base",
       "_view_module_version": "1.2.0",
       "_view_name": "LayoutView",
       "align_content": null,
       "align_items": null,
       "align_self": null,
       "border": null,
       "bottom": null,
       "display": null,
       "flex": null,
       "flex_flow": null,
       "grid_area": null,
       "grid_auto_columns": null,
       "grid_auto_flow": null,
       "grid_auto_rows": null,
       "grid_column": null,
       "grid_gap": null,
       "grid_row": null,
       "grid_template_areas": null,
       "grid_template_columns": null,
       "grid_template_rows": null,
       "height": null,
       "justify_content": null,
       "justify_items": null,
       "left": null,
       "margin": null,
       "max_height": null,
       "max_width": null,
       "min_height": null,
       "min_width": null,
       "object_fit": null,
       "object_position": null,
       "order": null,
       "overflow": null,
       "overflow_x": null,
       "overflow_y": null,
       "padding": null,
       "right": null,
       "top": null,
       "visibility": null,
       "width": null
      }
     },
     "48a83b5bccde4dd081f10ee081f427d0": {
      "model_module": "@jupyter-widgets/controls",
      "model_module_version": "1.5.0",
      "model_name": "ProgressStyleModel",
      "state": {
       "_model_module": "@jupyter-widgets/controls",
       "_model_module_version": "1.5.0",
       "_model_name": "ProgressStyleModel",
       "_view_count": null,
       "_view_module": "@jupyter-widgets/base",
       "_view_module_version": "1.2.0",
       "_view_name": "StyleView",
       "bar_color": null,
       "description_width": ""
      }
     },
     "48b111dcdff9457784fe193df2e16208": {
      "model_module": "@jupyter-widgets/controls",
      "model_module_version": "1.5.0",
      "model_name": "DescriptionStyleModel",
      "state": {
       "_model_module": "@jupyter-widgets/controls",
       "_model_module_version": "1.5.0",
       "_model_name": "DescriptionStyleModel",
       "_view_count": null,
       "_view_module": "@jupyter-widgets/base",
       "_view_module_version": "1.2.0",
       "_view_name": "StyleView",
       "description_width": ""
      }
     },
     "497807d8a2694ebbb50897e7387f9f8a": {
      "model_module": "@jupyter-widgets/controls",
      "model_module_version": "1.5.0",
      "model_name": "HTMLModel",
      "state": {
       "_dom_classes": [],
       "_model_module": "@jupyter-widgets/controls",
       "_model_module_version": "1.5.0",
       "_model_name": "HTMLModel",
       "_view_count": null,
       "_view_module": "@jupyter-widgets/controls",
       "_view_module_version": "1.5.0",
       "_view_name": "HTMLView",
       "description": "",
       "description_tooltip": null,
       "layout": "IPY_MODEL_ff1beb82d76c4f19a3ca43471530da5d",
       "placeholder": "​",
       "style": "IPY_MODEL_48b111dcdff9457784fe193df2e16208",
       "value": "vocab.txt: 100%"
      }
     },
     "4ab6def0e5924ff3a9a5fc10db229b70": {
      "model_module": "@jupyter-widgets/controls",
      "model_module_version": "1.5.0",
      "model_name": "DescriptionStyleModel",
      "state": {
       "_model_module": "@jupyter-widgets/controls",
       "_model_module_version": "1.5.0",
       "_model_name": "DescriptionStyleModel",
       "_view_count": null,
       "_view_module": "@jupyter-widgets/base",
       "_view_module_version": "1.2.0",
       "_view_name": "StyleView",
       "description_width": ""
      }
     },
     "4eae215088c34784a3ee408166ccaa2b": {
      "model_module": "@jupyter-widgets/controls",
      "model_module_version": "1.5.0",
      "model_name": "HTMLModel",
      "state": {
       "_dom_classes": [],
       "_model_module": "@jupyter-widgets/controls",
       "_model_module_version": "1.5.0",
       "_model_name": "HTMLModel",
       "_view_count": null,
       "_view_module": "@jupyter-widgets/controls",
       "_view_module_version": "1.5.0",
       "_view_name": "HTMLView",
       "description": "",
       "description_tooltip": null,
       "layout": "IPY_MODEL_e9174250f2824c419315a9271f4e748e",
       "placeholder": "​",
       "style": "IPY_MODEL_6bd4466cade2446c869637ec663d90b3",
       "value": " 459/459 [00:00&lt;00:00, 41.7kB/s]"
      }
     },
     "504987b10d3e4b58a4c2a3400632d5f4": {
      "model_module": "@jupyter-widgets/base",
      "model_module_version": "1.2.0",
      "model_name": "LayoutModel",
      "state": {
       "_model_module": "@jupyter-widgets/base",
       "_model_module_version": "1.2.0",
       "_model_name": "LayoutModel",
       "_view_count": null,
       "_view_module": "@jupyter-widgets/base",
       "_view_module_version": "1.2.0",
       "_view_name": "LayoutView",
       "align_content": null,
       "align_items": null,
       "align_self": null,
       "border": null,
       "bottom": null,
       "display": null,
       "flex": null,
       "flex_flow": null,
       "grid_area": null,
       "grid_auto_columns": null,
       "grid_auto_flow": null,
       "grid_auto_rows": null,
       "grid_column": null,
       "grid_gap": null,
       "grid_row": null,
       "grid_template_areas": null,
       "grid_template_columns": null,
       "grid_template_rows": null,
       "height": null,
       "justify_content": null,
       "justify_items": null,
       "left": null,
       "margin": null,
       "max_height": null,
       "max_width": null,
       "min_height": null,
       "min_width": null,
       "object_fit": null,
       "object_position": null,
       "order": null,
       "overflow": null,
       "overflow_x": null,
       "overflow_y": null,
       "padding": null,
       "right": null,
       "top": null,
       "visibility": null,
       "width": null
      }
     },
     "5079e5d8a3c94796a5c942fddf9611b9": {
      "model_module": "@jupyter-widgets/base",
      "model_module_version": "1.2.0",
      "model_name": "LayoutModel",
      "state": {
       "_model_module": "@jupyter-widgets/base",
       "_model_module_version": "1.2.0",
       "_model_name": "LayoutModel",
       "_view_count": null,
       "_view_module": "@jupyter-widgets/base",
       "_view_module_version": "1.2.0",
       "_view_name": "LayoutView",
       "align_content": null,
       "align_items": null,
       "align_self": null,
       "border": null,
       "bottom": null,
       "display": null,
       "flex": null,
       "flex_flow": null,
       "grid_area": null,
       "grid_auto_columns": null,
       "grid_auto_flow": null,
       "grid_auto_rows": null,
       "grid_column": null,
       "grid_gap": null,
       "grid_row": null,
       "grid_template_areas": null,
       "grid_template_columns": null,
       "grid_template_rows": null,
       "height": null,
       "justify_content": null,
       "justify_items": null,
       "left": null,
       "margin": null,
       "max_height": null,
       "max_width": null,
       "min_height": null,
       "min_width": null,
       "object_fit": null,
       "object_position": null,
       "order": null,
       "overflow": null,
       "overflow_x": null,
       "overflow_y": null,
       "padding": null,
       "right": null,
       "top": null,
       "visibility": null,
       "width": null
      }
     },
     "507b2796bdd54196b1f3b5153c931b53": {
      "model_module": "@jupyter-widgets/base",
      "model_module_version": "1.2.0",
      "model_name": "LayoutModel",
      "state": {
       "_model_module": "@jupyter-widgets/base",
       "_model_module_version": "1.2.0",
       "_model_name": "LayoutModel",
       "_view_count": null,
       "_view_module": "@jupyter-widgets/base",
       "_view_module_version": "1.2.0",
       "_view_name": "LayoutView",
       "align_content": null,
       "align_items": null,
       "align_self": null,
       "border": null,
       "bottom": null,
       "display": null,
       "flex": null,
       "flex_flow": null,
       "grid_area": null,
       "grid_auto_columns": null,
       "grid_auto_flow": null,
       "grid_auto_rows": null,
       "grid_column": null,
       "grid_gap": null,
       "grid_row": null,
       "grid_template_areas": null,
       "grid_template_columns": null,
       "grid_template_rows": null,
       "height": null,
       "justify_content": null,
       "justify_items": null,
       "left": null,
       "margin": null,
       "max_height": null,
       "max_width": null,
       "min_height": null,
       "min_width": null,
       "object_fit": null,
       "object_position": null,
       "order": null,
       "overflow": null,
       "overflow_x": null,
       "overflow_y": null,
       "padding": null,
       "right": null,
       "top": null,
       "visibility": null,
       "width": null
      }
     },
     "50e98a18bcba439a8fc42dbf78848d1a": {
      "model_module": "@jupyter-widgets/base",
      "model_module_version": "1.2.0",
      "model_name": "LayoutModel",
      "state": {
       "_model_module": "@jupyter-widgets/base",
       "_model_module_version": "1.2.0",
       "_model_name": "LayoutModel",
       "_view_count": null,
       "_view_module": "@jupyter-widgets/base",
       "_view_module_version": "1.2.0",
       "_view_name": "LayoutView",
       "align_content": null,
       "align_items": null,
       "align_self": null,
       "border": null,
       "bottom": null,
       "display": null,
       "flex": null,
       "flex_flow": null,
       "grid_area": null,
       "grid_auto_columns": null,
       "grid_auto_flow": null,
       "grid_auto_rows": null,
       "grid_column": null,
       "grid_gap": null,
       "grid_row": null,
       "grid_template_areas": null,
       "grid_template_columns": null,
       "grid_template_rows": null,
       "height": null,
       "justify_content": null,
       "justify_items": null,
       "left": null,
       "margin": null,
       "max_height": null,
       "max_width": null,
       "min_height": null,
       "min_width": null,
       "object_fit": null,
       "object_position": null,
       "order": null,
       "overflow": null,
       "overflow_x": null,
       "overflow_y": null,
       "padding": null,
       "right": null,
       "top": null,
       "visibility": null,
       "width": null
      }
     },
     "57e37eb0955c4bdf8894767369a4cb9a": {
      "model_module": "@jupyter-widgets/base",
      "model_module_version": "1.2.0",
      "model_name": "LayoutModel",
      "state": {
       "_model_module": "@jupyter-widgets/base",
       "_model_module_version": "1.2.0",
       "_model_name": "LayoutModel",
       "_view_count": null,
       "_view_module": "@jupyter-widgets/base",
       "_view_module_version": "1.2.0",
       "_view_name": "LayoutView",
       "align_content": null,
       "align_items": null,
       "align_self": null,
       "border": null,
       "bottom": null,
       "display": null,
       "flex": null,
       "flex_flow": null,
       "grid_area": null,
       "grid_auto_columns": null,
       "grid_auto_flow": null,
       "grid_auto_rows": null,
       "grid_column": null,
       "grid_gap": null,
       "grid_row": null,
       "grid_template_areas": null,
       "grid_template_columns": null,
       "grid_template_rows": null,
       "height": null,
       "justify_content": null,
       "justify_items": null,
       "left": null,
       "margin": null,
       "max_height": null,
       "max_width": null,
       "min_height": null,
       "min_width": null,
       "object_fit": null,
       "object_position": null,
       "order": null,
       "overflow": null,
       "overflow_x": null,
       "overflow_y": null,
       "padding": null,
       "right": null,
       "top": null,
       "visibility": null,
       "width": null
      }
     },
     "57ff40946a4c400a830117281c91d1f4": {
      "model_module": "@jupyter-widgets/base",
      "model_module_version": "1.2.0",
      "model_name": "LayoutModel",
      "state": {
       "_model_module": "@jupyter-widgets/base",
       "_model_module_version": "1.2.0",
       "_model_name": "LayoutModel",
       "_view_count": null,
       "_view_module": "@jupyter-widgets/base",
       "_view_module_version": "1.2.0",
       "_view_name": "LayoutView",
       "align_content": null,
       "align_items": null,
       "align_self": null,
       "border": null,
       "bottom": null,
       "display": null,
       "flex": null,
       "flex_flow": null,
       "grid_area": null,
       "grid_auto_columns": null,
       "grid_auto_flow": null,
       "grid_auto_rows": null,
       "grid_column": null,
       "grid_gap": null,
       "grid_row": null,
       "grid_template_areas": null,
       "grid_template_columns": null,
       "grid_template_rows": null,
       "height": null,
       "justify_content": null,
       "justify_items": null,
       "left": null,
       "margin": null,
       "max_height": null,
       "max_width": null,
       "min_height": null,
       "min_width": null,
       "object_fit": null,
       "object_position": null,
       "order": null,
       "overflow": null,
       "overflow_x": null,
       "overflow_y": null,
       "padding": null,
       "right": null,
       "top": null,
       "visibility": null,
       "width": null
      }
     },
     "59b49166d9b64db68473585b89f60007": {
      "model_module": "@jupyter-widgets/controls",
      "model_module_version": "1.5.0",
      "model_name": "FloatProgressModel",
      "state": {
       "_dom_classes": [],
       "_model_module": "@jupyter-widgets/controls",
       "_model_module_version": "1.5.0",
       "_model_name": "FloatProgressModel",
       "_view_count": null,
       "_view_module": "@jupyter-widgets/controls",
       "_view_module_version": "1.5.0",
       "_view_name": "ProgressView",
       "bar_style": "success",
       "description": "",
       "description_tooltip": null,
       "layout": "IPY_MODEL_d03f0f8a733d4222b9e89e318ffea99b",
       "max": 281752369.0,
       "min": 0.0,
       "orientation": "horizontal",
       "style": "IPY_MODEL_48a83b5bccde4dd081f10ee081f427d0",
       "value": 281752369.0
      }
     },
     "5a869f3e07f44eb5b712110d3b501ae5": {
      "model_module": "@jupyter-widgets/controls",
      "model_module_version": "1.5.0",
      "model_name": "HTMLModel",
      "state": {
       "_dom_classes": [],
       "_model_module": "@jupyter-widgets/controls",
       "_model_module_version": "1.5.0",
       "_model_name": "HTMLModel",
       "_view_count": null,
       "_view_module": "@jupyter-widgets/controls",
       "_view_module_version": "1.5.0",
       "_view_name": "HTMLView",
       "description": "",
       "description_tooltip": null,
       "layout": "IPY_MODEL_1b09e4cfa35b43188b738595089baa49",
       "placeholder": "​",
       "style": "IPY_MODEL_0410f128c6ff40858fdc1ff909c2b90a",
       "value": " 530k/530k [00:00&lt;00:00, 2.13MB/s]"
      }
     },
     "5b5367e6cfe94200be4c9d85ed9f86ee": {
      "model_module": "@jupyter-widgets/base",
      "model_module_version": "1.2.0",
      "model_name": "LayoutModel",
      "state": {
       "_model_module": "@jupyter-widgets/base",
       "_model_module_version": "1.2.0",
       "_model_name": "LayoutModel",
       "_view_count": null,
       "_view_module": "@jupyter-widgets/base",
       "_view_module_version": "1.2.0",
       "_view_name": "LayoutView",
       "align_content": null,
       "align_items": null,
       "align_self": null,
       "border": null,
       "bottom": null,
       "display": null,
       "flex": null,
       "flex_flow": null,
       "grid_area": null,
       "grid_auto_columns": null,
       "grid_auto_flow": null,
       "grid_auto_rows": null,
       "grid_column": null,
       "grid_gap": null,
       "grid_row": null,
       "grid_template_areas": null,
       "grid_template_columns": null,
       "grid_template_rows": null,
       "height": null,
       "justify_content": null,
       "justify_items": null,
       "left": null,
       "margin": null,
       "max_height": null,
       "max_width": null,
       "min_height": null,
       "min_width": null,
       "object_fit": null,
       "object_position": null,
       "order": null,
       "overflow": null,
       "overflow_x": null,
       "overflow_y": null,
       "padding": null,
       "right": null,
       "top": null,
       "visibility": null,
       "width": null
      }
     },
     "6344d20e3f8f464ca0809946011d04ab": {
      "model_module": "@jupyter-widgets/base",
      "model_module_version": "1.2.0",
      "model_name": "LayoutModel",
      "state": {
       "_model_module": "@jupyter-widgets/base",
       "_model_module_version": "1.2.0",
       "_model_name": "LayoutModel",
       "_view_count": null,
       "_view_module": "@jupyter-widgets/base",
       "_view_module_version": "1.2.0",
       "_view_name": "LayoutView",
       "align_content": null,
       "align_items": null,
       "align_self": null,
       "border": null,
       "bottom": null,
       "display": null,
       "flex": null,
       "flex_flow": null,
       "grid_area": null,
       "grid_auto_columns": null,
       "grid_auto_flow": null,
       "grid_auto_rows": null,
       "grid_column": null,
       "grid_gap": null,
       "grid_row": null,
       "grid_template_areas": null,
       "grid_template_columns": null,
       "grid_template_rows": null,
       "height": null,
       "justify_content": null,
       "justify_items": null,
       "left": null,
       "margin": null,
       "max_height": null,
       "max_width": null,
       "min_height": null,
       "min_width": null,
       "object_fit": null,
       "object_position": null,
       "order": null,
       "overflow": null,
       "overflow_x": null,
       "overflow_y": null,
       "padding": null,
       "right": null,
       "top": null,
       "visibility": null,
       "width": null
      }
     },
     "63a2035f60f6420ebe4176163fdaabb6": {
      "model_module": "@jupyter-widgets/base",
      "model_module_version": "1.2.0",
      "model_name": "LayoutModel",
      "state": {
       "_model_module": "@jupyter-widgets/base",
       "_model_module_version": "1.2.0",
       "_model_name": "LayoutModel",
       "_view_count": null,
       "_view_module": "@jupyter-widgets/base",
       "_view_module_version": "1.2.0",
       "_view_name": "LayoutView",
       "align_content": null,
       "align_items": null,
       "align_self": null,
       "border": null,
       "bottom": null,
       "display": null,
       "flex": null,
       "flex_flow": null,
       "grid_area": null,
       "grid_auto_columns": null,
       "grid_auto_flow": null,
       "grid_auto_rows": null,
       "grid_column": null,
       "grid_gap": null,
       "grid_row": null,
       "grid_template_areas": null,
       "grid_template_columns": null,
       "grid_template_rows": null,
       "height": null,
       "justify_content": null,
       "justify_items": null,
       "left": null,
       "margin": null,
       "max_height": null,
       "max_width": null,
       "min_height": null,
       "min_width": null,
       "object_fit": null,
       "object_position": null,
       "order": null,
       "overflow": null,
       "overflow_x": null,
       "overflow_y": null,
       "padding": null,
       "right": null,
       "top": null,
       "visibility": null,
       "width": null
      }
     },
     "6588ca32dfa24c7c8abf507adb5a259d": {
      "model_module": "@jupyter-widgets/controls",
      "model_module_version": "1.5.0",
      "model_name": "FloatProgressModel",
      "state": {
       "_dom_classes": [],
       "_model_module": "@jupyter-widgets/controls",
       "_model_module_version": "1.5.0",
       "_model_name": "FloatProgressModel",
       "_view_count": null,
       "_view_module": "@jupyter-widgets/controls",
       "_view_module_version": "1.5.0",
       "_view_name": "ProgressView",
       "bar_style": "success",
       "description": "",
       "description_tooltip": null,
       "layout": "IPY_MODEL_afbf9bbc3d97498fa41a1ae1b0f8ed4c",
       "max": 360.0,
       "min": 0.0,
       "orientation": "horizontal",
       "style": "IPY_MODEL_7c27a984fb024e00ae3036a485e0ca4c",
       "value": 360.0
      }
     },
     "69eff31127bb42eaab16ca7f9838aeb7": {
      "model_module": "@jupyter-widgets/controls",
      "model_module_version": "1.5.0",
      "model_name": "DescriptionStyleModel",
      "state": {
       "_model_module": "@jupyter-widgets/controls",
       "_model_module_version": "1.5.0",
       "_model_name": "DescriptionStyleModel",
       "_view_count": null,
       "_view_module": "@jupyter-widgets/base",
       "_view_module_version": "1.2.0",
       "_view_name": "StyleView",
       "description_width": ""
      }
     },
     "6a30834548a4468eadeddc016d5b176a": {
      "model_module": "@jupyter-widgets/base",
      "model_module_version": "1.2.0",
      "model_name": "LayoutModel",
      "state": {
       "_model_module": "@jupyter-widgets/base",
       "_model_module_version": "1.2.0",
       "_model_name": "LayoutModel",
       "_view_count": null,
       "_view_module": "@jupyter-widgets/base",
       "_view_module_version": "1.2.0",
       "_view_name": "LayoutView",
       "align_content": null,
       "align_items": null,
       "align_self": null,
       "border": null,
       "bottom": null,
       "display": null,
       "flex": null,
       "flex_flow": null,
       "grid_area": null,
       "grid_auto_columns": null,
       "grid_auto_flow": null,
       "grid_auto_rows": null,
       "grid_column": null,
       "grid_gap": null,
       "grid_row": null,
       "grid_template_areas": null,
       "grid_template_columns": null,
       "grid_template_rows": null,
       "height": null,
       "justify_content": null,
       "justify_items": null,
       "left": null,
       "margin": null,
       "max_height": null,
       "max_width": null,
       "min_height": null,
       "min_width": null,
       "object_fit": null,
       "object_position": null,
       "order": null,
       "overflow": null,
       "overflow_x": null,
       "overflow_y": null,
       "padding": null,
       "right": null,
       "top": null,
       "visibility": null,
       "width": null
      }
     },
     "6bd4466cade2446c869637ec663d90b3": {
      "model_module": "@jupyter-widgets/controls",
      "model_module_version": "1.5.0",
      "model_name": "DescriptionStyleModel",
      "state": {
       "_model_module": "@jupyter-widgets/controls",
       "_model_module_version": "1.5.0",
       "_model_name": "DescriptionStyleModel",
       "_view_count": null,
       "_view_module": "@jupyter-widgets/base",
       "_view_module_version": "1.2.0",
       "_view_name": "StyleView",
       "description_width": ""
      }
     },
     "6d97909abaa9495ba6f87836ba0cbe75": {
      "model_module": "@jupyter-widgets/base",
      "model_module_version": "1.2.0",
      "model_name": "LayoutModel",
      "state": {
       "_model_module": "@jupyter-widgets/base",
       "_model_module_version": "1.2.0",
       "_model_name": "LayoutModel",
       "_view_count": null,
       "_view_module": "@jupyter-widgets/base",
       "_view_module_version": "1.2.0",
       "_view_name": "LayoutView",
       "align_content": null,
       "align_items": null,
       "align_self": null,
       "border": null,
       "bottom": null,
       "display": null,
       "flex": null,
       "flex_flow": null,
       "grid_area": null,
       "grid_auto_columns": null,
       "grid_auto_flow": null,
       "grid_auto_rows": null,
       "grid_column": null,
       "grid_gap": null,
       "grid_row": null,
       "grid_template_areas": null,
       "grid_template_columns": null,
       "grid_template_rows": null,
       "height": null,
       "justify_content": null,
       "justify_items": null,
       "left": null,
       "margin": null,
       "max_height": null,
       "max_width": null,
       "min_height": null,
       "min_width": null,
       "object_fit": null,
       "object_position": null,
       "order": null,
       "overflow": null,
       "overflow_x": null,
       "overflow_y": null,
       "padding": null,
       "right": null,
       "top": null,
       "visibility": null,
       "width": null
      }
     },
     "712d80d26cb6469299ac8a9de74b006b": {
      "model_module": "@jupyter-widgets/controls",
      "model_module_version": "1.5.0",
      "model_name": "HBoxModel",
      "state": {
       "_dom_classes": [],
       "_model_module": "@jupyter-widgets/controls",
       "_model_module_version": "1.5.0",
       "_model_name": "HBoxModel",
       "_view_count": null,
       "_view_module": "@jupyter-widgets/controls",
       "_view_module_version": "1.5.0",
       "_view_name": "HBoxView",
       "box_style": "",
       "children": [
        "IPY_MODEL_aa60000fc54a44b1bdd4c7cc38be3ba2",
        "IPY_MODEL_d40c050fdb0c42c39e254bbb73dc2539",
        "IPY_MODEL_02af029ba3f340578711acd5bde5de55"
       ],
       "layout": "IPY_MODEL_7b922dcf7da5414b8da89f989df58b90"
      }
     },
     "73387c67e0494193b22116de1c94ffb1": {
      "model_module": "@jupyter-widgets/base",
      "model_module_version": "1.2.0",
      "model_name": "LayoutModel",
      "state": {
       "_model_module": "@jupyter-widgets/base",
       "_model_module_version": "1.2.0",
       "_model_name": "LayoutModel",
       "_view_count": null,
       "_view_module": "@jupyter-widgets/base",
       "_view_module_version": "1.2.0",
       "_view_name": "LayoutView",
       "align_content": null,
       "align_items": null,
       "align_self": null,
       "border": null,
       "bottom": null,
       "display": null,
       "flex": null,
       "flex_flow": null,
       "grid_area": null,
       "grid_auto_columns": null,
       "grid_auto_flow": null,
       "grid_auto_rows": null,
       "grid_column": null,
       "grid_gap": null,
       "grid_row": null,
       "grid_template_areas": null,
       "grid_template_columns": null,
       "grid_template_rows": null,
       "height": null,
       "justify_content": null,
       "justify_items": null,
       "left": null,
       "margin": null,
       "max_height": null,
       "max_width": null,
       "min_height": null,
       "min_width": null,
       "object_fit": null,
       "object_position": null,
       "order": null,
       "overflow": null,
       "overflow_x": null,
       "overflow_y": null,
       "padding": null,
       "right": null,
       "top": null,
       "visibility": null,
       "width": null
      }
     },
     "78b328afb7594ca9974c8634dc8bea59": {
      "model_module": "@jupyter-widgets/base",
      "model_module_version": "1.2.0",
      "model_name": "LayoutModel",
      "state": {
       "_model_module": "@jupyter-widgets/base",
       "_model_module_version": "1.2.0",
       "_model_name": "LayoutModel",
       "_view_count": null,
       "_view_module": "@jupyter-widgets/base",
       "_view_module_version": "1.2.0",
       "_view_name": "LayoutView",
       "align_content": null,
       "align_items": null,
       "align_self": null,
       "border": null,
       "bottom": null,
       "display": null,
       "flex": null,
       "flex_flow": null,
       "grid_area": null,
       "grid_auto_columns": null,
       "grid_auto_flow": null,
       "grid_auto_rows": null,
       "grid_column": null,
       "grid_gap": null,
       "grid_row": null,
       "grid_template_areas": null,
       "grid_template_columns": null,
       "grid_template_rows": null,
       "height": null,
       "justify_content": null,
       "justify_items": null,
       "left": null,
       "margin": null,
       "max_height": null,
       "max_width": null,
       "min_height": null,
       "min_width": null,
       "object_fit": null,
       "object_position": null,
       "order": null,
       "overflow": null,
       "overflow_x": null,
       "overflow_y": null,
       "padding": null,
       "right": null,
       "top": null,
       "visibility": null,
       "width": null
      }
     },
     "7a93d92bec4b4d1c9320734be219cdc3": {
      "model_module": "@jupyter-widgets/controls",
      "model_module_version": "1.5.0",
      "model_name": "DescriptionStyleModel",
      "state": {
       "_model_module": "@jupyter-widgets/controls",
       "_model_module_version": "1.5.0",
       "_model_name": "DescriptionStyleModel",
       "_view_count": null,
       "_view_module": "@jupyter-widgets/base",
       "_view_module_version": "1.2.0",
       "_view_name": "StyleView",
       "description_width": ""
      }
     },
     "7b618bb39e6748b5b4afb9f92a482805": {
      "model_module": "@jupyter-widgets/controls",
      "model_module_version": "1.5.0",
      "model_name": "ProgressStyleModel",
      "state": {
       "_model_module": "@jupyter-widgets/controls",
       "_model_module_version": "1.5.0",
       "_model_name": "ProgressStyleModel",
       "_view_count": null,
       "_view_module": "@jupyter-widgets/base",
       "_view_module_version": "1.2.0",
       "_view_name": "StyleView",
       "bar_color": null,
       "description_width": ""
      }
     },
     "7b922dcf7da5414b8da89f989df58b90": {
      "model_module": "@jupyter-widgets/base",
      "model_module_version": "1.2.0",
      "model_name": "LayoutModel",
      "state": {
       "_model_module": "@jupyter-widgets/base",
       "_model_module_version": "1.2.0",
       "_model_name": "LayoutModel",
       "_view_count": null,
       "_view_module": "@jupyter-widgets/base",
       "_view_module_version": "1.2.0",
       "_view_name": "LayoutView",
       "align_content": null,
       "align_items": null,
       "align_self": null,
       "border": null,
       "bottom": null,
       "display": null,
       "flex": null,
       "flex_flow": null,
       "grid_area": null,
       "grid_auto_columns": null,
       "grid_auto_flow": null,
       "grid_auto_rows": null,
       "grid_column": null,
       "grid_gap": null,
       "grid_row": null,
       "grid_template_areas": null,
       "grid_template_columns": null,
       "grid_template_rows": null,
       "height": null,
       "justify_content": null,
       "justify_items": null,
       "left": null,
       "margin": null,
       "max_height": null,
       "max_width": null,
       "min_height": null,
       "min_width": null,
       "object_fit": null,
       "object_position": null,
       "order": null,
       "overflow": null,
       "overflow_x": null,
       "overflow_y": null,
       "padding": null,
       "right": null,
       "top": null,
       "visibility": null,
       "width": null
      }
     },
     "7c27a984fb024e00ae3036a485e0ca4c": {
      "model_module": "@jupyter-widgets/controls",
      "model_module_version": "1.5.0",
      "model_name": "ProgressStyleModel",
      "state": {
       "_model_module": "@jupyter-widgets/controls",
       "_model_module_version": "1.5.0",
       "_model_name": "ProgressStyleModel",
       "_view_count": null,
       "_view_module": "@jupyter-widgets/base",
       "_view_module_version": "1.2.0",
       "_view_name": "StyleView",
       "bar_color": null,
       "description_width": ""
      }
     },
     "82bbc0f1f83f482aaa8eb564e99fe16f": {
      "model_module": "@jupyter-widgets/controls",
      "model_module_version": "1.5.0",
      "model_name": "HBoxModel",
      "state": {
       "_dom_classes": [],
       "_model_module": "@jupyter-widgets/controls",
       "_model_module_version": "1.5.0",
       "_model_name": "HBoxModel",
       "_view_count": null,
       "_view_module": "@jupyter-widgets/controls",
       "_view_module_version": "1.5.0",
       "_view_name": "HBoxView",
       "box_style": "",
       "children": [
        "IPY_MODEL_91c55b3451b24f0b92b4f34390184dd9",
        "IPY_MODEL_91f8f6b363684167b94c63dd322b18f6",
        "IPY_MODEL_4eae215088c34784a3ee408166ccaa2b"
       ],
       "layout": "IPY_MODEL_6d97909abaa9495ba6f87836ba0cbe75"
      }
     },
     "8474664271ba496a9d18b984e8fdd903": {
      "model_module": "@jupyter-widgets/base",
      "model_module_version": "1.2.0",
      "model_name": "LayoutModel",
      "state": {
       "_model_module": "@jupyter-widgets/base",
       "_model_module_version": "1.2.0",
       "_model_name": "LayoutModel",
       "_view_count": null,
       "_view_module": "@jupyter-widgets/base",
       "_view_module_version": "1.2.0",
       "_view_name": "LayoutView",
       "align_content": null,
       "align_items": null,
       "align_self": null,
       "border": null,
       "bottom": null,
       "display": null,
       "flex": null,
       "flex_flow": null,
       "grid_area": null,
       "grid_auto_columns": null,
       "grid_auto_flow": null,
       "grid_auto_rows": null,
       "grid_column": null,
       "grid_gap": null,
       "grid_row": null,
       "grid_template_areas": null,
       "grid_template_columns": null,
       "grid_template_rows": null,
       "height": null,
       "justify_content": null,
       "justify_items": null,
       "left": null,
       "margin": null,
       "max_height": null,
       "max_width": null,
       "min_height": null,
       "min_width": null,
       "object_fit": null,
       "object_position": null,
       "order": null,
       "overflow": null,
       "overflow_x": null,
       "overflow_y": null,
       "padding": null,
       "right": null,
       "top": null,
       "visibility": null,
       "width": null
      }
     },
     "85c3abaecdbe40e9839910d8bf86be5f": {
      "model_module": "@jupyter-widgets/controls",
      "model_module_version": "1.5.0",
      "model_name": "HBoxModel",
      "state": {
       "_dom_classes": [],
       "_model_module": "@jupyter-widgets/controls",
       "_model_module_version": "1.5.0",
       "_model_name": "HBoxModel",
       "_view_count": null,
       "_view_module": "@jupyter-widgets/controls",
       "_view_module_version": "1.5.0",
       "_view_name": "HBoxView",
       "box_style": "",
       "children": [
        "IPY_MODEL_fc033ab4365c4e66b42d2fff8a37a1db",
        "IPY_MODEL_8e1dd98e6a304c18b268058c62cda5e2",
        "IPY_MODEL_5a869f3e07f44eb5b712110d3b501ae5"
       ],
       "layout": "IPY_MODEL_9f6db722fddf4f2eb25bda293c9f4438"
      }
     },
     "86a9d05883c041a28e4fdc0ba8eeb5ad": {
      "model_module": "@jupyter-widgets/controls",
      "model_module_version": "1.5.0",
      "model_name": "HTMLModel",
      "state": {
       "_dom_classes": [],
       "_model_module": "@jupyter-widgets/controls",
       "_model_module_version": "1.5.0",
       "_model_name": "HTMLModel",
       "_view_count": null,
       "_view_module": "@jupyter-widgets/controls",
       "_view_module_version": "1.5.0",
       "_view_name": "HTMLView",
       "description": "",
       "description_tooltip": null,
       "layout": "IPY_MODEL_ad33b97718c4499cb9d0abc97b4ddc3e",
       "placeholder": "​",
       "style": "IPY_MODEL_e0c15677175a41b99709bf163a77686d",
       "value": "pytorch_model.bin: 100%"
      }
     },
     "872725a6a18c4bc787d0c3dedc716d93": {
      "model_module": "@jupyter-widgets/controls",
      "model_module_version": "1.5.0",
      "model_name": "ProgressStyleModel",
      "state": {
       "_model_module": "@jupyter-widgets/controls",
       "_model_module_version": "1.5.0",
       "_model_name": "ProgressStyleModel",
       "_view_count": null,
       "_view_module": "@jupyter-widgets/base",
       "_view_module_version": "1.2.0",
       "_view_name": "StyleView",
       "bar_color": null,
       "description_width": ""
      }
     },
     "873edc7bdae543ec8d2bea81b4d5b6a5": {
      "model_module": "@jupyter-widgets/base",
      "model_module_version": "1.2.0",
      "model_name": "LayoutModel",
      "state": {
       "_model_module": "@jupyter-widgets/base",
       "_model_module_version": "1.2.0",
       "_model_name": "LayoutModel",
       "_view_count": null,
       "_view_module": "@jupyter-widgets/base",
       "_view_module_version": "1.2.0",
       "_view_name": "LayoutView",
       "align_content": null,
       "align_items": null,
       "align_self": null,
       "border": null,
       "bottom": null,
       "display": null,
       "flex": null,
       "flex_flow": null,
       "grid_area": null,
       "grid_auto_columns": null,
       "grid_auto_flow": null,
       "grid_auto_rows": null,
       "grid_column": null,
       "grid_gap": null,
       "grid_row": null,
       "grid_template_areas": null,
       "grid_template_columns": null,
       "grid_template_rows": null,
       "height": null,
       "justify_content": null,
       "justify_items": null,
       "left": null,
       "margin": null,
       "max_height": null,
       "max_width": null,
       "min_height": null,
       "min_width": null,
       "object_fit": null,
       "object_position": null,
       "order": null,
       "overflow": null,
       "overflow_x": null,
       "overflow_y": null,
       "padding": null,
       "right": null,
       "top": null,
       "visibility": null,
       "width": null
      }
     },
     "895d1074a0f64cab81d7cc2f3852a139": {
      "model_module": "@jupyter-widgets/controls",
      "model_module_version": "1.5.0",
      "model_name": "DescriptionStyleModel",
      "state": {
       "_model_module": "@jupyter-widgets/controls",
       "_model_module_version": "1.5.0",
       "_model_name": "DescriptionStyleModel",
       "_view_count": null,
       "_view_module": "@jupyter-widgets/base",
       "_view_module_version": "1.2.0",
       "_view_name": "StyleView",
       "description_width": ""
      }
     },
     "8b27977cbdee4312b5c28c807fa90295": {
      "model_module": "@jupyter-widgets/base",
      "model_module_version": "1.2.0",
      "model_name": "LayoutModel",
      "state": {
       "_model_module": "@jupyter-widgets/base",
       "_model_module_version": "1.2.0",
       "_model_name": "LayoutModel",
       "_view_count": null,
       "_view_module": "@jupyter-widgets/base",
       "_view_module_version": "1.2.0",
       "_view_name": "LayoutView",
       "align_content": null,
       "align_items": null,
       "align_self": null,
       "border": null,
       "bottom": null,
       "display": null,
       "flex": null,
       "flex_flow": null,
       "grid_area": null,
       "grid_auto_columns": null,
       "grid_auto_flow": null,
       "grid_auto_rows": null,
       "grid_column": null,
       "grid_gap": null,
       "grid_row": null,
       "grid_template_areas": null,
       "grid_template_columns": null,
       "grid_template_rows": null,
       "height": null,
       "justify_content": null,
       "justify_items": null,
       "left": null,
       "margin": null,
       "max_height": null,
       "max_width": null,
       "min_height": null,
       "min_width": null,
       "object_fit": null,
       "object_position": null,
       "order": null,
       "overflow": null,
       "overflow_x": null,
       "overflow_y": null,
       "padding": null,
       "right": null,
       "top": null,
       "visibility": null,
       "width": null
      }
     },
     "8ba4239a48ba4b21b5711efa5caceffe": {
      "model_module": "@jupyter-widgets/controls",
      "model_module_version": "1.5.0",
      "model_name": "DescriptionStyleModel",
      "state": {
       "_model_module": "@jupyter-widgets/controls",
       "_model_module_version": "1.5.0",
       "_model_name": "DescriptionStyleModel",
       "_view_count": null,
       "_view_module": "@jupyter-widgets/base",
       "_view_module_version": "1.2.0",
       "_view_name": "StyleView",
       "description_width": ""
      }
     },
     "8e1dd98e6a304c18b268058c62cda5e2": {
      "model_module": "@jupyter-widgets/controls",
      "model_module_version": "1.5.0",
      "model_name": "FloatProgressModel",
      "state": {
       "_dom_classes": [],
       "_model_module": "@jupyter-widgets/controls",
       "_model_module_version": "1.5.0",
       "_model_name": "FloatProgressModel",
       "_view_count": null,
       "_view_module": "@jupyter-widgets/controls",
       "_view_module_version": "1.5.0",
       "_view_name": "ProgressView",
       "bar_style": "success",
       "description": "",
       "description_tooltip": null,
       "layout": "IPY_MODEL_6344d20e3f8f464ca0809946011d04ab",
       "max": 529930.0,
       "min": 0.0,
       "orientation": "horizontal",
       "style": "IPY_MODEL_872725a6a18c4bc787d0c3dedc716d93",
       "value": 529930.0
      }
     },
     "91bf7d3f99284a1d9db71e70900ac1f4": {
      "model_module": "@jupyter-widgets/controls",
      "model_module_version": "1.5.0",
      "model_name": "DescriptionStyleModel",
      "state": {
       "_model_module": "@jupyter-widgets/controls",
       "_model_module_version": "1.5.0",
       "_model_name": "DescriptionStyleModel",
       "_view_count": null,
       "_view_module": "@jupyter-widgets/base",
       "_view_module_version": "1.2.0",
       "_view_name": "StyleView",
       "description_width": ""
      }
     },
     "91c55b3451b24f0b92b4f34390184dd9": {
      "model_module": "@jupyter-widgets/controls",
      "model_module_version": "1.5.0",
      "model_name": "HTMLModel",
      "state": {
       "_dom_classes": [],
       "_model_module": "@jupyter-widgets/controls",
       "_model_module_version": "1.5.0",
       "_model_name": "HTMLModel",
       "_view_count": null,
       "_view_module": "@jupyter-widgets/controls",
       "_view_module_version": "1.5.0",
       "_view_name": "HTMLView",
       "description": "",
       "description_tooltip": null,
       "layout": "IPY_MODEL_a9efaa8cb24a4d8b87b92b410dd358b6",
       "placeholder": "​",
       "style": "IPY_MODEL_69eff31127bb42eaab16ca7f9838aeb7",
       "value": "config.json: 100%"
      }
     },
     "91e4534be10b4c7d9140a89101977dfb": {
      "model_module": "@jupyter-widgets/controls",
      "model_module_version": "1.5.0",
      "model_name": "FloatProgressModel",
      "state": {
       "_dom_classes": [],
       "_model_module": "@jupyter-widgets/controls",
       "_model_module_version": "1.5.0",
       "_model_name": "FloatProgressModel",
       "_view_count": null,
       "_view_module": "@jupyter-widgets/controls",
       "_view_module_version": "1.5.0",
       "_view_name": "ProgressView",
       "bar_style": "success",
       "description": "",
       "description_tooltip": null,
       "layout": "IPY_MODEL_a911e8aaeb4247d0866fa5c827f5c1bb",
       "max": 529930.0,
       "min": 0.0,
       "orientation": "horizontal",
       "style": "IPY_MODEL_b5c93c54d7d644bbbda798a1aa4e118d",
       "value": 529930.0
      }
     },
     "91f8f6b363684167b94c63dd322b18f6": {
      "model_module": "@jupyter-widgets/controls",
      "model_module_version": "1.5.0",
      "model_name": "FloatProgressModel",
      "state": {
       "_dom_classes": [],
       "_model_module": "@jupyter-widgets/controls",
       "_model_module_version": "1.5.0",
       "_model_name": "FloatProgressModel",
       "_view_count": null,
       "_view_module": "@jupyter-widgets/controls",
       "_view_module_version": "1.5.0",
       "_view_name": "ProgressView",
       "bar_style": "success",
       "description": "",
       "description_tooltip": null,
       "layout": "IPY_MODEL_507b2796bdd54196b1f3b5153c931b53",
       "max": 459.0,
       "min": 0.0,
       "orientation": "horizontal",
       "style": "IPY_MODEL_7b618bb39e6748b5b4afb9f92a482805",
       "value": 459.0
      }
     },
     "92313d35c28345dfb3c9bec4afda40a0": {
      "model_module": "@jupyter-widgets/base",
      "model_module_version": "1.2.0",
      "model_name": "LayoutModel",
      "state": {
       "_model_module": "@jupyter-widgets/base",
       "_model_module_version": "1.2.0",
       "_model_name": "LayoutModel",
       "_view_count": null,
       "_view_module": "@jupyter-widgets/base",
       "_view_module_version": "1.2.0",
       "_view_name": "LayoutView",
       "align_content": null,
       "align_items": null,
       "align_self": null,
       "border": null,
       "bottom": null,
       "display": null,
       "flex": null,
       "flex_flow": null,
       "grid_area": null,
       "grid_auto_columns": null,
       "grid_auto_flow": null,
       "grid_auto_rows": null,
       "grid_column": null,
       "grid_gap": null,
       "grid_row": null,
       "grid_template_areas": null,
       "grid_template_columns": null,
       "grid_template_rows": null,
       "height": null,
       "justify_content": null,
       "justify_items": null,
       "left": null,
       "margin": null,
       "max_height": null,
       "max_width": null,
       "min_height": null,
       "min_width": null,
       "object_fit": null,
       "object_position": null,
       "order": null,
       "overflow": null,
       "overflow_x": null,
       "overflow_y": null,
       "padding": null,
       "right": null,
       "top": null,
       "visibility": null,
       "width": null
      }
     },
     "9a30c31032ab4993be94a46b7a54e5a7": {
      "model_module": "@jupyter-widgets/controls",
      "model_module_version": "1.5.0",
      "model_name": "DescriptionStyleModel",
      "state": {
       "_model_module": "@jupyter-widgets/controls",
       "_model_module_version": "1.5.0",
       "_model_name": "DescriptionStyleModel",
       "_view_count": null,
       "_view_module": "@jupyter-widgets/base",
       "_view_module_version": "1.2.0",
       "_view_name": "StyleView",
       "description_width": ""
      }
     },
     "9bbeacdead264a3785e8ade65089b54f": {
      "model_module": "@jupyter-widgets/controls",
      "model_module_version": "1.5.0",
      "model_name": "DescriptionStyleModel",
      "state": {
       "_model_module": "@jupyter-widgets/controls",
       "_model_module_version": "1.5.0",
       "_model_name": "DescriptionStyleModel",
       "_view_count": null,
       "_view_module": "@jupyter-widgets/base",
       "_view_module_version": "1.2.0",
       "_view_name": "StyleView",
       "description_width": ""
      }
     },
     "9f6db722fddf4f2eb25bda293c9f4438": {
      "model_module": "@jupyter-widgets/base",
      "model_module_version": "1.2.0",
      "model_name": "LayoutModel",
      "state": {
       "_model_module": "@jupyter-widgets/base",
       "_model_module_version": "1.2.0",
       "_model_name": "LayoutModel",
       "_view_count": null,
       "_view_module": "@jupyter-widgets/base",
       "_view_module_version": "1.2.0",
       "_view_name": "LayoutView",
       "align_content": null,
       "align_items": null,
       "align_self": null,
       "border": null,
       "bottom": null,
       "display": null,
       "flex": null,
       "flex_flow": null,
       "grid_area": null,
       "grid_auto_columns": null,
       "grid_auto_flow": null,
       "grid_auto_rows": null,
       "grid_column": null,
       "grid_gap": null,
       "grid_row": null,
       "grid_template_areas": null,
       "grid_template_columns": null,
       "grid_template_rows": null,
       "height": null,
       "justify_content": null,
       "justify_items": null,
       "left": null,
       "margin": null,
       "max_height": null,
       "max_width": null,
       "min_height": null,
       "min_width": null,
       "object_fit": null,
       "object_position": null,
       "order": null,
       "overflow": null,
       "overflow_x": null,
       "overflow_y": null,
       "padding": null,
       "right": null,
       "top": null,
       "visibility": null,
       "width": null
      }
     },
     "a911e8aaeb4247d0866fa5c827f5c1bb": {
      "model_module": "@jupyter-widgets/base",
      "model_module_version": "1.2.0",
      "model_name": "LayoutModel",
      "state": {
       "_model_module": "@jupyter-widgets/base",
       "_model_module_version": "1.2.0",
       "_model_name": "LayoutModel",
       "_view_count": null,
       "_view_module": "@jupyter-widgets/base",
       "_view_module_version": "1.2.0",
       "_view_name": "LayoutView",
       "align_content": null,
       "align_items": null,
       "align_self": null,
       "border": null,
       "bottom": null,
       "display": null,
       "flex": null,
       "flex_flow": null,
       "grid_area": null,
       "grid_auto_columns": null,
       "grid_auto_flow": null,
       "grid_auto_rows": null,
       "grid_column": null,
       "grid_gap": null,
       "grid_row": null,
       "grid_template_areas": null,
       "grid_template_columns": null,
       "grid_template_rows": null,
       "height": null,
       "justify_content": null,
       "justify_items": null,
       "left": null,
       "margin": null,
       "max_height": null,
       "max_width": null,
       "min_height": null,
       "min_width": null,
       "object_fit": null,
       "object_position": null,
       "order": null,
       "overflow": null,
       "overflow_x": null,
       "overflow_y": null,
       "padding": null,
       "right": null,
       "top": null,
       "visibility": null,
       "width": null
      }
     },
     "a9e3f3bff6b74e98a4e52ee3c7a86b3a": {
      "model_module": "@jupyter-widgets/base",
      "model_module_version": "1.2.0",
      "model_name": "LayoutModel",
      "state": {
       "_model_module": "@jupyter-widgets/base",
       "_model_module_version": "1.2.0",
       "_model_name": "LayoutModel",
       "_view_count": null,
       "_view_module": "@jupyter-widgets/base",
       "_view_module_version": "1.2.0",
       "_view_name": "LayoutView",
       "align_content": null,
       "align_items": null,
       "align_self": null,
       "border": null,
       "bottom": null,
       "display": null,
       "flex": null,
       "flex_flow": null,
       "grid_area": null,
       "grid_auto_columns": null,
       "grid_auto_flow": null,
       "grid_auto_rows": null,
       "grid_column": null,
       "grid_gap": null,
       "grid_row": null,
       "grid_template_areas": null,
       "grid_template_columns": null,
       "grid_template_rows": null,
       "height": null,
       "justify_content": null,
       "justify_items": null,
       "left": null,
       "margin": null,
       "max_height": null,
       "max_width": null,
       "min_height": null,
       "min_width": null,
       "object_fit": null,
       "object_position": null,
       "order": null,
       "overflow": null,
       "overflow_x": null,
       "overflow_y": null,
       "padding": null,
       "right": null,
       "top": null,
       "visibility": null,
       "width": null
      }
     },
     "a9efaa8cb24a4d8b87b92b410dd358b6": {
      "model_module": "@jupyter-widgets/base",
      "model_module_version": "1.2.0",
      "model_name": "LayoutModel",
      "state": {
       "_model_module": "@jupyter-widgets/base",
       "_model_module_version": "1.2.0",
       "_model_name": "LayoutModel",
       "_view_count": null,
       "_view_module": "@jupyter-widgets/base",
       "_view_module_version": "1.2.0",
       "_view_name": "LayoutView",
       "align_content": null,
       "align_items": null,
       "align_self": null,
       "border": null,
       "bottom": null,
       "display": null,
       "flex": null,
       "flex_flow": null,
       "grid_area": null,
       "grid_auto_columns": null,
       "grid_auto_flow": null,
       "grid_auto_rows": null,
       "grid_column": null,
       "grid_gap": null,
       "grid_row": null,
       "grid_template_areas": null,
       "grid_template_columns": null,
       "grid_template_rows": null,
       "height": null,
       "justify_content": null,
       "justify_items": null,
       "left": null,
       "margin": null,
       "max_height": null,
       "max_width": null,
       "min_height": null,
       "min_width": null,
       "object_fit": null,
       "object_position": null,
       "order": null,
       "overflow": null,
       "overflow_x": null,
       "overflow_y": null,
       "padding": null,
       "right": null,
       "top": null,
       "visibility": null,
       "width": null
      }
     },
     "aa60000fc54a44b1bdd4c7cc38be3ba2": {
      "model_module": "@jupyter-widgets/controls",
      "model_module_version": "1.5.0",
      "model_name": "HTMLModel",
      "state": {
       "_dom_classes": [],
       "_model_module": "@jupyter-widgets/controls",
       "_model_module_version": "1.5.0",
       "_model_name": "HTMLModel",
       "_view_count": null,
       "_view_module": "@jupyter-widgets/controls",
       "_view_module_version": "1.5.0",
       "_view_name": "HTMLView",
       "description": "",
       "description_tooltip": null,
       "layout": "IPY_MODEL_57e37eb0955c4bdf8894767369a4cb9a",
       "placeholder": "​",
       "style": "IPY_MODEL_8ba4239a48ba4b21b5711efa5caceffe",
       "value": "config.json: 100%"
      }
     },
     "ad33b97718c4499cb9d0abc97b4ddc3e": {
      "model_module": "@jupyter-widgets/base",
      "model_module_version": "1.2.0",
      "model_name": "LayoutModel",
      "state": {
       "_model_module": "@jupyter-widgets/base",
       "_model_module_version": "1.2.0",
       "_model_name": "LayoutModel",
       "_view_count": null,
       "_view_module": "@jupyter-widgets/base",
       "_view_module_version": "1.2.0",
       "_view_name": "LayoutView",
       "align_content": null,
       "align_items": null,
       "align_self": null,
       "border": null,
       "bottom": null,
       "display": null,
       "flex": null,
       "flex_flow": null,
       "grid_area": null,
       "grid_auto_columns": null,
       "grid_auto_flow": null,
       "grid_auto_rows": null,
       "grid_column": null,
       "grid_gap": null,
       "grid_row": null,
       "grid_template_areas": null,
       "grid_template_columns": null,
       "grid_template_rows": null,
       "height": null,
       "justify_content": null,
       "justify_items": null,
       "left": null,
       "margin": null,
       "max_height": null,
       "max_width": null,
       "min_height": null,
       "min_width": null,
       "object_fit": null,
       "object_position": null,
       "order": null,
       "overflow": null,
       "overflow_x": null,
       "overflow_y": null,
       "padding": null,
       "right": null,
       "top": null,
       "visibility": null,
       "width": null
      }
     },
     "afbf9bbc3d97498fa41a1ae1b0f8ed4c": {
      "model_module": "@jupyter-widgets/base",
      "model_module_version": "1.2.0",
      "model_name": "LayoutModel",
      "state": {
       "_model_module": "@jupyter-widgets/base",
       "_model_module_version": "1.2.0",
       "_model_name": "LayoutModel",
       "_view_count": null,
       "_view_module": "@jupyter-widgets/base",
       "_view_module_version": "1.2.0",
       "_view_name": "LayoutView",
       "align_content": null,
       "align_items": null,
       "align_self": null,
       "border": null,
       "bottom": null,
       "display": null,
       "flex": null,
       "flex_flow": null,
       "grid_area": null,
       "grid_auto_columns": null,
       "grid_auto_flow": null,
       "grid_auto_rows": null,
       "grid_column": null,
       "grid_gap": null,
       "grid_row": null,
       "grid_template_areas": null,
       "grid_template_columns": null,
       "grid_template_rows": null,
       "height": null,
       "justify_content": null,
       "justify_items": null,
       "left": null,
       "margin": null,
       "max_height": null,
       "max_width": null,
       "min_height": null,
       "min_width": null,
       "object_fit": null,
       "object_position": null,
       "order": null,
       "overflow": null,
       "overflow_x": null,
       "overflow_y": null,
       "padding": null,
       "right": null,
       "top": null,
       "visibility": null,
       "width": null
      }
     },
     "b02789a9b985406dae7e6e42d45e78f9": {
      "model_module": "@jupyter-widgets/base",
      "model_module_version": "1.2.0",
      "model_name": "LayoutModel",
      "state": {
       "_model_module": "@jupyter-widgets/base",
       "_model_module_version": "1.2.0",
       "_model_name": "LayoutModel",
       "_view_count": null,
       "_view_module": "@jupyter-widgets/base",
       "_view_module_version": "1.2.0",
       "_view_name": "LayoutView",
       "align_content": null,
       "align_items": null,
       "align_self": null,
       "border": null,
       "bottom": null,
       "display": null,
       "flex": null,
       "flex_flow": null,
       "grid_area": null,
       "grid_auto_columns": null,
       "grid_auto_flow": null,
       "grid_auto_rows": null,
       "grid_column": null,
       "grid_gap": null,
       "grid_row": null,
       "grid_template_areas": null,
       "grid_template_columns": null,
       "grid_template_rows": null,
       "height": null,
       "justify_content": null,
       "justify_items": null,
       "left": null,
       "margin": null,
       "max_height": null,
       "max_width": null,
       "min_height": null,
       "min_width": null,
       "object_fit": null,
       "object_position": null,
       "order": null,
       "overflow": null,
       "overflow_x": null,
       "overflow_y": null,
       "padding": null,
       "right": null,
       "top": null,
       "visibility": null,
       "width": null
      }
     },
     "b5c93c54d7d644bbbda798a1aa4e118d": {
      "model_module": "@jupyter-widgets/controls",
      "model_module_version": "1.5.0",
      "model_name": "ProgressStyleModel",
      "state": {
       "_model_module": "@jupyter-widgets/controls",
       "_model_module_version": "1.5.0",
       "_model_name": "ProgressStyleModel",
       "_view_count": null,
       "_view_module": "@jupyter-widgets/base",
       "_view_module_version": "1.2.0",
       "_view_name": "StyleView",
       "bar_color": null,
       "description_width": ""
      }
     },
     "bcbfa2b8b9304949b23057d2574546ad": {
      "model_module": "@jupyter-widgets/controls",
      "model_module_version": "1.5.0",
      "model_name": "HTMLModel",
      "state": {
       "_dom_classes": [],
       "_model_module": "@jupyter-widgets/controls",
       "_model_module_version": "1.5.0",
       "_model_name": "HTMLModel",
       "_view_count": null,
       "_view_module": "@jupyter-widgets/controls",
       "_view_module_version": "1.5.0",
       "_view_name": "HTMLView",
       "description": "",
       "description_tooltip": null,
       "layout": "IPY_MODEL_78b328afb7594ca9974c8634dc8bea59",
       "placeholder": "​",
       "style": "IPY_MODEL_7a93d92bec4b4d1c9320734be219cdc3",
       "value": " 530k/530k [00:00&lt;00:00, 2.11MB/s]"
      }
     },
     "c01d0bd54ac14571b493f13ae44f7c55": {
      "model_module": "@jupyter-widgets/controls",
      "model_module_version": "1.5.0",
      "model_name": "HTMLModel",
      "state": {
       "_dom_classes": [],
       "_model_module": "@jupyter-widgets/controls",
       "_model_module_version": "1.5.0",
       "_model_name": "HTMLModel",
       "_view_count": null,
       "_view_module": "@jupyter-widgets/controls",
       "_view_module_version": "1.5.0",
       "_view_name": "HTMLView",
       "description": "",
       "description_tooltip": null,
       "layout": "IPY_MODEL_73387c67e0494193b22116de1c94ffb1",
       "placeholder": "​",
       "style": "IPY_MODEL_9a30c31032ab4993be94a46b7a54e5a7",
       "value": " 125/125 [00:00&lt;00:00, 9.79kB/s]"
      }
     },
     "c15ab38cb68d4a56bc550d015f0540cb": {
      "model_module": "@jupyter-widgets/base",
      "model_module_version": "1.2.0",
      "model_name": "LayoutModel",
      "state": {
       "_model_module": "@jupyter-widgets/base",
       "_model_module_version": "1.2.0",
       "_model_name": "LayoutModel",
       "_view_count": null,
       "_view_module": "@jupyter-widgets/base",
       "_view_module_version": "1.2.0",
       "_view_name": "LayoutView",
       "align_content": null,
       "align_items": null,
       "align_self": null,
       "border": null,
       "bottom": null,
       "display": null,
       "flex": null,
       "flex_flow": null,
       "grid_area": null,
       "grid_auto_columns": null,
       "grid_auto_flow": null,
       "grid_auto_rows": null,
       "grid_column": null,
       "grid_gap": null,
       "grid_row": null,
       "grid_template_areas": null,
       "grid_template_columns": null,
       "grid_template_rows": null,
       "height": null,
       "justify_content": null,
       "justify_items": null,
       "left": null,
       "margin": null,
       "max_height": null,
       "max_width": null,
       "min_height": null,
       "min_width": null,
       "object_fit": null,
       "object_position": null,
       "order": null,
       "overflow": null,
       "overflow_x": null,
       "overflow_y": null,
       "padding": null,
       "right": null,
       "top": null,
       "visibility": null,
       "width": null
      }
     },
     "c71e2f6138314db98a008fb57628d457": {
      "model_module": "@jupyter-widgets/controls",
      "model_module_version": "1.5.0",
      "model_name": "HBoxModel",
      "state": {
       "_dom_classes": [],
       "_model_module": "@jupyter-widgets/controls",
       "_model_module_version": "1.5.0",
       "_model_name": "HBoxModel",
       "_view_count": null,
       "_view_module": "@jupyter-widgets/controls",
       "_view_module_version": "1.5.0",
       "_view_name": "HBoxView",
       "box_style": "",
       "children": [
        "IPY_MODEL_497807d8a2694ebbb50897e7387f9f8a",
        "IPY_MODEL_91e4534be10b4c7d9140a89101977dfb",
        "IPY_MODEL_bcbfa2b8b9304949b23057d2574546ad"
       ],
       "layout": "IPY_MODEL_fc28c5af4f72445f9638a1693ed4e236"
      }
     },
     "c73d877aaceb492cbae4246f4aa0bcb3": {
      "model_module": "@jupyter-widgets/controls",
      "model_module_version": "1.5.0",
      "model_name": "DescriptionStyleModel",
      "state": {
       "_model_module": "@jupyter-widgets/controls",
       "_model_module_version": "1.5.0",
       "_model_name": "DescriptionStyleModel",
       "_view_count": null,
       "_view_module": "@jupyter-widgets/base",
       "_view_module_version": "1.2.0",
       "_view_name": "StyleView",
       "description_width": ""
      }
     },
     "c8a2f1c0ce7b4cef86cc791757381552": {
      "model_module": "@jupyter-widgets/controls",
      "model_module_version": "1.5.0",
      "model_name": "ProgressStyleModel",
      "state": {
       "_model_module": "@jupyter-widgets/controls",
       "_model_module_version": "1.5.0",
       "_model_name": "ProgressStyleModel",
       "_view_count": null,
       "_view_module": "@jupyter-widgets/base",
       "_view_module_version": "1.2.0",
       "_view_name": "StyleView",
       "bar_color": null,
       "description_width": ""
      }
     },
     "cad283b680cd4ee5ba3a32210f1e789c": {
      "model_module": "@jupyter-widgets/controls",
      "model_module_version": "1.5.0",
      "model_name": "DescriptionStyleModel",
      "state": {
       "_model_module": "@jupyter-widgets/controls",
       "_model_module_version": "1.5.0",
       "_model_name": "DescriptionStyleModel",
       "_view_count": null,
       "_view_module": "@jupyter-widgets/base",
       "_view_module_version": "1.2.0",
       "_view_name": "StyleView",
       "description_width": ""
      }
     },
     "cdd509fa2b2d4d24ad8deb1fc951b011": {
      "model_module": "@jupyter-widgets/controls",
      "model_module_version": "1.5.0",
      "model_name": "ProgressStyleModel",
      "state": {
       "_model_module": "@jupyter-widgets/controls",
       "_model_module_version": "1.5.0",
       "_model_name": "ProgressStyleModel",
       "_view_count": null,
       "_view_module": "@jupyter-widgets/base",
       "_view_module_version": "1.2.0",
       "_view_name": "StyleView",
       "bar_color": null,
       "description_width": ""
      }
     },
     "cf8429ab87c1432c8e921648db61d0be": {
      "model_module": "@jupyter-widgets/controls",
      "model_module_version": "1.5.0",
      "model_name": "HTMLModel",
      "state": {
       "_dom_classes": [],
       "_model_module": "@jupyter-widgets/controls",
       "_model_module_version": "1.5.0",
       "_model_name": "HTMLModel",
       "_view_count": null,
       "_view_module": "@jupyter-widgets/controls",
       "_view_module_version": "1.5.0",
       "_view_name": "HTMLView",
       "description": "",
       "description_tooltip": null,
       "layout": "IPY_MODEL_5079e5d8a3c94796a5c942fddf9611b9",
       "placeholder": "​",
       "style": "IPY_MODEL_3ad73e8de1fd4c87bea2064adcd7f561",
       "value": " 454M/454M [00:01&lt;00:00, 335MB/s]"
      }
     },
     "d03f0f8a733d4222b9e89e318ffea99b": {
      "model_module": "@jupyter-widgets/base",
      "model_module_version": "1.2.0",
      "model_name": "LayoutModel",
      "state": {
       "_model_module": "@jupyter-widgets/base",
       "_model_module_version": "1.2.0",
       "_model_name": "LayoutModel",
       "_view_count": null,
       "_view_module": "@jupyter-widgets/base",
       "_view_module_version": "1.2.0",
       "_view_name": "LayoutView",
       "align_content": null,
       "align_items": null,
       "align_self": null,
       "border": null,
       "bottom": null,
       "display": null,
       "flex": null,
       "flex_flow": null,
       "grid_area": null,
       "grid_auto_columns": null,
       "grid_auto_flow": null,
       "grid_auto_rows": null,
       "grid_column": null,
       "grid_gap": null,
       "grid_row": null,
       "grid_template_areas": null,
       "grid_template_columns": null,
       "grid_template_rows": null,
       "height": null,
       "justify_content": null,
       "justify_items": null,
       "left": null,
       "margin": null,
       "max_height": null,
       "max_width": null,
       "min_height": null,
       "min_width": null,
       "object_fit": null,
       "object_position": null,
       "order": null,
       "overflow": null,
       "overflow_x": null,
       "overflow_y": null,
       "padding": null,
       "right": null,
       "top": null,
       "visibility": null,
       "width": null
      }
     },
     "d3b140e0665c425cac4a1f0439a87fb9": {
      "model_module": "@jupyter-widgets/base",
      "model_module_version": "1.2.0",
      "model_name": "LayoutModel",
      "state": {
       "_model_module": "@jupyter-widgets/base",
       "_model_module_version": "1.2.0",
       "_model_name": "LayoutModel",
       "_view_count": null,
       "_view_module": "@jupyter-widgets/base",
       "_view_module_version": "1.2.0",
       "_view_name": "LayoutView",
       "align_content": null,
       "align_items": null,
       "align_self": null,
       "border": null,
       "bottom": null,
       "display": null,
       "flex": null,
       "flex_flow": null,
       "grid_area": null,
       "grid_auto_columns": null,
       "grid_auto_flow": null,
       "grid_auto_rows": null,
       "grid_column": null,
       "grid_gap": null,
       "grid_row": null,
       "grid_template_areas": null,
       "grid_template_columns": null,
       "grid_template_rows": null,
       "height": null,
       "justify_content": null,
       "justify_items": null,
       "left": null,
       "margin": null,
       "max_height": null,
       "max_width": null,
       "min_height": null,
       "min_width": null,
       "object_fit": null,
       "object_position": null,
       "order": null,
       "overflow": null,
       "overflow_x": null,
       "overflow_y": null,
       "padding": null,
       "right": null,
       "top": null,
       "visibility": null,
       "width": null
      }
     },
     "d40c050fdb0c42c39e254bbb73dc2539": {
      "model_module": "@jupyter-widgets/controls",
      "model_module_version": "1.5.0",
      "model_name": "FloatProgressModel",
      "state": {
       "_dom_classes": [],
       "_model_module": "@jupyter-widgets/controls",
       "_model_module_version": "1.5.0",
       "_model_name": "FloatProgressModel",
       "_view_count": null,
       "_view_module": "@jupyter-widgets/controls",
       "_view_module_version": "1.5.0",
       "_view_name": "ProgressView",
       "bar_style": "success",
       "description": "",
       "description_tooltip": null,
       "layout": "IPY_MODEL_5b5367e6cfe94200be4c9d85ed9f86ee",
       "max": 540.0,
       "min": 0.0,
       "orientation": "horizontal",
       "style": "IPY_MODEL_35e9f91ef85a4e6199c1d0d472ae5bb1",
       "value": 540.0
      }
     },
     "d5e55a4bbfd74a51b9c7e49988bfa5e5": {
      "model_module": "@jupyter-widgets/base",
      "model_module_version": "1.2.0",
      "model_name": "LayoutModel",
      "state": {
       "_model_module": "@jupyter-widgets/base",
       "_model_module_version": "1.2.0",
       "_model_name": "LayoutModel",
       "_view_count": null,
       "_view_module": "@jupyter-widgets/base",
       "_view_module_version": "1.2.0",
       "_view_name": "LayoutView",
       "align_content": null,
       "align_items": null,
       "align_self": null,
       "border": null,
       "bottom": null,
       "display": null,
       "flex": null,
       "flex_flow": null,
       "grid_area": null,
       "grid_auto_columns": null,
       "grid_auto_flow": null,
       "grid_auto_rows": null,
       "grid_column": null,
       "grid_gap": null,
       "grid_row": null,
       "grid_template_areas": null,
       "grid_template_columns": null,
       "grid_template_rows": null,
       "height": null,
       "justify_content": null,
       "justify_items": null,
       "left": null,
       "margin": null,
       "max_height": null,
       "max_width": null,
       "min_height": null,
       "min_width": null,
       "object_fit": null,
       "object_position": null,
       "order": null,
       "overflow": null,
       "overflow_x": null,
       "overflow_y": null,
       "padding": null,
       "right": null,
       "top": null,
       "visibility": null,
       "width": null
      }
     },
     "d6c1c785186d4f2292c26acc238d3c44": {
      "model_module": "@jupyter-widgets/controls",
      "model_module_version": "1.5.0",
      "model_name": "FloatProgressModel",
      "state": {
       "_dom_classes": [],
       "_model_module": "@jupyter-widgets/controls",
       "_model_module_version": "1.5.0",
       "_model_name": "FloatProgressModel",
       "_view_count": null,
       "_view_module": "@jupyter-widgets/controls",
       "_view_module_version": "1.5.0",
       "_view_name": "ProgressView",
       "bar_style": "success",
       "description": "",
       "description_tooltip": null,
       "layout": "IPY_MODEL_d3b140e0665c425cac4a1f0439a87fb9",
       "max": 2.0,
       "min": 0.0,
       "orientation": "horizontal",
       "style": "IPY_MODEL_c8a2f1c0ce7b4cef86cc791757381552",
       "value": 2.0
      }
     },
     "d7a3e4a40b2e438eabac0150c5325d99": {
      "model_module": "@jupyter-widgets/base",
      "model_module_version": "1.2.0",
      "model_name": "LayoutModel",
      "state": {
       "_model_module": "@jupyter-widgets/base",
       "_model_module_version": "1.2.0",
       "_model_name": "LayoutModel",
       "_view_count": null,
       "_view_module": "@jupyter-widgets/base",
       "_view_module_version": "1.2.0",
       "_view_name": "LayoutView",
       "align_content": null,
       "align_items": null,
       "align_self": null,
       "border": null,
       "bottom": null,
       "display": null,
       "flex": null,
       "flex_flow": null,
       "grid_area": null,
       "grid_auto_columns": null,
       "grid_auto_flow": null,
       "grid_auto_rows": null,
       "grid_column": null,
       "grid_gap": null,
       "grid_row": null,
       "grid_template_areas": null,
       "grid_template_columns": null,
       "grid_template_rows": null,
       "height": null,
       "justify_content": null,
       "justify_items": null,
       "left": null,
       "margin": null,
       "max_height": null,
       "max_width": null,
       "min_height": null,
       "min_width": null,
       "object_fit": null,
       "object_position": null,
       "order": null,
       "overflow": null,
       "overflow_x": null,
       "overflow_y": null,
       "padding": null,
       "right": null,
       "top": null,
       "visibility": null,
       "width": null
      }
     },
     "d8ed5e40cb264c9092b3d85c67f3cea4": {
      "model_module": "@jupyter-widgets/controls",
      "model_module_version": "1.5.0",
      "model_name": "HBoxModel",
      "state": {
       "_dom_classes": [],
       "_model_module": "@jupyter-widgets/controls",
       "_model_module_version": "1.5.0",
       "_model_name": "HBoxModel",
       "_view_count": null,
       "_view_module": "@jupyter-widgets/controls",
       "_view_module_version": "1.5.0",
       "_view_name": "HBoxView",
       "box_style": "",
       "children": [
        "IPY_MODEL_2f64cab9bd354bf1bc540539258e4c9c",
        "IPY_MODEL_1238604caa5c40faa2ef743f93f7fe2a",
        "IPY_MODEL_c01d0bd54ac14571b493f13ae44f7c55"
       ],
       "layout": "IPY_MODEL_d7a3e4a40b2e438eabac0150c5325d99"
      }
     },
     "dece6b11f70941428d87238612d5c545": {
      "model_module": "@jupyter-widgets/controls",
      "model_module_version": "1.5.0",
      "model_name": "HTMLModel",
      "state": {
       "_dom_classes": [],
       "_model_module": "@jupyter-widgets/controls",
       "_model_module_version": "1.5.0",
       "_model_name": "HTMLModel",
       "_view_count": null,
       "_view_module": "@jupyter-widgets/controls",
       "_view_module_version": "1.5.0",
       "_view_name": "HTMLView",
       "description": "",
       "description_tooltip": null,
       "layout": "IPY_MODEL_c15ab38cb68d4a56bc550d015f0540cb",
       "placeholder": "​",
       "style": "IPY_MODEL_9bbeacdead264a3785e8ade65089b54f",
       "value": "tokenizer_config.json: 100%"
      }
     },
     "e0c15677175a41b99709bf163a77686d": {
      "model_module": "@jupyter-widgets/controls",
      "model_module_version": "1.5.0",
      "model_name": "DescriptionStyleModel",
      "state": {
       "_model_module": "@jupyter-widgets/controls",
       "_model_module_version": "1.5.0",
       "_model_name": "DescriptionStyleModel",
       "_view_count": null,
       "_view_module": "@jupyter-widgets/base",
       "_view_module_version": "1.2.0",
       "_view_name": "StyleView",
       "description_width": ""
      }
     },
     "e16ed65d589b48b9b48ffa3e9959b6ee": {
      "model_module": "@jupyter-widgets/controls",
      "model_module_version": "1.5.0",
      "model_name": "DescriptionStyleModel",
      "state": {
       "_model_module": "@jupyter-widgets/controls",
       "_model_module_version": "1.5.0",
       "_model_name": "DescriptionStyleModel",
       "_view_count": null,
       "_view_module": "@jupyter-widgets/base",
       "_view_module_version": "1.2.0",
       "_view_name": "StyleView",
       "description_width": ""
      }
     },
     "e17c7aa76d2b4ecc9fcdf36e61783bda": {
      "model_module": "@jupyter-widgets/controls",
      "model_module_version": "1.5.0",
      "model_name": "DescriptionStyleModel",
      "state": {
       "_model_module": "@jupyter-widgets/controls",
       "_model_module_version": "1.5.0",
       "_model_name": "DescriptionStyleModel",
       "_view_count": null,
       "_view_module": "@jupyter-widgets/base",
       "_view_module_version": "1.2.0",
       "_view_name": "StyleView",
       "description_width": ""
      }
     },
     "e7aa332463284f0ba4fa83ed4c42dd58": {
      "model_module": "@jupyter-widgets/controls",
      "model_module_version": "1.5.0",
      "model_name": "HBoxModel",
      "state": {
       "_dom_classes": [],
       "_model_module": "@jupyter-widgets/controls",
       "_model_module_version": "1.5.0",
       "_model_name": "HBoxModel",
       "_view_count": null,
       "_view_module": "@jupyter-widgets/controls",
       "_view_module_version": "1.5.0",
       "_view_name": "HBoxView",
       "box_style": "",
       "children": [
        "IPY_MODEL_dece6b11f70941428d87238612d5c545",
        "IPY_MODEL_d6c1c785186d4f2292c26acc238d3c44",
        "IPY_MODEL_ec92b30659c04809a04a9670b0dfd45f"
       ],
       "layout": "IPY_MODEL_92313d35c28345dfb3c9bec4afda40a0"
      }
     },
     "e9174250f2824c419315a9271f4e748e": {
      "model_module": "@jupyter-widgets/base",
      "model_module_version": "1.2.0",
      "model_name": "LayoutModel",
      "state": {
       "_model_module": "@jupyter-widgets/base",
       "_model_module_version": "1.2.0",
       "_model_name": "LayoutModel",
       "_view_count": null,
       "_view_module": "@jupyter-widgets/base",
       "_view_module_version": "1.2.0",
       "_view_name": "LayoutView",
       "align_content": null,
       "align_items": null,
       "align_self": null,
       "border": null,
       "bottom": null,
       "display": null,
       "flex": null,
       "flex_flow": null,
       "grid_area": null,
       "grid_auto_columns": null,
       "grid_auto_flow": null,
       "grid_auto_rows": null,
       "grid_column": null,
       "grid_gap": null,
       "grid_row": null,
       "grid_template_areas": null,
       "grid_template_columns": null,
       "grid_template_rows": null,
       "height": null,
       "justify_content": null,
       "justify_items": null,
       "left": null,
       "margin": null,
       "max_height": null,
       "max_width": null,
       "min_height": null,
       "min_width": null,
       "object_fit": null,
       "object_position": null,
       "order": null,
       "overflow": null,
       "overflow_x": null,
       "overflow_y": null,
       "padding": null,
       "right": null,
       "top": null,
       "visibility": null,
       "width": null
      }
     },
     "ea12d73cdb5a43fc877bf224e000b5aa": {
      "model_module": "@jupyter-widgets/controls",
      "model_module_version": "1.5.0",
      "model_name": "FloatProgressModel",
      "state": {
       "_dom_classes": [],
       "_model_module": "@jupyter-widgets/controls",
       "_model_module_version": "1.5.0",
       "_model_name": "FloatProgressModel",
       "_view_count": null,
       "_view_module": "@jupyter-widgets/controls",
       "_view_module_version": "1.5.0",
       "_view_name": "ProgressView",
       "bar_style": "success",
       "description": "",
       "description_tooltip": null,
       "layout": "IPY_MODEL_ef9ee1a66db4437d8a59542454516f11",
       "max": 112.0,
       "min": 0.0,
       "orientation": "horizontal",
       "style": "IPY_MODEL_037fe2ffd107474fa660c65ffdc92015",
       "value": 112.0
      }
     },
     "ec92b30659c04809a04a9670b0dfd45f": {
      "model_module": "@jupyter-widgets/controls",
      "model_module_version": "1.5.0",
      "model_name": "HTMLModel",
      "state": {
       "_dom_classes": [],
       "_model_module": "@jupyter-widgets/controls",
       "_model_module_version": "1.5.0",
       "_model_name": "HTMLModel",
       "_view_count": null,
       "_view_module": "@jupyter-widgets/controls",
       "_view_module_version": "1.5.0",
       "_view_name": "HTMLView",
       "description": "",
       "description_tooltip": null,
       "layout": "IPY_MODEL_8b27977cbdee4312b5c28c807fa90295",
       "placeholder": "​",
       "style": "IPY_MODEL_1fb23f1c8c984f2e8d110d02d59493e3",
       "value": " 2.00/2.00 [00:00&lt;00:00, 160B/s]"
      }
     },
     "ef9ee1a66db4437d8a59542454516f11": {
      "model_module": "@jupyter-widgets/base",
      "model_module_version": "1.2.0",
      "model_name": "LayoutModel",
      "state": {
       "_model_module": "@jupyter-widgets/base",
       "_model_module_version": "1.2.0",
       "_model_name": "LayoutModel",
       "_view_count": null,
       "_view_module": "@jupyter-widgets/base",
       "_view_module_version": "1.2.0",
       "_view_name": "LayoutView",
       "align_content": null,
       "align_items": null,
       "align_self": null,
       "border": null,
       "bottom": null,
       "display": null,
       "flex": null,
       "flex_flow": null,
       "grid_area": null,
       "grid_auto_columns": null,
       "grid_auto_flow": null,
       "grid_auto_rows": null,
       "grid_column": null,
       "grid_gap": null,
       "grid_row": null,
       "grid_template_areas": null,
       "grid_template_columns": null,
       "grid_template_rows": null,
       "height": null,
       "justify_content": null,
       "justify_items": null,
       "left": null,
       "margin": null,
       "max_height": null,
       "max_width": null,
       "min_height": null,
       "min_width": null,
       "object_fit": null,
       "object_position": null,
       "order": null,
       "overflow": null,
       "overflow_x": null,
       "overflow_y": null,
       "padding": null,
       "right": null,
       "top": null,
       "visibility": null,
       "width": null
      }
     },
     "f61f4a3d634d4e3b8706f9862b60c5a5": {
      "model_module": "@jupyter-widgets/controls",
      "model_module_version": "1.5.0",
      "model_name": "HBoxModel",
      "state": {
       "_dom_classes": [],
       "_model_module": "@jupyter-widgets/controls",
       "_model_module_version": "1.5.0",
       "_model_name": "HBoxModel",
       "_view_count": null,
       "_view_module": "@jupyter-widgets/controls",
       "_view_module_version": "1.5.0",
       "_view_name": "HBoxView",
       "box_style": "",
       "children": [
        "IPY_MODEL_fab5655c06c0432d85765bb5fc247dea",
        "IPY_MODEL_ea12d73cdb5a43fc877bf224e000b5aa",
        "IPY_MODEL_1117163ae7334f1b9f2bfd0688603e94"
       ],
       "layout": "IPY_MODEL_63a2035f60f6420ebe4176163fdaabb6"
      }
     },
     "f6dcde245657403e802cd0f173e6c356": {
      "model_module": "@jupyter-widgets/base",
      "model_module_version": "1.2.0",
      "model_name": "LayoutModel",
      "state": {
       "_model_module": "@jupyter-widgets/base",
       "_model_module_version": "1.2.0",
       "_model_name": "LayoutModel",
       "_view_count": null,
       "_view_module": "@jupyter-widgets/base",
       "_view_module_version": "1.2.0",
       "_view_name": "LayoutView",
       "align_content": null,
       "align_items": null,
       "align_self": null,
       "border": null,
       "bottom": null,
       "display": null,
       "flex": null,
       "flex_flow": null,
       "grid_area": null,
       "grid_auto_columns": null,
       "grid_auto_flow": null,
       "grid_auto_rows": null,
       "grid_column": null,
       "grid_gap": null,
       "grid_row": null,
       "grid_template_areas": null,
       "grid_template_columns": null,
       "grid_template_rows": null,
       "height": null,
       "justify_content": null,
       "justify_items": null,
       "left": null,
       "margin": null,
       "max_height": null,
       "max_width": null,
       "min_height": null,
       "min_width": null,
       "object_fit": null,
       "object_position": null,
       "order": null,
       "overflow": null,
       "overflow_x": null,
       "overflow_y": null,
       "padding": null,
       "right": null,
       "top": null,
       "visibility": null,
       "width": null
      }
     },
     "fab5655c06c0432d85765bb5fc247dea": {
      "model_module": "@jupyter-widgets/controls",
      "model_module_version": "1.5.0",
      "model_name": "HTMLModel",
      "state": {
       "_dom_classes": [],
       "_model_module": "@jupyter-widgets/controls",
       "_model_module_version": "1.5.0",
       "_model_name": "HTMLModel",
       "_view_count": null,
       "_view_module": "@jupyter-widgets/controls",
       "_view_module_version": "1.5.0",
       "_view_name": "HTMLView",
       "description": "",
       "description_tooltip": null,
       "layout": "IPY_MODEL_119f4388b27243ba8f823ad3e38c7b40",
       "placeholder": "​",
       "style": "IPY_MODEL_e16ed65d589b48b9b48ffa3e9959b6ee",
       "value": "special_tokens_map.json: 100%"
      }
     },
     "fc033ab4365c4e66b42d2fff8a37a1db": {
      "model_module": "@jupyter-widgets/controls",
      "model_module_version": "1.5.0",
      "model_name": "HTMLModel",
      "state": {
       "_dom_classes": [],
       "_model_module": "@jupyter-widgets/controls",
       "_model_module_version": "1.5.0",
       "_model_name": "HTMLModel",
       "_view_count": null,
       "_view_module": "@jupyter-widgets/controls",
       "_view_module_version": "1.5.0",
       "_view_name": "HTMLView",
       "description": "",
       "description_tooltip": null,
       "layout": "IPY_MODEL_873edc7bdae543ec8d2bea81b4d5b6a5",
       "placeholder": "​",
       "style": "IPY_MODEL_c73d877aaceb492cbae4246f4aa0bcb3",
       "value": "vocab.txt: 100%"
      }
     },
     "fc28c5af4f72445f9638a1693ed4e236": {
      "model_module": "@jupyter-widgets/base",
      "model_module_version": "1.2.0",
      "model_name": "LayoutModel",
      "state": {
       "_model_module": "@jupyter-widgets/base",
       "_model_module_version": "1.2.0",
       "_model_name": "LayoutModel",
       "_view_count": null,
       "_view_module": "@jupyter-widgets/base",
       "_view_module_version": "1.2.0",
       "_view_name": "LayoutView",
       "align_content": null,
       "align_items": null,
       "align_self": null,
       "border": null,
       "bottom": null,
       "display": null,
       "flex": null,
       "flex_flow": null,
       "grid_area": null,
       "grid_auto_columns": null,
       "grid_auto_flow": null,
       "grid_auto_rows": null,
       "grid_column": null,
       "grid_gap": null,
       "grid_row": null,
       "grid_template_areas": null,
       "grid_template_columns": null,
       "grid_template_rows": null,
       "height": null,
       "justify_content": null,
       "justify_items": null,
       "left": null,
       "margin": null,
       "max_height": null,
       "max_width": null,
       "min_height": null,
       "min_width": null,
       "object_fit": null,
       "object_position": null,
       "order": null,
       "overflow": null,
       "overflow_x": null,
       "overflow_y": null,
       "padding": null,
       "right": null,
       "top": null,
       "visibility": null,
       "width": null
      }
     },
     "fcc85fd587954fb8a129d002b2093205": {
      "model_module": "@jupyter-widgets/base",
      "model_module_version": "1.2.0",
      "model_name": "LayoutModel",
      "state": {
       "_model_module": "@jupyter-widgets/base",
       "_model_module_version": "1.2.0",
       "_model_name": "LayoutModel",
       "_view_count": null,
       "_view_module": "@jupyter-widgets/base",
       "_view_module_version": "1.2.0",
       "_view_name": "LayoutView",
       "align_content": null,
       "align_items": null,
       "align_self": null,
       "border": null,
       "bottom": null,
       "display": null,
       "flex": null,
       "flex_flow": null,
       "grid_area": null,
       "grid_auto_columns": null,
       "grid_auto_flow": null,
       "grid_auto_rows": null,
       "grid_column": null,
       "grid_gap": null,
       "grid_row": null,
       "grid_template_areas": null,
       "grid_template_columns": null,
       "grid_template_rows": null,
       "height": null,
       "justify_content": null,
       "justify_items": null,
       "left": null,
       "margin": null,
       "max_height": null,
       "max_width": null,
       "min_height": null,
       "min_width": null,
       "object_fit": null,
       "object_position": null,
       "order": null,
       "overflow": null,
       "overflow_x": null,
       "overflow_y": null,
       "padding": null,
       "right": null,
       "top": null,
       "visibility": null,
       "width": null
      }
     },
     "ff1beb82d76c4f19a3ca43471530da5d": {
      "model_module": "@jupyter-widgets/base",
      "model_module_version": "1.2.0",
      "model_name": "LayoutModel",
      "state": {
       "_model_module": "@jupyter-widgets/base",
       "_model_module_version": "1.2.0",
       "_model_name": "LayoutModel",
       "_view_count": null,
       "_view_module": "@jupyter-widgets/base",
       "_view_module_version": "1.2.0",
       "_view_name": "LayoutView",
       "align_content": null,
       "align_items": null,
       "align_self": null,
       "border": null,
       "bottom": null,
       "display": null,
       "flex": null,
       "flex_flow": null,
       "grid_area": null,
       "grid_auto_columns": null,
       "grid_auto_flow": null,
       "grid_auto_rows": null,
       "grid_column": null,
       "grid_gap": null,
       "grid_row": null,
       "grid_template_areas": null,
       "grid_template_columns": null,
       "grid_template_rows": null,
       "height": null,
       "justify_content": null,
       "justify_items": null,
       "left": null,
       "margin": null,
       "max_height": null,
       "max_width": null,
       "min_height": null,
       "min_width": null,
       "object_fit": null,
       "object_position": null,
       "order": null,
       "overflow": null,
       "overflow_x": null,
       "overflow_y": null,
       "padding": null,
       "right": null,
       "top": null,
       "visibility": null,
       "width": null
      }
     }
    },
    "version_major": 2,
    "version_minor": 0
   }
  }
 },
 "nbformat": 4,
 "nbformat_minor": 5
}
